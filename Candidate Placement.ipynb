{
 "cells": [
  {
   "cell_type": "markdown",
   "metadata": {},
   "source": [
    "# Candidate Placement**"
   ]
  },
  {
   "cell_type": "markdown",
   "metadata": {},
   "source": [
    "This project deals with predicting whether a student/ person enrolled in a recruitment company will get placed in the industry and the time it shall take in the process. The candidate has the option to withdraw during the first 2 weeks of the trial phase."
   ]
  },
  {
   "cell_type": "markdown",
   "metadata": {},
   "source": [
    "## Step 1: Data Question\n",
    "\n",
    "#### Will the candidate be placed and if yes how long will it take for them to get placed?\n",
    "\n",
    "\n",
    "** many of the output have been hided, please remove the ; to view that output if you want to see the output<br>\n",
    "** Data source: private unit publish with consent"
   ]
  },
  {
   "cell_type": "markdown",
   "metadata": {},
   "source": [
    "## Step 2: Get and Clean Data"
   ]
  },
  {
   "cell_type": "code",
   "execution_count": 59,
   "metadata": {},
   "outputs": [],
   "source": [
    "import pandas as pd"
   ]
  },
  {
   "cell_type": "code",
   "execution_count": 60,
   "metadata": {},
   "outputs": [],
   "source": [
    "import warnings\n",
    "warnings.simplefilter(action='ignore', category=FutureWarning)\n",
    "warnings.simplefilter(action='ignore', category=Warning)"
   ]
  },
  {
   "cell_type": "code",
   "execution_count": 61,
   "metadata": {},
   "outputs": [],
   "source": [
    "import numpy as np\n",
    "work = pd.read_excel(\"Data_Pathrise.xlsx\") # data source private xlsx file"
   ]
  },
  {
   "cell_type": "code",
   "execution_count": 62,
   "metadata": {},
   "outputs": [],
   "source": [
    "work.head();"
   ]
  },
  {
   "cell_type": "code",
   "execution_count": 63,
   "metadata": {},
   "outputs": [
    {
     "data": {
      "text/html": [
       "<div>\n",
       "<style scoped>\n",
       "    .dataframe tbody tr th:only-of-type {\n",
       "        vertical-align: middle;\n",
       "    }\n",
       "\n",
       "    .dataframe tbody tr th {\n",
       "        vertical-align: top;\n",
       "    }\n",
       "\n",
       "    .dataframe thead th {\n",
       "        text-align: right;\n",
       "    }\n",
       "</style>\n",
       "<table border=\"1\" class=\"dataframe\">\n",
       "  <thead>\n",
       "    <tr style=\"text-align: right;\">\n",
       "      <th></th>\n",
       "      <th>count</th>\n",
       "      <th>mean</th>\n",
       "      <th>std</th>\n",
       "      <th>min</th>\n",
       "      <th>25%</th>\n",
       "      <th>50%</th>\n",
       "      <th>75%</th>\n",
       "      <th>max</th>\n",
       "    </tr>\n",
       "  </thead>\n",
       "  <tbody>\n",
       "    <tr>\n",
       "      <th>id</th>\n",
       "      <td>2544.0</td>\n",
       "      <td>1272.500000</td>\n",
       "      <td>734.533866</td>\n",
       "      <td>1.0</td>\n",
       "      <td>636.75</td>\n",
       "      <td>1272.5</td>\n",
       "      <td>1908.25</td>\n",
       "      <td>2544.0</td>\n",
       "    </tr>\n",
       "    <tr>\n",
       "      <th>program_duration_days</th>\n",
       "      <td>1928.0</td>\n",
       "      <td>136.098548</td>\n",
       "      <td>125.860248</td>\n",
       "      <td>0.0</td>\n",
       "      <td>14.00</td>\n",
       "      <td>112.0</td>\n",
       "      <td>224.00</td>\n",
       "      <td>548.0</td>\n",
       "    </tr>\n",
       "    <tr>\n",
       "      <th>placed</th>\n",
       "      <td>2544.0</td>\n",
       "      <td>0.375786</td>\n",
       "      <td>0.484420</td>\n",
       "      <td>0.0</td>\n",
       "      <td>0.00</td>\n",
       "      <td>0.0</td>\n",
       "      <td>1.00</td>\n",
       "      <td>1.0</td>\n",
       "    </tr>\n",
       "    <tr>\n",
       "      <th>number_of_interviews</th>\n",
       "      <td>2326.0</td>\n",
       "      <td>2.182287</td>\n",
       "      <td>2.959273</td>\n",
       "      <td>0.0</td>\n",
       "      <td>0.00</td>\n",
       "      <td>1.0</td>\n",
       "      <td>3.00</td>\n",
       "      <td>20.0</td>\n",
       "    </tr>\n",
       "    <tr>\n",
       "      <th>number_of_applications</th>\n",
       "      <td>2544.0</td>\n",
       "      <td>36.500786</td>\n",
       "      <td>53.654896</td>\n",
       "      <td>0.0</td>\n",
       "      <td>9.00</td>\n",
       "      <td>20.0</td>\n",
       "      <td>45.00</td>\n",
       "      <td>1000.0</td>\n",
       "    </tr>\n",
       "  </tbody>\n",
       "</table>\n",
       "</div>"
      ],
      "text/plain": [
       "                         count         mean         std  min     25%     50%  \\\n",
       "id                      2544.0  1272.500000  734.533866  1.0  636.75  1272.5   \n",
       "program_duration_days   1928.0   136.098548  125.860248  0.0   14.00   112.0   \n",
       "placed                  2544.0     0.375786    0.484420  0.0    0.00     0.0   \n",
       "number_of_interviews    2326.0     2.182287    2.959273  0.0    0.00     1.0   \n",
       "number_of_applications  2544.0    36.500786   53.654896  0.0    9.00    20.0   \n",
       "\n",
       "                            75%     max  \n",
       "id                      1908.25  2544.0  \n",
       "program_duration_days    224.00   548.0  \n",
       "placed                     1.00     1.0  \n",
       "number_of_interviews       3.00    20.0  \n",
       "number_of_applications    45.00  1000.0  "
      ]
     },
     "execution_count": 63,
     "metadata": {},
     "output_type": "execute_result"
    }
   ],
   "source": [
    "work.describe().T #basic details of data"
   ]
  },
  {
   "cell_type": "code",
   "execution_count": 64,
   "metadata": {},
   "outputs": [
    {
     "name": "stdout",
     "output_type": "stream",
     "text": [
      "<class 'pandas.core.frame.DataFrame'>\n",
      "RangeIndex: 2544 entries, 0 to 2543\n",
      "Data columns (total 16 columns):\n",
      " #   Column                       Non-Null Count  Dtype  \n",
      "---  ------                       --------------  -----  \n",
      " 0   id                           2544 non-null   int64  \n",
      " 1   status                       2544 non-null   object \n",
      " 2   primary_track                2544 non-null   object \n",
      " 3   cohort_tag                   2536 non-null   object \n",
      " 4   program_duration_days        1928 non-null   float64\n",
      " 5   placed                       2544 non-null   int64  \n",
      " 6   employment_status            2315 non-null   object \n",
      " 7   highest_level_of_education   2486 non-null   object \n",
      " 8   length_of_job_search         2470 non-null   object \n",
      " 9   biggest_challenge_in_search  2520 non-null   object \n",
      " 10  professional_experience      2322 non-null   object \n",
      " 11  work_authorization_status    2260 non-null   object \n",
      " 12  number_of_interviews         2326 non-null   float64\n",
      " 13  number_of_applications       2544 non-null   int64  \n",
      " 14  gender                       2052 non-null   object \n",
      " 15  race                         2526 non-null   object \n",
      "dtypes: float64(2), int64(3), object(11)\n",
      "memory usage: 318.1+ KB\n"
     ]
    }
   ],
   "source": [
    "work.info()"
   ]
  },
  {
   "cell_type": "code",
   "execution_count": 65,
   "metadata": {},
   "outputs": [
    {
     "data": {
      "text/html": [
       "<div>\n",
       "<style scoped>\n",
       "    .dataframe tbody tr th:only-of-type {\n",
       "        vertical-align: middle;\n",
       "    }\n",
       "\n",
       "    .dataframe tbody tr th {\n",
       "        vertical-align: top;\n",
       "    }\n",
       "\n",
       "    .dataframe thead th {\n",
       "        text-align: right;\n",
       "    }\n",
       "</style>\n",
       "<table border=\"1\" class=\"dataframe\">\n",
       "  <thead>\n",
       "    <tr style=\"text-align: right;\">\n",
       "      <th></th>\n",
       "      <th>count</th>\n",
       "      <th>unique</th>\n",
       "      <th>top</th>\n",
       "      <th>freq</th>\n",
       "    </tr>\n",
       "  </thead>\n",
       "  <tbody>\n",
       "    <tr>\n",
       "      <th>status</th>\n",
       "      <td>2544</td>\n",
       "      <td>9</td>\n",
       "      <td>Placed</td>\n",
       "      <td>956</td>\n",
       "    </tr>\n",
       "    <tr>\n",
       "      <th>primary_track</th>\n",
       "      <td>2544</td>\n",
       "      <td>6</td>\n",
       "      <td>SWE</td>\n",
       "      <td>1678</td>\n",
       "    </tr>\n",
       "    <tr>\n",
       "      <th>cohort_tag</th>\n",
       "      <td>2536</td>\n",
       "      <td>47</td>\n",
       "      <td>JAN19A</td>\n",
       "      <td>132</td>\n",
       "    </tr>\n",
       "    <tr>\n",
       "      <th>employment_status</th>\n",
       "      <td>2315</td>\n",
       "      <td>5</td>\n",
       "      <td>Student</td>\n",
       "      <td>775</td>\n",
       "    </tr>\n",
       "    <tr>\n",
       "      <th>highest_level_of_education</th>\n",
       "      <td>2486</td>\n",
       "      <td>7</td>\n",
       "      <td>Bachelor's Degree</td>\n",
       "      <td>1361</td>\n",
       "    </tr>\n",
       "    <tr>\n",
       "      <th>length_of_job_search</th>\n",
       "      <td>2470</td>\n",
       "      <td>5</td>\n",
       "      <td>Less than one month</td>\n",
       "      <td>815</td>\n",
       "    </tr>\n",
       "    <tr>\n",
       "      <th>biggest_challenge_in_search</th>\n",
       "      <td>2520</td>\n",
       "      <td>10</td>\n",
       "      <td>Hearing back on my applications</td>\n",
       "      <td>1002</td>\n",
       "    </tr>\n",
       "    <tr>\n",
       "      <th>professional_experience</th>\n",
       "      <td>2322</td>\n",
       "      <td>4</td>\n",
       "      <td>1-2 years</td>\n",
       "      <td>882</td>\n",
       "    </tr>\n",
       "    <tr>\n",
       "      <th>work_authorization_status</th>\n",
       "      <td>2260</td>\n",
       "      <td>9</td>\n",
       "      <td>Citizen</td>\n",
       "      <td>1104</td>\n",
       "    </tr>\n",
       "    <tr>\n",
       "      <th>gender</th>\n",
       "      <td>2052</td>\n",
       "      <td>4</td>\n",
       "      <td>Male</td>\n",
       "      <td>1492</td>\n",
       "    </tr>\n",
       "    <tr>\n",
       "      <th>race</th>\n",
       "      <td>2526</td>\n",
       "      <td>9</td>\n",
       "      <td>East Asian or Asian American</td>\n",
       "      <td>900</td>\n",
       "    </tr>\n",
       "  </tbody>\n",
       "</table>\n",
       "</div>"
      ],
      "text/plain": [
       "                            count unique                              top  \\\n",
       "status                       2544      9                           Placed   \n",
       "primary_track                2544      6                              SWE   \n",
       "cohort_tag                   2536     47                           JAN19A   \n",
       "employment_status            2315      5                          Student   \n",
       "highest_level_of_education   2486      7                Bachelor's Degree   \n",
       "length_of_job_search         2470      5              Less than one month   \n",
       "biggest_challenge_in_search  2520     10  Hearing back on my applications   \n",
       "professional_experience      2322      4                        1-2 years   \n",
       "work_authorization_status    2260      9                          Citizen   \n",
       "gender                       2052      4                             Male   \n",
       "race                         2526      9     East Asian or Asian American   \n",
       "\n",
       "                             freq  \n",
       "status                        956  \n",
       "primary_track                1678  \n",
       "cohort_tag                    132  \n",
       "employment_status             775  \n",
       "highest_level_of_education   1361  \n",
       "length_of_job_search          815  \n",
       "biggest_challenge_in_search  1002  \n",
       "professional_experience       882  \n",
       "work_authorization_status    1104  \n",
       "gender                       1492  \n",
       "race                          900  "
      ]
     },
     "execution_count": 65,
     "metadata": {},
     "output_type": "execute_result"
    }
   ],
   "source": [
    "work.describe(include=['object']).T"
   ]
  },
  {
   "cell_type": "code",
   "execution_count": 66,
   "metadata": {},
   "outputs": [],
   "source": [
    "work.columns;"
   ]
  },
  {
   "cell_type": "code",
   "execution_count": 67,
   "metadata": {},
   "outputs": [],
   "source": [
    "work = work.rename(columns={'employment_status ':\"employment_status\"}) #renaming"
   ]
  },
  {
   "cell_type": "code",
   "execution_count": 68,
   "metadata": {},
   "outputs": [],
   "source": [
    "work.columns;"
   ]
  },
  {
   "cell_type": "markdown",
   "metadata": {},
   "source": [
    "#### Categorising data later used in Step 4 for technique apply"
   ]
  },
  {
   "cell_type": "code",
   "execution_count": 69,
   "metadata": {},
   "outputs": [],
   "source": [
    "lis = ['status','primary_track','cohort_tag','highest_level_of_education', 'biggest_challenge_in_search'\n",
    "      , 'professional_experience', 'work_authorization_status','race', 'gender']\n",
    "for i in lis:\n",
    "    work[i] = work[i].astype(\"category\")\n",
    "    work[i+\"_enc\"] = work[i].cat.codes  # converting the category data to codes\n",
    "    "
   ]
  },
  {
   "cell_type": "code",
   "execution_count": 70,
   "metadata": {},
   "outputs": [],
   "source": [
    "work.loc[work[\"number_of_interviews\"] < 10.0, \"number_of_interviews\"] = 0\n",
    "work.loc[work[\"number_of_interviews\"] >= 10.0, \"number_of_interviews\"] = 1\n",
    "work.loc[(work[\"number_of_interviews\"].isnull()) , \"number_of_interviews\"] = 2"
   ]
  },
  {
   "cell_type": "code",
   "execution_count": 71,
   "metadata": {},
   "outputs": [],
   "source": [
    "work.loc[work[\"number_of_applications\"] <= 10, \"number_of_applications\"] = 0\n",
    "work.loc[(work[\"number_of_applications\"] <= 20) & (work[\"number_of_applications\"] >10), \"number_of_applications\"] = 1\n",
    "work.loc[(work[\"number_of_applications\"] <= 30) & (work[\"number_of_applications\"] >20) , \"number_of_applications\"] = 2\n",
    "work.loc[work[\"number_of_applications\"] > 30, \"number_of_applications\"] = 3"
   ]
  },
  {
   "cell_type": "code",
   "execution_count": 72,
   "metadata": {},
   "outputs": [],
   "source": [
    "work.loc[work[\"program_duration_days\"] <= 30, \"program_duration_days\"] = 0\n",
    "work.loc[(work[\"program_duration_days\"] <= 90) & (work[\"program_duration_days\"] >30), \"program_duration_days\"] = 1\n",
    "work.loc[(work[\"program_duration_days\"].isnull()) , \"program_duration_days\"] = 2\n",
    "work.loc[work[\"program_duration_days\"] > 90, \"program_duration_days\"] = 3"
   ]
  },
  {
   "cell_type": "code",
   "execution_count": 73,
   "metadata": {},
   "outputs": [],
   "source": [
    "lis_drop_duplicates = [\"status\",\"primary_track\",\"highest_level_of_education\",\n",
    "                      \"biggest_challenge_in_search\",\"race\"]\n",
    "for i in lis_drop_duplicates:\n",
    "    work.drop_duplicates(subset = [i])"
   ]
  },
  {
   "cell_type": "code",
   "execution_count": 74,
   "metadata": {},
   "outputs": [],
   "source": [
    "work.drop_duplicates(subset = [\"professional_experience\"])[[\"professional_experience\",\"professional_experience_enc\"]];"
   ]
  },
  {
   "cell_type": "code",
   "execution_count": 75,
   "metadata": {},
   "outputs": [],
   "source": [
    "work.drop_duplicates(subset = [\"work_authorization_status\"])[\"work_authorization_status\"];"
   ]
  },
  {
   "cell_type": "code",
   "execution_count": 76,
   "metadata": {},
   "outputs": [],
   "source": [
    "work.drop_duplicates(subset = [\"gender\"])[\"gender\"];"
   ]
  },
  {
   "cell_type": "markdown",
   "metadata": {},
   "source": [
    "#### Categories\n",
    "\n",
    "##### status \n",
    "active 0 <br>\n",
    "closed lost 2 <br>\n",
    "placed 5<br>\n",
    "withdrawn (failed) 7<br>\n",
    "withdrawn (trial) 8<br>\n",
    "withdrawn 6<br>\n",
    "defered 3<br>\n",
    "break 1<br>\n",
    "mia 4<br>\n",
    "\n",
    "##### track\n",
    "swe 4<br>\n",
    "pso 3<br>\n",
    "design 1<br>\n",
    "data 0<br>\n",
    "web 5<br>\n",
    "marketing 2<br>\n",
    "\n",
    "##### education\n",
    "Bachelor's Degree 0<br>\n",
    "Some College, No Degree 5<br>\n",
    "Master's Degree 4<br>\n",
    "NaN -1<br>\n",
    "Doctorate or Professional Degree 1<br>\n",
    "High School Graduate 3<br>\n",
    "GED or equivalent 2<br>\n",
    "Some High School 6<br>\n",
    "\n",
    "##### biggest challenge\n",
    "Hearing back on my applications 5<br>\n",
    "Getting past final round interviews 2<br>\n",
    "Figuring out which jobs to apply for 1<br>\n",
    "Technical interviewing 8<br>\n",
    "Getting past phone screens 4<br>\n",
    "Lack of relevant experience 6<br>\n",
    "Technical skills 9<br>\n",
    "Getting past mid-stage interviews 3<br>\n",
    "Behavioral interviewing 0<br>\n",
    "Resume gap 7<br>\n",
    "NaN -1<br>\n",
    "\n",
    "##### professional\n",
    "3-4 years 1<br>\n",
    "1-2 years 0<br>\n",
    "Less than one year 3<br>\n",
    "5+ years 2<br>\n",
    "NaN -1<br>\n",
    "\n",
    "###### work\n",
    "Canada Citizen 0<br>\n",
    "Citizen 1<br>\n",
    "F1 Visa/OPT 3<br>\n",
    "Green Card 4<br>\n",
    "F1 Visa/CPT 2<br>\n",
    "Other 7<br>\n",
    "NaN -1<br>\n",
    "STEM OPT 8<br>\n",
    "Not Authorized 6<br>\n",
    "H1B 5<br>\n",
    "\n",
    "##### race\n",
    "white 6<br>\n",
    "east asian 2<br>\n",
    "devline to identify 1<br>\n",
    "black 0<br>\n",
    "latino 3<br>\n",
    "middle eastern 4<br>\n",
    "south asian 7<br>\n",
    "two or more 8<br>\n",
    "native american 5<br>\n",
    "nan -1<br>\n",
    "\n",
    "##### gender\n",
    "male 2<br>\n",
    "female 1<br>\n",
    "NaN -1<br>\n",
    "decline to identify 0<br>\n",
    "non-binary 3<br>\n",
    "\n",
    "##### interview\n",
    "less than 10.0 0<br>\n",
    "greater than equal 10.0 1<br>\n",
    "null 2<br>\n",
    "\n",
    "##### application\n",
    "Less than equal to 10 0<br>\n",
    "Greater than 10 less than equal 20 1<br>\n",
    "greater than 20 less than Equal 30 2<br>\n",
    "Greater than 30 3<br>\n",
    "\n",
    "##### program duration days\n",
    "less than equal 30 0<br>\n",
    "greater than 30 less than equal to 90 1<br>\n",
    "null 2<br>\n",
    "greater than 90 3<br>\n",
    "\n",
    "##### placed\n",
    "not placed 0<br>\n",
    "placed 1<br>"
   ]
  },
  {
   "cell_type": "code",
   "execution_count": 77,
   "metadata": {},
   "outputs": [],
   "source": [
    "## New dataframe with just cateogrised data as keyed in the above key-pair.\n",
    "work_enc = work[[\"id\",\"status_enc\", \"primary_track_enc\", \"cohort_tag_enc\", \"program_duration_days\", \n",
    "                                   \"highest_level_of_education_enc\", \"biggest_challenge_in_search_enc\", \"professional_experience_enc\",\n",
    "                                   \"work_authorization_status_enc\", \"race_enc\", \"gender_enc\", \"number_of_interviews\", \"number_of_applications\", \"placed\"]]"
   ]
  },
  {
   "cell_type": "code",
   "execution_count": 78,
   "metadata": {},
   "outputs": [],
   "source": [
    "## convert back from categories to objects"
   ]
  },
  {
   "cell_type": "code",
   "execution_count": 79,
   "metadata": {},
   "outputs": [],
   "source": [
    "lis = ['status','primary_track','cohort_tag','highest_level_of_education', 'biggest_challenge_in_search'\n",
    "      , 'professional_experience', 'work_authorization_status','race', 'gender']\n",
    "for i in lis:\n",
    "    work[i] = work[i].astype(\"object\")\n",
    "   "
   ]
  },
  {
   "cell_type": "code",
   "execution_count": 80,
   "metadata": {},
   "outputs": [],
   "source": [
    "work[\"status\"].dtype;"
   ]
  },
  {
   "cell_type": "code",
   "execution_count": 81,
   "metadata": {},
   "outputs": [],
   "source": [
    "work_enc[\"program_duration_days\"][0];"
   ]
  },
  {
   "cell_type": "code",
   "execution_count": 82,
   "metadata": {},
   "outputs": [
    {
     "data": {
      "text/html": [
       "<div>\n",
       "<style scoped>\n",
       "    .dataframe tbody tr th:only-of-type {\n",
       "        vertical-align: middle;\n",
       "    }\n",
       "\n",
       "    .dataframe tbody tr th {\n",
       "        vertical-align: top;\n",
       "    }\n",
       "\n",
       "    .dataframe thead th {\n",
       "        text-align: right;\n",
       "    }\n",
       "</style>\n",
       "<table border=\"1\" class=\"dataframe\">\n",
       "  <thead>\n",
       "    <tr style=\"text-align: right;\">\n",
       "      <th></th>\n",
       "      <th>id</th>\n",
       "      <th>status_enc</th>\n",
       "      <th>primary_track_enc</th>\n",
       "      <th>cohort_tag_enc</th>\n",
       "      <th>program_duration_days</th>\n",
       "      <th>highest_level_of_education_enc</th>\n",
       "      <th>biggest_challenge_in_search_enc</th>\n",
       "      <th>professional_experience_enc</th>\n",
       "      <th>work_authorization_status_enc</th>\n",
       "      <th>race_enc</th>\n",
       "      <th>gender_enc</th>\n",
       "      <th>number_of_interviews</th>\n",
       "      <th>number_of_applications</th>\n",
       "      <th>placed</th>\n",
       "    </tr>\n",
       "  </thead>\n",
       "  <tbody>\n",
       "    <tr>\n",
       "      <th>0</th>\n",
       "      <td>1</td>\n",
       "      <td>0</td>\n",
       "      <td>4</td>\n",
       "      <td>39</td>\n",
       "      <td>2.0</td>\n",
       "      <td>0</td>\n",
       "      <td>5</td>\n",
       "      <td>1</td>\n",
       "      <td>0</td>\n",
       "      <td>6</td>\n",
       "      <td>2</td>\n",
       "      <td>0.0</td>\n",
       "      <td>3</td>\n",
       "      <td>0</td>\n",
       "    </tr>\n",
       "    <tr>\n",
       "      <th>1</th>\n",
       "      <td>2</td>\n",
       "      <td>0</td>\n",
       "      <td>3</td>\n",
       "      <td>20</td>\n",
       "      <td>2.0</td>\n",
       "      <td>5</td>\n",
       "      <td>2</td>\n",
       "      <td>0</td>\n",
       "      <td>1</td>\n",
       "      <td>6</td>\n",
       "      <td>2</td>\n",
       "      <td>0.0</td>\n",
       "      <td>0</td>\n",
       "      <td>0</td>\n",
       "    </tr>\n",
       "    <tr>\n",
       "      <th>2</th>\n",
       "      <td>3</td>\n",
       "      <td>2</td>\n",
       "      <td>1</td>\n",
       "      <td>7</td>\n",
       "      <td>0.0</td>\n",
       "      <td>4</td>\n",
       "      <td>1</td>\n",
       "      <td>3</td>\n",
       "      <td>1</td>\n",
       "      <td>2</td>\n",
       "      <td>2</td>\n",
       "      <td>0.0</td>\n",
       "      <td>0</td>\n",
       "      <td>0</td>\n",
       "    </tr>\n",
       "  </tbody>\n",
       "</table>\n",
       "</div>"
      ],
      "text/plain": [
       "   id  status_enc  primary_track_enc  cohort_tag_enc  program_duration_days  \\\n",
       "0   1           0                  4              39                    2.0   \n",
       "1   2           0                  3              20                    2.0   \n",
       "2   3           2                  1               7                    0.0   \n",
       "\n",
       "   highest_level_of_education_enc  biggest_challenge_in_search_enc  \\\n",
       "0                               0                                5   \n",
       "1                               5                                2   \n",
       "2                               4                                1   \n",
       "\n",
       "   professional_experience_enc  work_authorization_status_enc  race_enc  \\\n",
       "0                            1                              0         6   \n",
       "1                            0                              1         6   \n",
       "2                            3                              1         2   \n",
       "\n",
       "   gender_enc  number_of_interviews  number_of_applications  placed  \n",
       "0           2                   0.0                       3       0  \n",
       "1           2                   0.0                       0       0  \n",
       "2           2                   0.0                       0       0  "
      ]
     },
     "execution_count": 82,
     "metadata": {},
     "output_type": "execute_result"
    }
   ],
   "source": [
    "work_enc.head(3)"
   ]
  },
  {
   "cell_type": "code",
   "execution_count": 83,
   "metadata": {},
   "outputs": [
    {
     "data": {
      "text/html": [
       "<div>\n",
       "<style scoped>\n",
       "    .dataframe tbody tr th:only-of-type {\n",
       "        vertical-align: middle;\n",
       "    }\n",
       "\n",
       "    .dataframe tbody tr th {\n",
       "        vertical-align: top;\n",
       "    }\n",
       "\n",
       "    .dataframe thead th {\n",
       "        text-align: right;\n",
       "    }\n",
       "</style>\n",
       "<table border=\"1\" class=\"dataframe\">\n",
       "  <thead>\n",
       "    <tr style=\"text-align: right;\">\n",
       "      <th></th>\n",
       "      <th>id</th>\n",
       "      <th>status</th>\n",
       "      <th>primary_track</th>\n",
       "      <th>cohort_tag</th>\n",
       "      <th>program_duration_days</th>\n",
       "      <th>placed</th>\n",
       "      <th>employment_status</th>\n",
       "      <th>highest_level_of_education</th>\n",
       "      <th>length_of_job_search</th>\n",
       "      <th>biggest_challenge_in_search</th>\n",
       "      <th>...</th>\n",
       "      <th>race</th>\n",
       "      <th>status_enc</th>\n",
       "      <th>primary_track_enc</th>\n",
       "      <th>cohort_tag_enc</th>\n",
       "      <th>highest_level_of_education_enc</th>\n",
       "      <th>biggest_challenge_in_search_enc</th>\n",
       "      <th>professional_experience_enc</th>\n",
       "      <th>work_authorization_status_enc</th>\n",
       "      <th>race_enc</th>\n",
       "      <th>gender_enc</th>\n",
       "    </tr>\n",
       "  </thead>\n",
       "  <tbody>\n",
       "    <tr>\n",
       "      <th>0</th>\n",
       "      <td>1</td>\n",
       "      <td>Active</td>\n",
       "      <td>SWE</td>\n",
       "      <td>OCT19A</td>\n",
       "      <td>2.0</td>\n",
       "      <td>0</td>\n",
       "      <td>Unemployed</td>\n",
       "      <td>Bachelor's Degree</td>\n",
       "      <td>3-5 months</td>\n",
       "      <td>Hearing back on my applications</td>\n",
       "      <td>...</td>\n",
       "      <td>Non-Hispanic White or Euro-American</td>\n",
       "      <td>0</td>\n",
       "      <td>4</td>\n",
       "      <td>39</td>\n",
       "      <td>0</td>\n",
       "      <td>5</td>\n",
       "      <td>1</td>\n",
       "      <td>0</td>\n",
       "      <td>6</td>\n",
       "      <td>2</td>\n",
       "    </tr>\n",
       "    <tr>\n",
       "      <th>1</th>\n",
       "      <td>2</td>\n",
       "      <td>Active</td>\n",
       "      <td>PSO</td>\n",
       "      <td>JAN20A</td>\n",
       "      <td>2.0</td>\n",
       "      <td>0</td>\n",
       "      <td>Unemployed</td>\n",
       "      <td>Some College, No Degree</td>\n",
       "      <td>3-5 months</td>\n",
       "      <td>Getting past final round interviews</td>\n",
       "      <td>...</td>\n",
       "      <td>Non-Hispanic White or Euro-American</td>\n",
       "      <td>0</td>\n",
       "      <td>3</td>\n",
       "      <td>20</td>\n",
       "      <td>5</td>\n",
       "      <td>2</td>\n",
       "      <td>0</td>\n",
       "      <td>1</td>\n",
       "      <td>6</td>\n",
       "      <td>2</td>\n",
       "    </tr>\n",
       "    <tr>\n",
       "      <th>2</th>\n",
       "      <td>3</td>\n",
       "      <td>Closed Lost</td>\n",
       "      <td>Design</td>\n",
       "      <td>AUG19B</td>\n",
       "      <td>0.0</td>\n",
       "      <td>0</td>\n",
       "      <td>Employed Part-Time</td>\n",
       "      <td>Master's Degree</td>\n",
       "      <td>Less than one month</td>\n",
       "      <td>Figuring out which jobs to apply for</td>\n",
       "      <td>...</td>\n",
       "      <td>East Asian or Asian American</td>\n",
       "      <td>2</td>\n",
       "      <td>1</td>\n",
       "      <td>7</td>\n",
       "      <td>4</td>\n",
       "      <td>1</td>\n",
       "      <td>3</td>\n",
       "      <td>1</td>\n",
       "      <td>2</td>\n",
       "      <td>2</td>\n",
       "    </tr>\n",
       "  </tbody>\n",
       "</table>\n",
       "<p>3 rows × 25 columns</p>\n",
       "</div>"
      ],
      "text/plain": [
       "   id       status primary_track cohort_tag  program_duration_days  placed  \\\n",
       "0   1       Active           SWE     OCT19A                    2.0       0   \n",
       "1   2       Active           PSO     JAN20A                    2.0       0   \n",
       "2   3  Closed Lost        Design     AUG19B                    0.0       0   \n",
       "\n",
       "    employment_status highest_level_of_education length_of_job_search  \\\n",
       "0          Unemployed          Bachelor's Degree           3-5 months   \n",
       "1          Unemployed    Some College, No Degree           3-5 months   \n",
       "2  Employed Part-Time            Master's Degree  Less than one month   \n",
       "\n",
       "            biggest_challenge_in_search  ...  \\\n",
       "0       Hearing back on my applications  ...   \n",
       "1   Getting past final round interviews  ...   \n",
       "2  Figuring out which jobs to apply for  ...   \n",
       "\n",
       "                                  race status_enc  primary_track_enc  \\\n",
       "0  Non-Hispanic White or Euro-American          0                  4   \n",
       "1  Non-Hispanic White or Euro-American          0                  3   \n",
       "2         East Asian or Asian American          2                  1   \n",
       "\n",
       "   cohort_tag_enc highest_level_of_education_enc  \\\n",
       "0              39                              0   \n",
       "1              20                              5   \n",
       "2               7                              4   \n",
       "\n",
       "  biggest_challenge_in_search_enc  professional_experience_enc  \\\n",
       "0                               5                            1   \n",
       "1                               2                            0   \n",
       "2                               1                            3   \n",
       "\n",
       "   work_authorization_status_enc  race_enc  gender_enc  \n",
       "0                              0         6           2  \n",
       "1                              1         6           2  \n",
       "2                              1         2           2  \n",
       "\n",
       "[3 rows x 25 columns]"
      ]
     },
     "execution_count": 83,
     "metadata": {},
     "output_type": "execute_result"
    }
   ],
   "source": [
    "work.head(3)"
   ]
  },
  {
   "cell_type": "code",
   "execution_count": 84,
   "metadata": {},
   "outputs": [],
   "source": [
    "## Making the new dataframe more uniform and keeping it according for the technique."
   ]
  },
  {
   "cell_type": "code",
   "execution_count": 85,
   "metadata": {},
   "outputs": [],
   "source": [
    "work_enc = work_enc.drop([\"cohort_tag_enc\"], axis = 1)"
   ]
  },
  {
   "cell_type": "code",
   "execution_count": 86,
   "metadata": {},
   "outputs": [],
   "source": [
    "work_enc['program_duration_days'] = work['program_duration_days'].astype(\"int\")"
   ]
  },
  {
   "cell_type": "code",
   "execution_count": 87,
   "metadata": {},
   "outputs": [],
   "source": [
    "work_enc['number_of_interviews'] = work['number_of_interviews'].astype(\"int\")"
   ]
  },
  {
   "cell_type": "code",
   "execution_count": 88,
   "metadata": {},
   "outputs": [
    {
     "data": {
      "text/html": [
       "<div>\n",
       "<style scoped>\n",
       "    .dataframe tbody tr th:only-of-type {\n",
       "        vertical-align: middle;\n",
       "    }\n",
       "\n",
       "    .dataframe tbody tr th {\n",
       "        vertical-align: top;\n",
       "    }\n",
       "\n",
       "    .dataframe thead th {\n",
       "        text-align: right;\n",
       "    }\n",
       "</style>\n",
       "<table border=\"1\" class=\"dataframe\">\n",
       "  <thead>\n",
       "    <tr style=\"text-align: right;\">\n",
       "      <th></th>\n",
       "      <th>id</th>\n",
       "      <th>status_enc</th>\n",
       "      <th>primary_track_enc</th>\n",
       "      <th>program_duration_days</th>\n",
       "      <th>highest_level_of_education_enc</th>\n",
       "      <th>biggest_challenge_in_search_enc</th>\n",
       "      <th>professional_experience_enc</th>\n",
       "      <th>work_authorization_status_enc</th>\n",
       "      <th>race_enc</th>\n",
       "      <th>gender_enc</th>\n",
       "      <th>number_of_interviews</th>\n",
       "      <th>number_of_applications</th>\n",
       "      <th>placed</th>\n",
       "    </tr>\n",
       "  </thead>\n",
       "  <tbody>\n",
       "    <tr>\n",
       "      <th>0</th>\n",
       "      <td>1</td>\n",
       "      <td>0</td>\n",
       "      <td>4</td>\n",
       "      <td>2</td>\n",
       "      <td>0</td>\n",
       "      <td>5</td>\n",
       "      <td>1</td>\n",
       "      <td>0</td>\n",
       "      <td>6</td>\n",
       "      <td>2</td>\n",
       "      <td>0</td>\n",
       "      <td>3</td>\n",
       "      <td>0</td>\n",
       "    </tr>\n",
       "    <tr>\n",
       "      <th>1</th>\n",
       "      <td>2</td>\n",
       "      <td>0</td>\n",
       "      <td>3</td>\n",
       "      <td>2</td>\n",
       "      <td>5</td>\n",
       "      <td>2</td>\n",
       "      <td>0</td>\n",
       "      <td>1</td>\n",
       "      <td>6</td>\n",
       "      <td>2</td>\n",
       "      <td>0</td>\n",
       "      <td>0</td>\n",
       "      <td>0</td>\n",
       "    </tr>\n",
       "    <tr>\n",
       "      <th>2</th>\n",
       "      <td>3</td>\n",
       "      <td>2</td>\n",
       "      <td>1</td>\n",
       "      <td>0</td>\n",
       "      <td>4</td>\n",
       "      <td>1</td>\n",
       "      <td>3</td>\n",
       "      <td>1</td>\n",
       "      <td>2</td>\n",
       "      <td>2</td>\n",
       "      <td>0</td>\n",
       "      <td>0</td>\n",
       "      <td>0</td>\n",
       "    </tr>\n",
       "  </tbody>\n",
       "</table>\n",
       "</div>"
      ],
      "text/plain": [
       "   id  status_enc  primary_track_enc  program_duration_days  \\\n",
       "0   1           0                  4                      2   \n",
       "1   2           0                  3                      2   \n",
       "2   3           2                  1                      0   \n",
       "\n",
       "   highest_level_of_education_enc  biggest_challenge_in_search_enc  \\\n",
       "0                               0                                5   \n",
       "1                               5                                2   \n",
       "2                               4                                1   \n",
       "\n",
       "   professional_experience_enc  work_authorization_status_enc  race_enc  \\\n",
       "0                            1                              0         6   \n",
       "1                            0                              1         6   \n",
       "2                            3                              1         2   \n",
       "\n",
       "   gender_enc  number_of_interviews  number_of_applications  placed  \n",
       "0           2                     0                       3       0  \n",
       "1           2                     0                       0       0  \n",
       "2           2                     0                       0       0  "
      ]
     },
     "execution_count": 88,
     "metadata": {},
     "output_type": "execute_result"
    }
   ],
   "source": [
    "work_enc.round(2).head(3)"
   ]
  },
  {
   "cell_type": "code",
   "execution_count": 89,
   "metadata": {},
   "outputs": [
    {
     "data": {
      "text/html": [
       "<div>\n",
       "<style scoped>\n",
       "    .dataframe tbody tr th:only-of-type {\n",
       "        vertical-align: middle;\n",
       "    }\n",
       "\n",
       "    .dataframe tbody tr th {\n",
       "        vertical-align: top;\n",
       "    }\n",
       "\n",
       "    .dataframe thead th {\n",
       "        text-align: right;\n",
       "    }\n",
       "</style>\n",
       "<table border=\"1\" class=\"dataframe\">\n",
       "  <thead>\n",
       "    <tr style=\"text-align: right;\">\n",
       "      <th></th>\n",
       "      <th>count</th>\n",
       "      <th>mean</th>\n",
       "      <th>std</th>\n",
       "      <th>min</th>\n",
       "      <th>25%</th>\n",
       "      <th>50%</th>\n",
       "      <th>75%</th>\n",
       "      <th>max</th>\n",
       "    </tr>\n",
       "  </thead>\n",
       "  <tbody>\n",
       "    <tr>\n",
       "      <th>id</th>\n",
       "      <td>2544.0</td>\n",
       "      <td>1272.500000</td>\n",
       "      <td>734.533866</td>\n",
       "      <td>1.0</td>\n",
       "      <td>636.75</td>\n",
       "      <td>1272.5</td>\n",
       "      <td>1908.25</td>\n",
       "      <td>2544.0</td>\n",
       "    </tr>\n",
       "    <tr>\n",
       "      <th>status_enc</th>\n",
       "      <td>2544.0</td>\n",
       "      <td>4.188679</td>\n",
       "      <td>2.598695</td>\n",
       "      <td>0.0</td>\n",
       "      <td>2.00</td>\n",
       "      <td>5.0</td>\n",
       "      <td>6.00</td>\n",
       "      <td>8.0</td>\n",
       "    </tr>\n",
       "    <tr>\n",
       "      <th>primary_track_enc</th>\n",
       "      <td>2544.0</td>\n",
       "      <td>3.144654</td>\n",
       "      <td>1.407073</td>\n",
       "      <td>0.0</td>\n",
       "      <td>3.00</td>\n",
       "      <td>4.0</td>\n",
       "      <td>4.00</td>\n",
       "      <td>5.0</td>\n",
       "    </tr>\n",
       "    <tr>\n",
       "      <th>program_duration_days</th>\n",
       "      <td>2544.0</td>\n",
       "      <td>1.852594</td>\n",
       "      <td>1.191417</td>\n",
       "      <td>0.0</td>\n",
       "      <td>1.00</td>\n",
       "      <td>2.0</td>\n",
       "      <td>3.00</td>\n",
       "      <td>3.0</td>\n",
       "    </tr>\n",
       "    <tr>\n",
       "      <th>highest_level_of_education_enc</th>\n",
       "      <td>2544.0</td>\n",
       "      <td>1.634041</td>\n",
       "      <td>2.029113</td>\n",
       "      <td>-1.0</td>\n",
       "      <td>0.00</td>\n",
       "      <td>0.0</td>\n",
       "      <td>4.00</td>\n",
       "      <td>6.0</td>\n",
       "    </tr>\n",
       "    <tr>\n",
       "      <th>biggest_challenge_in_search_enc</th>\n",
       "      <td>2544.0</td>\n",
       "      <td>4.466981</td>\n",
       "      <td>2.157869</td>\n",
       "      <td>-1.0</td>\n",
       "      <td>3.00</td>\n",
       "      <td>5.0</td>\n",
       "      <td>5.00</td>\n",
       "      <td>9.0</td>\n",
       "    </tr>\n",
       "    <tr>\n",
       "      <th>professional_experience_enc</th>\n",
       "      <td>2544.0</td>\n",
       "      <td>1.068396</td>\n",
       "      <td>1.329377</td>\n",
       "      <td>-1.0</td>\n",
       "      <td>0.00</td>\n",
       "      <td>1.0</td>\n",
       "      <td>2.00</td>\n",
       "      <td>3.0</td>\n",
       "    </tr>\n",
       "    <tr>\n",
       "      <th>work_authorization_status_enc</th>\n",
       "      <td>2544.0</td>\n",
       "      <td>1.911950</td>\n",
       "      <td>1.849666</td>\n",
       "      <td>-1.0</td>\n",
       "      <td>1.00</td>\n",
       "      <td>1.0</td>\n",
       "      <td>3.00</td>\n",
       "      <td>8.0</td>\n",
       "    </tr>\n",
       "    <tr>\n",
       "      <th>race_enc</th>\n",
       "      <td>2544.0</td>\n",
       "      <td>4.152123</td>\n",
       "      <td>2.464704</td>\n",
       "      <td>-1.0</td>\n",
       "      <td>2.00</td>\n",
       "      <td>4.0</td>\n",
       "      <td>6.00</td>\n",
       "      <td>8.0</td>\n",
       "    </tr>\n",
       "    <tr>\n",
       "      <th>gender_enc</th>\n",
       "      <td>2544.0</td>\n",
       "      <td>1.198113</td>\n",
       "      <td>1.156314</td>\n",
       "      <td>-1.0</td>\n",
       "      <td>1.00</td>\n",
       "      <td>2.0</td>\n",
       "      <td>2.00</td>\n",
       "      <td>3.0</td>\n",
       "    </tr>\n",
       "    <tr>\n",
       "      <th>number_of_interviews</th>\n",
       "      <td>2544.0</td>\n",
       "      <td>0.195755</td>\n",
       "      <td>0.573540</td>\n",
       "      <td>0.0</td>\n",
       "      <td>0.00</td>\n",
       "      <td>0.0</td>\n",
       "      <td>0.00</td>\n",
       "      <td>2.0</td>\n",
       "    </tr>\n",
       "    <tr>\n",
       "      <th>number_of_applications</th>\n",
       "      <td>2544.0</td>\n",
       "      <td>1.493318</td>\n",
       "      <td>1.276837</td>\n",
       "      <td>0.0</td>\n",
       "      <td>0.00</td>\n",
       "      <td>1.0</td>\n",
       "      <td>3.00</td>\n",
       "      <td>3.0</td>\n",
       "    </tr>\n",
       "    <tr>\n",
       "      <th>placed</th>\n",
       "      <td>2544.0</td>\n",
       "      <td>0.375786</td>\n",
       "      <td>0.484420</td>\n",
       "      <td>0.0</td>\n",
       "      <td>0.00</td>\n",
       "      <td>0.0</td>\n",
       "      <td>1.00</td>\n",
       "      <td>1.0</td>\n",
       "    </tr>\n",
       "  </tbody>\n",
       "</table>\n",
       "</div>"
      ],
      "text/plain": [
       "                                  count         mean         std  min     25%  \\\n",
       "id                               2544.0  1272.500000  734.533866  1.0  636.75   \n",
       "status_enc                       2544.0     4.188679    2.598695  0.0    2.00   \n",
       "primary_track_enc                2544.0     3.144654    1.407073  0.0    3.00   \n",
       "program_duration_days            2544.0     1.852594    1.191417  0.0    1.00   \n",
       "highest_level_of_education_enc   2544.0     1.634041    2.029113 -1.0    0.00   \n",
       "biggest_challenge_in_search_enc  2544.0     4.466981    2.157869 -1.0    3.00   \n",
       "professional_experience_enc      2544.0     1.068396    1.329377 -1.0    0.00   \n",
       "work_authorization_status_enc    2544.0     1.911950    1.849666 -1.0    1.00   \n",
       "race_enc                         2544.0     4.152123    2.464704 -1.0    2.00   \n",
       "gender_enc                       2544.0     1.198113    1.156314 -1.0    1.00   \n",
       "number_of_interviews             2544.0     0.195755    0.573540  0.0    0.00   \n",
       "number_of_applications           2544.0     1.493318    1.276837  0.0    0.00   \n",
       "placed                           2544.0     0.375786    0.484420  0.0    0.00   \n",
       "\n",
       "                                    50%      75%     max  \n",
       "id                               1272.5  1908.25  2544.0  \n",
       "status_enc                          5.0     6.00     8.0  \n",
       "primary_track_enc                   4.0     4.00     5.0  \n",
       "program_duration_days               2.0     3.00     3.0  \n",
       "highest_level_of_education_enc      0.0     4.00     6.0  \n",
       "biggest_challenge_in_search_enc     5.0     5.00     9.0  \n",
       "professional_experience_enc         1.0     2.00     3.0  \n",
       "work_authorization_status_enc       1.0     3.00     8.0  \n",
       "race_enc                            4.0     6.00     8.0  \n",
       "gender_enc                          2.0     2.00     3.0  \n",
       "number_of_interviews                0.0     0.00     2.0  \n",
       "number_of_applications              1.0     3.00     3.0  \n",
       "placed                              0.0     1.00     1.0  "
      ]
     },
     "execution_count": 89,
     "metadata": {},
     "output_type": "execute_result"
    }
   ],
   "source": [
    "work_enc.describe().T"
   ]
  },
  {
   "cell_type": "markdown",
   "metadata": {},
   "source": [
    "## Step 3: EDA"
   ]
  },
  {
   "cell_type": "code",
   "execution_count": 90,
   "metadata": {},
   "outputs": [],
   "source": [
    "import seaborn as sns"
   ]
  },
  {
   "cell_type": "code",
   "execution_count": 91,
   "metadata": {},
   "outputs": [],
   "source": [
    "from pylab import *"
   ]
  },
  {
   "cell_type": "code",
   "execution_count": 92,
   "metadata": {},
   "outputs": [],
   "source": [
    "## original uncoded table"
   ]
  },
  {
   "cell_type": "code",
   "execution_count": 93,
   "metadata": {},
   "outputs": [
    {
     "data": {
      "text/html": [
       "<div>\n",
       "<style scoped>\n",
       "    .dataframe tbody tr th:only-of-type {\n",
       "        vertical-align: middle;\n",
       "    }\n",
       "\n",
       "    .dataframe tbody tr th {\n",
       "        vertical-align: top;\n",
       "    }\n",
       "\n",
       "    .dataframe thead th {\n",
       "        text-align: right;\n",
       "    }\n",
       "</style>\n",
       "<table border=\"1\" class=\"dataframe\">\n",
       "  <thead>\n",
       "    <tr style=\"text-align: right;\">\n",
       "      <th></th>\n",
       "      <th>program_duration_days</th>\n",
       "      <th>professional_experience_enc</th>\n",
       "      <th>number_of_interviews</th>\n",
       "      <th>number_of_applications</th>\n",
       "    </tr>\n",
       "    <tr>\n",
       "      <th>primary_track</th>\n",
       "      <th></th>\n",
       "      <th></th>\n",
       "      <th></th>\n",
       "      <th></th>\n",
       "    </tr>\n",
       "  </thead>\n",
       "  <tbody>\n",
       "    <tr>\n",
       "      <th>Data</th>\n",
       "      <td>1.903226</td>\n",
       "      <td>0.955645</td>\n",
       "      <td>0.173387</td>\n",
       "      <td>1.524194</td>\n",
       "    </tr>\n",
       "    <tr>\n",
       "      <th>Design</th>\n",
       "      <td>1.864583</td>\n",
       "      <td>1.114583</td>\n",
       "      <td>0.163194</td>\n",
       "      <td>1.555556</td>\n",
       "    </tr>\n",
       "    <tr>\n",
       "      <th>Marketing</th>\n",
       "      <td>2.000000</td>\n",
       "      <td>0.000000</td>\n",
       "      <td>1.500000</td>\n",
       "      <td>2.500000</td>\n",
       "    </tr>\n",
       "    <tr>\n",
       "      <th>PSO</th>\n",
       "      <td>1.614907</td>\n",
       "      <td>1.118012</td>\n",
       "      <td>0.170807</td>\n",
       "      <td>1.580745</td>\n",
       "    </tr>\n",
       "    <tr>\n",
       "      <th>SWE</th>\n",
       "      <td>1.888558</td>\n",
       "      <td>1.069130</td>\n",
       "      <td>0.208582</td>\n",
       "      <td>1.461263</td>\n",
       "    </tr>\n",
       "    <tr>\n",
       "      <th>Web</th>\n",
       "      <td>1.833333</td>\n",
       "      <td>1.000000</td>\n",
       "      <td>0.000000</td>\n",
       "      <td>1.166667</td>\n",
       "    </tr>\n",
       "  </tbody>\n",
       "</table>\n",
       "</div>"
      ],
      "text/plain": [
       "               program_duration_days  professional_experience_enc  \\\n",
       "primary_track                                                       \n",
       "Data                        1.903226                     0.955645   \n",
       "Design                      1.864583                     1.114583   \n",
       "Marketing                   2.000000                     0.000000   \n",
       "PSO                         1.614907                     1.118012   \n",
       "SWE                         1.888558                     1.069130   \n",
       "Web                         1.833333                     1.000000   \n",
       "\n",
       "               number_of_interviews  number_of_applications  \n",
       "primary_track                                                \n",
       "Data                       0.173387                1.524194  \n",
       "Design                     0.163194                1.555556  \n",
       "Marketing                  1.500000                2.500000  \n",
       "PSO                        0.170807                1.580745  \n",
       "SWE                        0.208582                1.461263  \n",
       "Web                        0.000000                1.166667  "
      ]
     },
     "execution_count": 93,
     "metadata": {},
     "output_type": "execute_result"
    }
   ],
   "source": [
    "work.groupby([\"primary_track\"]).mean()[[\"program_duration_days\", \"professional_experience_enc\", \"number_of_interviews\", \"number_of_applications\"]]"
   ]
  },
  {
   "cell_type": "code",
   "execution_count": 94,
   "metadata": {},
   "outputs": [
    {
     "data": {
      "text/plain": [
       "Text(0.5, 0.98, 'Track divsion - mean')"
      ]
     },
     "execution_count": 94,
     "metadata": {},
     "output_type": "execute_result"
    },
    {
     "data": {
      "image/png": "[encoded data removed]",
      "text/plain": [
       "<Figure size 604.8x576 with 6 Axes>"
      ]
     },
     "metadata": {
      "needs_background": "light"
     },
     "output_type": "display_data"
    }
   ],
   "source": [
    "x = work.groupby([\"primary_track\"]).mean()[[\"program_duration_days\",\"number_of_interviews\", \"number_of_applications\"]].reset_index()\n",
    "\n",
    "g= sns.catplot(col=\"primary_track\",\n",
    "            data=x, kind=\"bar\",\n",
    "            col_wrap = 3,\n",
    "            height=4, aspect=.7).set_xticklabels([\"Program duration\", \"# interviews\", \"# applications\"]).set_axis_labels(\"facts for track\", \"# for days, interviews, applications\").set_xticklabels(rotation=30)\n",
    "\n",
    "g.fig.subplots_adjust(top=0.9)\n",
    "g.fig.suptitle(\"Track divsion - mean\")"
   ]
  },
  {
   "cell_type": "markdown",
   "metadata": {},
   "source": [
    "This graph shows the track divisions and various variables for each and the average number."
   ]
  },
  {
   "cell_type": "code",
   "execution_count": 95,
   "metadata": {},
   "outputs": [],
   "source": [
    "## coded table"
   ]
  },
  {
   "cell_type": "code",
   "execution_count": 96,
   "metadata": {},
   "outputs": [],
   "source": [
    "import matplotlib.pyplot as plt "
   ]
  },
  {
   "cell_type": "code",
   "execution_count": 97,
   "metadata": {},
   "outputs": [],
   "source": [
    "graph_status = work_enc.groupby([\"status_enc\"]).count().reset_index()"
   ]
  },
  {
   "cell_type": "code",
   "execution_count": 98,
   "metadata": {},
   "outputs": [],
   "source": [
    "graph_status1 = work.groupby([\"status\"]).count().reset_index()"
   ]
  },
  {
   "cell_type": "code",
   "execution_count": 99,
   "metadata": {},
   "outputs": [],
   "source": [
    "graph_placed = work_enc.groupby([\"placed\"]).count().reset_index()"
   ]
  },
  {
   "cell_type": "code",
   "execution_count": 100,
   "metadata": {},
   "outputs": [],
   "source": [
    "graph_placedauth = work_enc.groupby([\"placed\", \"work_authorization_status_enc\"]).count().reset_index()"
   ]
  },
  {
   "cell_type": "code",
   "execution_count": 101,
   "metadata": {},
   "outputs": [],
   "source": [
    "graph_placedinter = work_enc.groupby([\"placed\", \"number_of_interviews\"]).count().reset_index()"
   ]
  },
  {
   "cell_type": "code",
   "execution_count": 102,
   "metadata": {},
   "outputs": [
    {
     "data": {
      "text/plain": [
       "Text(0, 0.5, 'Number')"
      ]
     },
     "execution_count": 102,
     "metadata": {},
     "output_type": "execute_result"
    },
    {
     "data": {
      "image/png": "[encoded data removed]",
      "text/plain": [
       "<Figure size 432x288 with 1 Axes>"
      ]
     },
     "metadata": {
      "needs_background": "light"
     },
     "output_type": "display_data"
    }
   ],
   "source": [
    "ax1= graph_status1.plot(x = \"status\", y = \"id\", kind =\"bar\", title = \"Number in various status\", rot =90, legend = False)\n",
    "ax1.set_xlabel(\"Status\")\n",
    "ax1.set_ylabel(\"Number\")"
   ]
  },
  {
   "cell_type": "markdown",
   "metadata": {},
   "source": [
    "The above graph shows the counts for each category under status. We see that 5 (placed) is one of the highest numbers within the other categories and 1 (break) is one of the lowest."
   ]
  },
  {
   "cell_type": "code",
   "execution_count": 103,
   "metadata": {},
   "outputs": [
    {
     "data": {
      "text/plain": [
       "[Text(0, 0, 'Not Placed'), Text(0, 0, 'Placed')]"
      ]
     },
     "execution_count": 103,
     "metadata": {},
     "output_type": "execute_result"
    },
    {
     "data": {
      "image/png": "[encoded data removed]",
      "text/plain": [
       "<Figure size 432x288 with 1 Axes>"
      ]
     },
     "metadata": {
      "needs_background": "light"
     },
     "output_type": "display_data"
    }
   ],
   "source": [
    "ax = graph_placed.plot(x = \"placed\", y = \"id\", kind=\"bar\", title= \"Number of candidates placed and not placed\", legend = False)\n",
    "ax.set_xlabel(\"Placed/Not Placed\")\n",
    "ax.set_ylabel(\"number\")\n",
    "ax.set_xticklabels([\"Not Placed\", \"Placed\"])"
   ]
  },
  {
   "cell_type": "markdown",
   "metadata": {},
   "source": [
    "The above graph shows a simple plot of number of candidates placed and not placed. Not placed being higher that may be due to people withdrawing within the first 2 weeks."
   ]
  },
  {
   "cell_type": "code",
   "execution_count": 104,
   "metadata": {},
   "outputs": [],
   "source": [
    "line = pd.DataFrame({'placed':1, 'work_authorization_status_enc':6, 'id':0}, index=[16.5])"
   ]
  },
  {
   "cell_type": "code",
   "execution_count": 105,
   "metadata": {},
   "outputs": [],
   "source": [
    "graph_placedauth = graph_placedauth.append(line, ignore_index=False)\n"
   ]
  },
  {
   "cell_type": "code",
   "execution_count": 106,
   "metadata": {},
   "outputs": [],
   "source": [
    "graph_placedauth = graph_placedauth.sort_index().reset_index(drop=True)\n"
   ]
  },
  {
   "cell_type": "code",
   "execution_count": 107,
   "metadata": {},
   "outputs": [],
   "source": [
    "graph_placedauth = graph_placedauth.reindex(['placed', 'work_authorization_status_enc', 'id'], axis=1)\n"
   ]
  },
  {
   "cell_type": "code",
   "execution_count": 108,
   "metadata": {},
   "outputs": [],
   "source": [
    "graph_placedauth;"
   ]
  },
  {
   "cell_type": "code",
   "execution_count": 109,
   "metadata": {},
   "outputs": [],
   "source": [
    "graph_placedinter;"
   ]
  },
  {
   "cell_type": "code",
   "execution_count": 110,
   "metadata": {},
   "outputs": [
    {
     "data": {
      "image/png": "[encoded data removed]",
      "text/plain": [
       "<Figure size 432x288 with 1 Axes>"
      ]
     },
     "metadata": {
      "needs_background": "light"
     },
     "output_type": "display_data"
    }
   ],
   "source": [
    "labels = graph_placedauth[\"work_authorization_status_enc\"][0:10]\n",
    "not_placed = graph_placedauth[\"id\"][0:10]\n",
    "placed = graph_placedauth[\"id\"][10:20]\n",
    "x = np.arange(len(labels))  # the label locations\n",
    "width = 0.35  # the width of the bars\n",
    "\n",
    "fig, ax = plt.subplots()\n",
    "rects1 = ax.bar(x - width/2, not_placed, width, label='Not Placed')\n",
    "rects2 = ax.bar(x + width/2, placed, width, label='Placed')\n",
    "\n",
    "ax.set_ylabel('Count')\n",
    "ax.set_title('work authorization status counts')\n",
    "ax.set_xticks(x)\n",
    "ax.set_xticklabels(labels)\n",
    "ax.legend()\n",
    "\n",
    "\n",
    "def autolabel(rects):\n",
    "    \"\"\"Attach a text label above each bar in *rects*, displaying its height.\"\"\"\n",
    "    for rect in rects:\n",
    "        height = rect.get_height()\n",
    "        ax.annotate('{}'.format(height),\n",
    "                    xy=(rect.get_x() + rect.get_width() / 2, height),\n",
    "                    xytext=(0, 3),  # 3 points vertical offset\n",
    "                    textcoords=\"offset points\",\n",
    "                    ha='center', va='bottom')\n",
    "\n",
    "\n",
    "autolabel(rects1)\n",
    "autolabel(rects2)\n",
    "\n",
    "fig.tight_layout()\n",
    "\n",
    "plt.show()"
   ]
  },
  {
   "cell_type": "markdown",
   "metadata": {},
   "source": [
    "The above graph shows the work authorisation counts under each category of work authorisation and show the divid between placed and not placed. 1 (Citizens) being the most placed and most not placed numbers. With the lowest amount being placed is 0 for unauthorised."
   ]
  },
  {
   "cell_type": "code",
   "execution_count": 111,
   "metadata": {},
   "outputs": [
    {
     "data": {
      "image/png": "[encoded data removed]",
      "text/plain": [
       "<Figure size 432x288 with 1 Axes>"
      ]
     },
     "metadata": {
      "needs_background": "light"
     },
     "output_type": "display_data"
    }
   ],
   "source": [
    "labels = graph_placedinter[\"number_of_interviews\"][0:3]\n",
    "not_placed = graph_placedinter[\"id\"][0:3]\n",
    "placed = graph_placedinter[\"id\"][3:6]\n",
    "x = np.arange(len(labels))  # the label locations\n",
    "width = 0.35  # the width of the bars\n",
    "\n",
    "fig, ax = plt.subplots()\n",
    "rects1 = ax.bar(x - width/2, not_placed, width, label='Not Placed')\n",
    "rects2 = ax.bar(x + width/2, placed, width, label='Placed')\n",
    "\n",
    "ax.set_ylabel('Count')\n",
    "ax.set_title('number_of_interviews')\n",
    "ax.set_xticks(x)\n",
    "ax.set_xticklabels(labels)\n",
    "ax.legend()\n",
    "\n",
    "\n",
    "def autolabel(rects):\n",
    "    \"\"\"Attach a text label above each bar in *rects*, displaying its height.\"\"\"\n",
    "    for rect in rects:\n",
    "        height = rect.get_height()\n",
    "        ax.annotate('{}'.format(height),\n",
    "                    xy=(rect.get_x() + rect.get_width() / 2, height),\n",
    "                    xytext=(0, 3),  # 3 points vertical offset\n",
    "                    textcoords=\"offset points\",\n",
    "                    ha='center', va='bottom')\n",
    "\n",
    "\n",
    "autolabel(rects1)\n",
    "autolabel(rects2)\n",
    "\n",
    "fig.tight_layout()\n",
    "\n",
    "plt.show()"
   ]
  },
  {
   "cell_type": "markdown",
   "metadata": {},
   "source": [
    "The above graph shows that number under each category of number of interviews with a split of placed and not placed. With if a candidate has more than equal to 10 interviews the amounts placed and not places are really close while with less than 10 interviews the amount not placed are staggerinly high."
   ]
  },
  {
   "cell_type": "code",
   "execution_count": 112,
   "metadata": {},
   "outputs": [],
   "source": [
    "lis_groupby = [\"status_enc\",\"primary_track_enc\", \"highest_level_of_education_enc\",\n",
    "              \"biggest_challenge_in_search_enc\", \"professional_experience_enc\", \"race_enc\",\n",
    "              \"gender_enc\", \"program_duration_days\", \"number_of_applications\", \"work_authorization_status_enc\",\n",
    "              \"number_of_interviews\"]\n",
    "for i in lis_groupby:\n",
    "    work_enc.groupby([\"placed\", i]).mean()\n",
    "    #print(work_enc.groupby([\"placed\", i]).mean())"
   ]
  },
  {
   "cell_type": "markdown",
   "metadata": {},
   "source": [
    "#### Basic details from the eda\n",
    "\n",
    "##### Placed\n",
    "###### The highest averge and lowest average (ignoring null values for each category) variable.\n",
    "<pre>\n",
    "status -                 placed <br>\n",
    "track -                  marketing               least - swe<br>\n",
    "education -              Some High School        least - ged<br>\n",
    "biggest -                Resume gap              least - final round<br>\n",
    "professional -           3-4                     least - 1-2<br>\n",
    "race -                   decline to indentify    least - native american<br>\n",
    "gender -                 non-binary              least - female<br> \n",
    "program -                l than eq 30            least - >30 l than eq 90<br>\n",
    "number_of_applications - l than eq 30 g 20       least - >30<br>\n",
    "work -                   Canada citizen          least - stem opt<br>\n",
    "inter -                  l than eq  10.0         least - g than eq 10<br>\n",
    "\n",
    "----------------------------------------------------\n",
    "##### not placed\n",
    "###### The highest average variable (ignoring null values) for categories.\n",
    "\n",
    "status -                 defered <br>\n",
    "track -                  swe<br>\n",
    "education -              Some High School<br>\n",
    "biggest -                Technical interviewing<br>\n",
    "professional -           5+ years<br>\n",
    "race -                   middle eastern<br>\n",
    "gender -                 male<br>\n",
    "program -                l than eq 30<br>\n",
    "number_of_applications - l than eq 30 g 20<br>\n",
    "work -                   Other<br>\n",
    "inter -                  l 10.0<br>\n",
    "\n",
    "</pre>"
   ]
  },
  {
   "cell_type": "code",
   "execution_count": 113,
   "metadata": {},
   "outputs": [],
   "source": [
    "work['status'].unique();"
   ]
  },
  {
   "cell_type": "code",
   "execution_count": 114,
   "metadata": {},
   "outputs": [],
   "source": [
    "work.loc[work[\"status\"].isin([\"Withdrawn\", 'Withdrawn (Failed)','Withdrawn (Trial)' ])]\n",
    "work.shape\n",
    "756/2544\n",
    "work.loc[work[\"status\"].isin(['Withdrawn (Trial)' ])]\n",
    "276/2544\n",
    "276/756\n",
    "work.loc[work[\"status\"].isin(['Placed'])]\n",
    "956/ (2544 - 756)\n",
    "work.loc[work[\"status\"].isin(['Placed', 'Active'])]\n",
    "1488/(2544-756);"
   ]
  },
  {
   "cell_type": "code",
   "execution_count": 115,
   "metadata": {},
   "outputs": [],
   "source": [
    "work.groupby(['program_duration_days']).mean();"
   ]
  },
  {
   "cell_type": "code",
   "execution_count": 116,
   "metadata": {},
   "outputs": [],
   "source": [
    "### feature changing to see the change in techniques"
   ]
  },
  {
   "cell_type": "code",
   "execution_count": 117,
   "metadata": {},
   "outputs": [],
   "source": [
    "work['status'].unique();"
   ]
  },
  {
   "cell_type": "code",
   "execution_count": 118,
   "metadata": {},
   "outputs": [],
   "source": [
    "work_enc= work_enc.drop([\"id\"], axis = 1)"
   ]
  },
  {
   "cell_type": "code",
   "execution_count": 119,
   "metadata": {},
   "outputs": [
    {
     "data": {
      "text/html": [
       "<div>\n",
       "<style scoped>\n",
       "    .dataframe tbody tr th:only-of-type {\n",
       "        vertical-align: middle;\n",
       "    }\n",
       "\n",
       "    .dataframe tbody tr th {\n",
       "        vertical-align: top;\n",
       "    }\n",
       "\n",
       "    .dataframe thead th {\n",
       "        text-align: right;\n",
       "    }\n",
       "</style>\n",
       "<table border=\"1\" class=\"dataframe\">\n",
       "  <thead>\n",
       "    <tr style=\"text-align: right;\">\n",
       "      <th></th>\n",
       "      <th>status_enc</th>\n",
       "      <th>primary_track_enc</th>\n",
       "      <th>program_duration_days</th>\n",
       "      <th>highest_level_of_education_enc</th>\n",
       "      <th>biggest_challenge_in_search_enc</th>\n",
       "      <th>professional_experience_enc</th>\n",
       "      <th>work_authorization_status_enc</th>\n",
       "      <th>race_enc</th>\n",
       "      <th>gender_enc</th>\n",
       "      <th>number_of_interviews</th>\n",
       "      <th>number_of_applications</th>\n",
       "      <th>placed</th>\n",
       "    </tr>\n",
       "  </thead>\n",
       "  <tbody>\n",
       "    <tr>\n",
       "      <th>0</th>\n",
       "      <td>0</td>\n",
       "      <td>4</td>\n",
       "      <td>2</td>\n",
       "      <td>0</td>\n",
       "      <td>5</td>\n",
       "      <td>1</td>\n",
       "      <td>0</td>\n",
       "      <td>6</td>\n",
       "      <td>2</td>\n",
       "      <td>0</td>\n",
       "      <td>3</td>\n",
       "      <td>0</td>\n",
       "    </tr>\n",
       "    <tr>\n",
       "      <th>1</th>\n",
       "      <td>0</td>\n",
       "      <td>3</td>\n",
       "      <td>2</td>\n",
       "      <td>5</td>\n",
       "      <td>2</td>\n",
       "      <td>0</td>\n",
       "      <td>1</td>\n",
       "      <td>6</td>\n",
       "      <td>2</td>\n",
       "      <td>0</td>\n",
       "      <td>0</td>\n",
       "      <td>0</td>\n",
       "    </tr>\n",
       "    <tr>\n",
       "      <th>2</th>\n",
       "      <td>2</td>\n",
       "      <td>1</td>\n",
       "      <td>0</td>\n",
       "      <td>4</td>\n",
       "      <td>1</td>\n",
       "      <td>3</td>\n",
       "      <td>1</td>\n",
       "      <td>2</td>\n",
       "      <td>2</td>\n",
       "      <td>0</td>\n",
       "      <td>0</td>\n",
       "      <td>0</td>\n",
       "    </tr>\n",
       "  </tbody>\n",
       "</table>\n",
       "</div>"
      ],
      "text/plain": [
       "   status_enc  primary_track_enc  program_duration_days  \\\n",
       "0           0                  4                      2   \n",
       "1           0                  3                      2   \n",
       "2           2                  1                      0   \n",
       "\n",
       "   highest_level_of_education_enc  biggest_challenge_in_search_enc  \\\n",
       "0                               0                                5   \n",
       "1                               5                                2   \n",
       "2                               4                                1   \n",
       "\n",
       "   professional_experience_enc  work_authorization_status_enc  race_enc  \\\n",
       "0                            1                              0         6   \n",
       "1                            0                              1         6   \n",
       "2                            3                              1         2   \n",
       "\n",
       "   gender_enc  number_of_interviews  number_of_applications  placed  \n",
       "0           2                     0                       3       0  \n",
       "1           2                     0                       0       0  \n",
       "2           2                     0                       0       0  "
      ]
     },
     "execution_count": 119,
     "metadata": {},
     "output_type": "execute_result"
    }
   ],
   "source": [
    "work_enc.head(3)"
   ]
  },
  {
   "cell_type": "markdown",
   "metadata": {},
   "source": [
    "## Step 4: Apply  ML Technique"
   ]
  },
  {
   "cell_type": "markdown",
   "metadata": {},
   "source": [
    "### data"
   ]
  },
  {
   "cell_type": "code",
   "execution_count": 120,
   "metadata": {},
   "outputs": [],
   "source": [
    "work_enc_long = work_enc[[\"status_enc\", \"primary_track_enc\", \n",
    "                                   \"highest_level_of_education_enc\", \"biggest_challenge_in_search_enc\", \"professional_experience_enc\",\n",
    "                                   \"work_authorization_status_enc\", \"race_enc\", \"gender_enc\", \"number_of_interviews\", \"number_of_applications\", \"placed\", \"program_duration_days\"]]"
   ]
  },
  {
   "cell_type": "code",
   "execution_count": 121,
   "metadata": {},
   "outputs": [],
   "source": [
    "work_enc_long;"
   ]
  },
  {
   "cell_type": "code",
   "execution_count": 122,
   "metadata": {},
   "outputs": [],
   "source": [
    "#work_enc = work_enc.drop([\"status_enc\"], axis =1)\n",
    "work_encarray = np.asarray(work_enc)"
   ]
  },
  {
   "cell_type": "code",
   "execution_count": 123,
   "metadata": {},
   "outputs": [],
   "source": [
    "work_encarray;"
   ]
  },
  {
   "cell_type": "code",
   "execution_count": 124,
   "metadata": {},
   "outputs": [],
   "source": [
    "x = work_encarray[:,0:11]\n",
    "y = work_encarray[:,11:12]"
   ]
  },
  {
   "cell_type": "code",
   "execution_count": 125,
   "metadata": {},
   "outputs": [
    {
     "data": {
      "text/plain": [
       "27984"
      ]
     },
     "execution_count": 125,
     "metadata": {},
     "output_type": "execute_result"
    }
   ],
   "source": [
    "x.size"
   ]
  },
  {
   "cell_type": "code",
   "execution_count": 126,
   "metadata": {},
   "outputs": [
    {
     "data": {
      "text/plain": [
       "2544"
      ]
     },
     "execution_count": 126,
     "metadata": {},
     "output_type": "execute_result"
    }
   ],
   "source": [
    "y.size"
   ]
  },
  {
   "cell_type": "code",
   "execution_count": 127,
   "metadata": {},
   "outputs": [
    {
     "data": {
      "text/plain": [
       "(2544, 11)"
      ]
     },
     "execution_count": 127,
     "metadata": {},
     "output_type": "execute_result"
    }
   ],
   "source": [
    "np.shape(x)"
   ]
  },
  {
   "cell_type": "code",
   "execution_count": 128,
   "metadata": {},
   "outputs": [
    {
     "data": {
      "text/plain": [
       "(2544, 1)"
      ]
     },
     "execution_count": 128,
     "metadata": {},
     "output_type": "execute_result"
    }
   ],
   "source": [
    "np.shape(y)"
   ]
  },
  {
   "cell_type": "code",
   "execution_count": 129,
   "metadata": {},
   "outputs": [
    {
     "data": {
      "text/plain": [
       "(2544, 1)"
      ]
     },
     "execution_count": 129,
     "metadata": {},
     "output_type": "execute_result"
    }
   ],
   "source": [
    "work_enc_longarray = np.asarray(work_enc_long)\n",
    "work_enc_longarray\n",
    "x1 = work_enc_longarray[:,0:11]\n",
    "y1 = work_enc_longarray[:,11:12]\n",
    "np.shape(x1)\n",
    "np.shape(y1)"
   ]
  },
  {
   "cell_type": "markdown",
   "metadata": {},
   "source": [
    "### Logistic Regression"
   ]
  },
  {
   "cell_type": "markdown",
   "metadata": {},
   "source": [
    "### placement"
   ]
  },
  {
   "cell_type": "code",
   "execution_count": 130,
   "metadata": {},
   "outputs": [],
   "source": [
    "from sklearn.model_selection import train_test_split\n",
    "import sklearn\n",
    "from sklearn.linear_model import LogisticRegression"
   ]
  },
  {
   "cell_type": "code",
   "execution_count": 131,
   "metadata": {},
   "outputs": [
    {
     "name": "stdout",
     "output_type": "stream",
     "text": [
      "(2035, 11)\n",
      "(509, 11)\n",
      "(2035, 1)\n",
      "(509, 1)\n"
     ]
    }
   ],
   "source": [
    "test_sizes = 0.20\n",
    "seed = 0\n",
    "X_train, X_test, Y_train, Y_test = train_test_split(x, y, test_size = test_sizes, random_state =seed)\n",
    "print(X_train.shape)\n",
    "print(X_test.shape)\n",
    "print(Y_train.shape)\n",
    "print(Y_test.shape)"
   ]
  },
  {
   "cell_type": "code",
   "execution_count": 132,
   "metadata": {},
   "outputs": [],
   "source": [
    "model = LogisticRegression()"
   ]
  },
  {
   "cell_type": "code",
   "execution_count": 133,
   "metadata": {},
   "outputs": [
    {
     "data": {
      "text/plain": [
       "LogisticRegression(C=1.0, class_weight=None, dual=False, fit_intercept=True,\n",
       "                   intercept_scaling=1, l1_ratio=None, max_iter=100,\n",
       "                   multi_class='auto', n_jobs=None, penalty='l2',\n",
       "                   random_state=None, solver='lbfgs', tol=0.0001, verbose=0,\n",
       "                   warm_start=False)"
      ]
     },
     "execution_count": 133,
     "metadata": {},
     "output_type": "execute_result"
    }
   ],
   "source": [
    "a = model.fit(X_train, Y_train)\n",
    "a"
   ]
  },
  {
   "cell_type": "code",
   "execution_count": 134,
   "metadata": {},
   "outputs": [],
   "source": [
    "predictions = model.predict(X_test)"
   ]
  },
  {
   "cell_type": "code",
   "execution_count": 135,
   "metadata": {},
   "outputs": [],
   "source": [
    "predictions;"
   ]
  },
  {
   "cell_type": "code",
   "execution_count": 136,
   "metadata": {},
   "outputs": [],
   "source": [
    "X_train;"
   ]
  },
  {
   "cell_type": "code",
   "execution_count": 137,
   "metadata": {},
   "outputs": [
    {
     "name": "stdout",
     "output_type": "stream",
     "text": [
      "0.7387033398821218\n"
     ]
    }
   ],
   "source": [
    "X_test;\n",
    "print(a.score(X_test, Y_test))"
   ]
  },
  {
   "cell_type": "code",
   "execution_count": 138,
   "metadata": {},
   "outputs": [
    {
     "name": "stdout",
     "output_type": "stream",
     "text": [
      "[[262  67]\n",
      " [ 66 114]]\n"
     ]
    }
   ],
   "source": [
    "from sklearn.metrics import confusion_matrix\n",
    "confusion_matrixx = confusion_matrix(Y_test, predictions)\n",
    "print(confusion_matrixx)"
   ]
  },
  {
   "cell_type": "code",
   "execution_count": 139,
   "metadata": {},
   "outputs": [],
   "source": [
    "# 262+114 correct, 67+66 incorrect"
   ]
  },
  {
   "cell_type": "code",
   "execution_count": 140,
   "metadata": {},
   "outputs": [
    {
     "name": "stdout",
     "output_type": "stream",
     "text": [
      "              precision    recall  f1-score   support\n",
      "\n",
      "           0       0.80      0.80      0.80       329\n",
      "           1       0.63      0.63      0.63       180\n",
      "\n",
      "    accuracy                           0.74       509\n",
      "   macro avg       0.71      0.71      0.71       509\n",
      "weighted avg       0.74      0.74      0.74       509\n",
      "\n"
     ]
    }
   ],
   "source": [
    "from sklearn.metrics import classification_report\n",
    "print(classification_report(Y_test, predictions))"
   ]
  },
  {
   "cell_type": "code",
   "execution_count": 141,
   "metadata": {},
   "outputs": [
    {
     "name": "stdout",
     "output_type": "stream",
     "text": [
      "program_duration_days 0.6298417909433656\n",
      "status_enc 0.23253357155598953\n",
      "gender_enc 0.19760162453920277\n",
      "professional_experience_enc 0.08766473837908476\n",
      "primary_track_enc 0.08457066620884718\n",
      "race_enc 0.026636579273193416\n",
      "number_of_interviews 0.0051510819563251676\n",
      "highest_level_of_education_enc -0.01334901108191046\n",
      "number_of_applications -0.015108128702744859\n",
      "work_authorization_status_enc -0.02378783499696138\n",
      "biggest_challenge_in_search_enc -0.03241174266032425\n"
     ]
    }
   ],
   "source": [
    "fe = (work_enc[0:11].columns)\n",
    "importance_feature = sorted(zip(fe, model.coef_[0]), key=lambda x:x[1], reverse=True)\n",
    "for f, v in importance_feature:\n",
    "    print(f, v)"
   ]
  },
  {
   "cell_type": "markdown",
   "metadata": {},
   "source": [
    "### Program_Duration_date"
   ]
  },
  {
   "cell_type": "code",
   "execution_count": 142,
   "metadata": {},
   "outputs": [
    {
     "name": "stdout",
     "output_type": "stream",
     "text": [
      "(2035, 11)\n",
      "(509, 11)\n",
      "(2035, 1)\n",
      "(509, 1)\n",
      "0.6286836935166994\n",
      "[[ 45   0  35  42]\n",
      " [  8   0   0  32]\n",
      " [ 11   0 124   0]\n",
      " [ 61   0   0 151]]\n",
      "              precision    recall  f1-score   support\n",
      "\n",
      "           0       0.36      0.37      0.36       122\n",
      "           1       0.00      0.00      0.00        40\n",
      "           2       0.78      0.92      0.84       135\n",
      "           3       0.67      0.71      0.69       212\n",
      "\n",
      "    accuracy                           0.63       509\n",
      "   macro avg       0.45      0.50      0.47       509\n",
      "weighted avg       0.57      0.63      0.60       509\n",
      "\n"
     ]
    }
   ],
   "source": [
    "test_sizes = 0.20\n",
    "seed = 0\n",
    "X_train1, X_test1, Y_train1, Y_test1 = train_test_split(x1, y1, test_size = test_sizes, random_state =seed)\n",
    "print(X_train1.shape)\n",
    "print(X_test1.shape)\n",
    "print(Y_train1.shape)\n",
    "print(Y_test1.shape)\n",
    "\n",
    "model1 = LogisticRegression()\n",
    "a1 = model1.fit(X_train1, Y_train1)\n",
    "a1\n",
    "predictions1 = model1.predict(X_test1)\n",
    "predictions1\n",
    "print(a1.score(X_test1, Y_test1))\n",
    "confusion_matrixx1 = confusion_matrix(Y_test1, predictions1)\n",
    "print(confusion_matrixx1)\n",
    "print(classification_report(Y_test1, predictions1))"
   ]
  },
  {
   "cell_type": "markdown",
   "metadata": {},
   "source": [
    "### Random Forest Classifier"
   ]
  },
  {
   "cell_type": "markdown",
   "metadata": {},
   "source": [
    "### Placed or Not Placed"
   ]
  },
  {
   "cell_type": "code",
   "execution_count": 143,
   "metadata": {},
   "outputs": [],
   "source": [
    "from sklearn.ensemble import RandomForestClassifier"
   ]
  },
  {
   "cell_type": "code",
   "execution_count": 144,
   "metadata": {},
   "outputs": [],
   "source": [
    "modelfc = RandomForestClassifier(max_depth=2, random_state=0)"
   ]
  },
  {
   "cell_type": "code",
   "execution_count": 145,
   "metadata": {},
   "outputs": [],
   "source": [
    "fitfc = modelfc.fit(X_train, Y_train)"
   ]
  },
  {
   "cell_type": "code",
   "execution_count": 146,
   "metadata": {},
   "outputs": [],
   "source": [
    "predictionfc = fitfc.predict(X_test)"
   ]
  },
  {
   "cell_type": "code",
   "execution_count": 147,
   "metadata": {},
   "outputs": [
    {
     "data": {
      "text/plain": [
       "0.9174852652259332"
      ]
     },
     "execution_count": 147,
     "metadata": {},
     "output_type": "execute_result"
    }
   ],
   "source": [
    "fitfc.score(X_test, Y_test)"
   ]
  },
  {
   "cell_type": "code",
   "execution_count": 148,
   "metadata": {},
   "outputs": [
    {
     "data": {
      "text/plain": [
       "array([[329,   0],\n",
       "       [ 42, 138]])"
      ]
     },
     "execution_count": 148,
     "metadata": {},
     "output_type": "execute_result"
    }
   ],
   "source": [
    "confusion_matrix(Y_test, predictionfc)"
   ]
  },
  {
   "cell_type": "code",
   "execution_count": 149,
   "metadata": {},
   "outputs": [
    {
     "name": "stdout",
     "output_type": "stream",
     "text": [
      "              precision    recall  f1-score   support\n",
      "\n",
      "           0       0.89      1.00      0.94       329\n",
      "           1       1.00      0.77      0.87       180\n",
      "\n",
      "    accuracy                           0.92       509\n",
      "   macro avg       0.94      0.88      0.90       509\n",
      "weighted avg       0.93      0.92      0.91       509\n",
      "\n"
     ]
    }
   ],
   "source": [
    "print(classification_report(Y_test, predictionfc))"
   ]
  },
  {
   "cell_type": "code",
   "execution_count": 150,
   "metadata": {},
   "outputs": [
    {
     "name": "stdout",
     "output_type": "stream",
     "text": [
      "status_enc 0.48489966185466543\n",
      "program_duration_days 0.2923250844293756\n",
      "primary_track_enc 0.08801477289733031\n",
      "professional_experience_enc 0.0510889633034032\n",
      "gender_enc 0.019124173073045682\n",
      "race_enc 0.017139426537677856\n",
      "highest_level_of_education_enc 0.014248349573913452\n",
      "work_authorization_status_enc 0.014237799857433906\n",
      "biggest_challenge_in_search_enc 0.013918578780834787\n",
      "number_of_applications 0.004687238417830173\n",
      "number_of_interviews 0.00031595127448962187\n"
     ]
    },
    {
     "data": {
      "text/plain": [
       "Text(0.5, 0, 'Random Forest Classifier Importance features')"
      ]
     },
     "execution_count": 150,
     "metadata": {},
     "output_type": "execute_result"
    },
    {
     "data": {
      "image/png": "[encoded data removed]",
      "text/plain": [
       "<Figure size 432x288 with 1 Axes>"
      ]
     },
     "metadata": {
      "needs_background": "light"
     },
     "output_type": "display_data"
    }
   ],
   "source": [
    "fe = (work_enc[0:11].columns)\n",
    "importance_feature = sorted(zip(fe, modelfc.feature_importances_), key=lambda x:x[1], reverse=True)\n",
    "for f, v in importance_feature:\n",
    "    print(f, v)\n",
    "\n",
    "sorted_idx = modelfc.feature_importances_.argsort()\n",
    "plt.barh(fe[sorted_idx],modelfc.feature_importances_[sorted_idx])\n",
    "plt.xlabel(\"Random Forest Classifier Importance features\")"
   ]
  },
  {
   "cell_type": "markdown",
   "metadata": {},
   "source": [
    "### Program_Duration_date"
   ]
  },
  {
   "cell_type": "code",
   "execution_count": 151,
   "metadata": {},
   "outputs": [
    {
     "name": "stdout",
     "output_type": "stream",
     "text": [
      "0.8290766208251473\n",
      "[[ 86   0   0  36]\n",
      " [  1   0   0  39]\n",
      " [  0   0 124  11]\n",
      " [  0   0   0 212]]\n",
      "              precision    recall  f1-score   support\n",
      "\n",
      "           0       0.99      0.70      0.82       122\n",
      "           1       0.00      0.00      0.00        40\n",
      "           2       1.00      0.92      0.96       135\n",
      "           3       0.71      1.00      0.83       212\n",
      "\n",
      "    accuracy                           0.83       509\n",
      "   macro avg       0.67      0.66      0.65       509\n",
      "weighted avg       0.80      0.83      0.80       509\n",
      "\n"
     ]
    }
   ],
   "source": [
    "modelfc1 = RandomForestClassifier(max_depth=4, random_state=0)\n",
    "fitfc1 = modelfc1.fit(X_train1, Y_train1)\n",
    "fitfc1\n",
    "predictionsfc1 = modelfc1.predict(X_test1)\n",
    "predictionsfc1\n",
    "print(fitfc1.score(X_test1, Y_test1))\n",
    "confusion_matrixxfc1 = confusion_matrix(Y_test1, predictionsfc1)\n",
    "print(confusion_matrixxfc1)\n",
    "print(classification_report(Y_test1, predictionsfc1))"
   ]
  },
  {
   "cell_type": "markdown",
   "metadata": {},
   "source": [
    "### New Data from out of the file to predict with the features if they'll be placed or not"
   ]
  },
  {
   "cell_type": "code",
   "execution_count": 152,
   "metadata": {},
   "outputs": [],
   "source": [
    "new_data = [(0, 3, 2, 0, 6, 1, 0, 6, 1, 0, 2), (1, 3, 1, 0, 6, 1, 0, 5, 1, 0, 1)]"
   ]
  },
  {
   "cell_type": "code",
   "execution_count": 153,
   "metadata": {},
   "outputs": [],
   "source": [
    "x[0];"
   ]
  },
  {
   "cell_type": "code",
   "execution_count": 154,
   "metadata": {},
   "outputs": [],
   "source": [
    "new_array = np.asarray(new_data)"
   ]
  },
  {
   "cell_type": "code",
   "execution_count": 155,
   "metadata": {},
   "outputs": [],
   "source": [
    "labels =[\"not placed\", \"placed\"]"
   ]
  },
  {
   "cell_type": "markdown",
   "metadata": {},
   "source": [
    "#### Logistic Regression with 74%"
   ]
  },
  {
   "cell_type": "code",
   "execution_count": 156,
   "metadata": {},
   "outputs": [],
   "source": [
    "new_predicts = model.predict(new_array)"
   ]
  },
  {
   "cell_type": "code",
   "execution_count": 157,
   "metadata": {},
   "outputs": [
    {
     "name": "stdout",
     "output_type": "stream",
     "text": [
      "(0, 3, 2, 0, 6, 1, 0, 6, 1, 0, 2) not placed\n",
      "(1, 3, 1, 0, 6, 1, 0, 5, 1, 0, 1) not placed\n"
     ]
    }
   ],
   "source": [
    "for i in range(2):\n",
    "    print(new_data[i], labels[int(new_predicts[i])])\n",
    "    "
   ]
  },
  {
   "cell_type": "code",
   "execution_count": 158,
   "metadata": {},
   "outputs": [
    {
     "data": {
      "text/plain": [
       "array([0, 0])"
      ]
     },
     "execution_count": 158,
     "metadata": {},
     "output_type": "execute_result"
    }
   ],
   "source": [
    "new_predicts"
   ]
  },
  {
   "cell_type": "markdown",
   "metadata": {},
   "source": [
    "#### Random Forest Classifier with 91%"
   ]
  },
  {
   "cell_type": "code",
   "execution_count": 159,
   "metadata": {},
   "outputs": [],
   "source": [
    "new_predictfc = modelfc.predict(new_array)"
   ]
  },
  {
   "cell_type": "code",
   "execution_count": 160,
   "metadata": {},
   "outputs": [
    {
     "name": "stdout",
     "output_type": "stream",
     "text": [
      "(0, 3, 2, 0, 6, 1, 0, 6, 1, 0, 2) not placed\n",
      "(1, 3, 1, 0, 6, 1, 0, 5, 1, 0, 1) not placed\n"
     ]
    }
   ],
   "source": [
    "for i in range(2):\n",
    "    print(new_data[i], labels[int(new_predictfc[i])])"
   ]
  },
  {
   "cell_type": "code",
   "execution_count": 161,
   "metadata": {},
   "outputs": [
    {
     "data": {
      "text/plain": [
       "array([0, 0])"
      ]
     },
     "execution_count": 161,
     "metadata": {},
     "output_type": "execute_result"
    }
   ],
   "source": [
    "new_predictfc"
   ]
  },
  {
   "cell_type": "markdown",
   "metadata": {},
   "source": [
    "### New Data from out of the file to predict with the features the program time"
   ]
  },
  {
   "cell_type": "code",
   "execution_count": 162,
   "metadata": {},
   "outputs": [],
   "source": [
    "new_data1 = [(0, 3, 0, 5, 1, 0, 5, 2, 0, 3, 1), (0, 3, 0, 5, 1, 0, 6, 1, 0, 3, 2)]"
   ]
  },
  {
   "cell_type": "code",
   "execution_count": 163,
   "metadata": {},
   "outputs": [],
   "source": [
    "x1[0];"
   ]
  },
  {
   "cell_type": "code",
   "execution_count": 164,
   "metadata": {},
   "outputs": [],
   "source": [
    "new_array1 = np.asarray(new_data1)"
   ]
  },
  {
   "cell_type": "code",
   "execution_count": 165,
   "metadata": {},
   "outputs": [],
   "source": [
    "labels1 =[\"less than equal 30\", \"31-90\", \"don't know (or active)\", \"greater than 90\"]"
   ]
  },
  {
   "cell_type": "markdown",
   "metadata": {},
   "source": [
    "#### Logisitic Regression"
   ]
  },
  {
   "cell_type": "code",
   "execution_count": 166,
   "metadata": {},
   "outputs": [
    {
     "name": "stdout",
     "output_type": "stream",
     "text": [
      "(0, 3, 0, 5, 1, 0, 5, 2, 0, 3, 1) don't know (or active)\n",
      "(0, 3, 0, 5, 1, 0, 6, 1, 0, 3, 2) 31-90\n"
     ]
    },
    {
     "data": {
      "text/plain": [
       "array([2, 1])"
      ]
     },
     "execution_count": 166,
     "metadata": {},
     "output_type": "execute_result"
    }
   ],
   "source": [
    "new_predicts1 = model1.predict(new_array1)\n",
    "for i in range(2):\n",
    "    print(new_data1[i], labels1[int(new_predicts1[i])])\n",
    "new_predicts1"
   ]
  },
  {
   "cell_type": "markdown",
   "metadata": {},
   "source": [
    "#### Random Forest Classifier"
   ]
  },
  {
   "cell_type": "code",
   "execution_count": 167,
   "metadata": {},
   "outputs": [
    {
     "name": "stdout",
     "output_type": "stream",
     "text": [
      "(0, 3, 0, 5, 1, 0, 5, 2, 0, 3, 1) don't know (or active)\n",
      "(0, 3, 0, 5, 1, 0, 6, 1, 0, 3, 2) don't know (or active)\n"
     ]
    },
    {
     "data": {
      "text/plain": [
       "array([2, 2])"
      ]
     },
     "execution_count": 167,
     "metadata": {},
     "output_type": "execute_result"
    }
   ],
   "source": [
    "new_predictfc1 = modelfc1.predict(new_array1)\n",
    "for i in range(2):\n",
    "    print(new_data1[i], labels1[int(new_predictfc1[i])])\n",
    "new_predictfc1"
   ]
  },
  {
   "cell_type": "markdown",
   "metadata": {},
   "source": [
    "To reduce false positives and keep a good ratio with false negatives we need to choose cutoff probabilities that give a good ratio between false positives and false negatives."
   ]
  },
  {
   "cell_type": "markdown",
   "metadata": {},
   "source": [
    "The major impact if the model predicts wrong is a loss of resources for the company or no earnings because if a candidate that is likely to be placed is predicted incorrecrly the company looses its revenue."
   ]
  },
  {
   "cell_type": "markdown",
   "metadata": {},
   "source": [
    "Random forest did better because it is a more sophisticated ml algorithm."
   ]
  },
  {
   "cell_type": "markdown",
   "metadata": {},
   "source": [
    "## Step 5: Business insights"
   ]
  },
  {
   "cell_type": "markdown",
   "metadata": {},
   "source": [
    "<pre>\n",
    "Just to start, we shall see the various insights from withdrawal so that we can make an estimate about when a person gets enrolled how likely are they going to withdraw that is an auto not placed.\n",
    "\n",
    "\n",
    "The total withdrawn rates are 29% including trial and failure and other.\n",
    "\n",
    "The percent withdrawn with the trail ending are 10%.\n",
    "\n",
    "Out of the total withdrawn (trail, failure and other), percentage withdrawn in trail are 36%\n",
    "\n",
    "out of the number of people not withdrawn the percentage places is - 53% (this excludes active)\n",
    "\n",
    "out of the number of people not withdrawn the percentage places and is active - 83%\n",
    "</pre>\n"
   ]
  },
  {
   "cell_type": "markdown",
   "metadata": {},
   "source": [
    "###### Some insights for categories and areas"
   ]
  },
  {
   "cell_type": "markdown",
   "metadata": {},
   "source": [
    "People with work authorisation not authorised are all enrolled and they don't get places so maybe focus on not enrolling people with no work authorisation."
   ]
  },
  {
   "cell_type": "markdown",
   "metadata": {},
   "source": [
    "<pe>Over all placed more people with less than 10 interviews although as the interviews increase the gap between placed and not placed decreases. </pe>"
   ]
  },
  {
   "cell_type": "markdown",
   "metadata": {},
   "source": [
    "Some features and groups that are great (higher averages) when being placed and are places are in marketing tracks, at least some high school education and enrolled in a high school (so no include ged), usually have issues relating to resume gaps and have at least 3-4 years of experience, between 20-30 applications, with overall around 10 interviews are more likely to be placed.\n",
    "\n",
    "Some features and groups that are great (higher averages) to show not placement are in deferred status, SWE track (probably because the total amounts are more as well), struggle with technical interviewing, a lot of experience, and very few applications less than 10."
   ]
  },
  {
   "cell_type": "markdown",
   "metadata": {},
   "source": [
    "For the logistic regression classification model: program duration is an important feature while biggest challenges in searching doesn't weight as much. So, while researching manually focus more on average times it takes for people to be placed.\n",
    "\n",
    "For random forest classification model: status is an important feature and number of interviews isn't, so while manually focusing we can give more weight to percentages and proportions in status."
   ]
  },
  {
   "cell_type": "markdown",
   "metadata": {},
   "source": [
    "<pe>\n",
    "> Knowing that marketing track does well, consider reaching out to more people with that track. <br>\n",
    "> Don't enroll people with no work authorisation <br>\n",
    "> Average interviews that are good is around 10 <br>\n",
    "> Resume gap issues usually have success in place <br>\n",
    "> Defer only people who need it a lot  <br>\n",
    "> People struggling with technical interviewing are less likely to be placed so focus more on their technical skills. <br>\n",
    "</pe>"
   ]
  },
  {
   "cell_type": "markdown",
   "metadata": {},
   "source": [
    "-----------------------------------------------------------\n",
    "Around 80% of the people that are enrolled in are going to be placed.\n",
    "SWE track people normally get placed the most frequent(higher average) in under or equal to 30 days.\n",
    "Design track people normally get placed the most frequent(higher average) in around 31-90 days.\n",
    "Web track people normally get placed the most frequent(higher average) in more than 90 days."
   ]
  }
 ],
 "metadata": {
  "kernelspec": {
   "display_name": "Python 3",
   "language": "python",
   "name": "python3"
  },
  "language_info": {
   "codemirror_mode": {
    "name": "ipython",
    "version": 3
   },
   "file_extension": ".py",
   "mimetype": "text/x-python",
   "name": "python",
   "nbconvert_exporter": "python",
   "pygments_lexer": "ipython3",
   "version": "3.7.6"
  }
 },
 "nbformat": 4,
 "nbformat_minor": 4
}
