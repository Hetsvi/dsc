{
 "cells": [
  {
   "cell_type": "markdown",
   "metadata": {},
   "source": [
    "# Candidate Placement**"
   ]
  },
  {
   "cell_type": "markdown",
   "metadata": {},
   "source": [
    "This project deals with predicting whether a student/ person enrolled in a recruitment company will get placed in the industry and the time it shall take in the process. The candidate has the option to withdraw during the first 2 weeks of the trial phase."
   ]
  },
  {
   "cell_type": "markdown",
   "metadata": {},
   "source": [
    "## Step 1: Data Question\n",
    "\n",
    "#### Will the candidate be placed and if yes how long will it take for them to get placed?\n",
    "\n",
    "\n",
    "** many of the output have been hided, please remove the ; to view that output if you want to see the output<br>\n",
    "** Data source: private unit publish with consent"
   ]
  },
  {
   "cell_type": "markdown",
   "metadata": {},
   "source": [
    "## Step 2: Get and Clean Data"
   ]
  },
  {
   "cell_type": "code",
   "execution_count": 1,
   "metadata": {},
   "outputs": [],
   "source": [
    "import pandas as pd"
   ]
  },
  {
   "cell_type": "code",
   "execution_count": 2,
   "metadata": {},
   "outputs": [],
   "source": [
    "import warnings\n",
    "warnings.simplefilter(action='ignore', category=FutureWarning)\n",
    "warnings.simplefilter(action='ignore', category=Warning)"
   ]
  },
  {
   "cell_type": "code",
   "execution_count": 3,
   "metadata": {},
   "outputs": [],
   "source": [
    "import numpy as np\n",
    "work = pd.read_excel(\"Data_Pathrise.xlsx\") # data source private xlsx file"
   ]
  },
  {
   "cell_type": "code",
   "execution_count": 4,
   "metadata": {},
   "outputs": [],
   "source": [
    "work.head();"
   ]
  },
  {
   "cell_type": "code",
   "execution_count": 5,
   "metadata": {},
   "outputs": [
    {
     "data": {
      "text/html": [
       "<div>\n",
       "<style scoped>\n",
       "    .dataframe tbody tr th:only-of-type {\n",
       "        vertical-align: middle;\n",
       "    }\n",
       "\n",
       "    .dataframe tbody tr th {\n",
       "        vertical-align: top;\n",
       "    }\n",
       "\n",
       "    .dataframe thead th {\n",
       "        text-align: right;\n",
       "    }\n",
       "</style>\n",
       "<table border=\"1\" class=\"dataframe\">\n",
       "  <thead>\n",
       "    <tr style=\"text-align: right;\">\n",
       "      <th></th>\n",
       "      <th>count</th>\n",
       "      <th>mean</th>\n",
       "      <th>std</th>\n",
       "      <th>min</th>\n",
       "      <th>25%</th>\n",
       "      <th>50%</th>\n",
       "      <th>75%</th>\n",
       "      <th>max</th>\n",
       "    </tr>\n",
       "  </thead>\n",
       "  <tbody>\n",
       "    <tr>\n",
       "      <th>id</th>\n",
       "      <td>2544.0</td>\n",
       "      <td>1272.500000</td>\n",
       "      <td>734.533866</td>\n",
       "      <td>1.0</td>\n",
       "      <td>636.75</td>\n",
       "      <td>1272.5</td>\n",
       "      <td>1908.25</td>\n",
       "      <td>2544.0</td>\n",
       "    </tr>\n",
       "    <tr>\n",
       "      <th>program_duration_days</th>\n",
       "      <td>1928.0</td>\n",
       "      <td>136.098548</td>\n",
       "      <td>125.860248</td>\n",
       "      <td>0.0</td>\n",
       "      <td>14.00</td>\n",
       "      <td>112.0</td>\n",
       "      <td>224.00</td>\n",
       "      <td>548.0</td>\n",
       "    </tr>\n",
       "    <tr>\n",
       "      <th>placed</th>\n",
       "      <td>2544.0</td>\n",
       "      <td>0.375786</td>\n",
       "      <td>0.484420</td>\n",
       "      <td>0.0</td>\n",
       "      <td>0.00</td>\n",
       "      <td>0.0</td>\n",
       "      <td>1.00</td>\n",
       "      <td>1.0</td>\n",
       "    </tr>\n",
       "    <tr>\n",
       "      <th>number_of_interviews</th>\n",
       "      <td>2326.0</td>\n",
       "      <td>2.182287</td>\n",
       "      <td>2.959273</td>\n",
       "      <td>0.0</td>\n",
       "      <td>0.00</td>\n",
       "      <td>1.0</td>\n",
       "      <td>3.00</td>\n",
       "      <td>20.0</td>\n",
       "    </tr>\n",
       "    <tr>\n",
       "      <th>number_of_applications</th>\n",
       "      <td>2544.0</td>\n",
       "      <td>36.500786</td>\n",
       "      <td>53.654896</td>\n",
       "      <td>0.0</td>\n",
       "      <td>9.00</td>\n",
       "      <td>20.0</td>\n",
       "      <td>45.00</td>\n",
       "      <td>1000.0</td>\n",
       "    </tr>\n",
       "  </tbody>\n",
       "</table>\n",
       "</div>"
      ],
      "text/plain": [
       "                         count         mean         std  min     25%     50%  \\\n",
       "id                      2544.0  1272.500000  734.533866  1.0  636.75  1272.5   \n",
       "program_duration_days   1928.0   136.098548  125.860248  0.0   14.00   112.0   \n",
       "placed                  2544.0     0.375786    0.484420  0.0    0.00     0.0   \n",
       "number_of_interviews    2326.0     2.182287    2.959273  0.0    0.00     1.0   \n",
       "number_of_applications  2544.0    36.500786   53.654896  0.0    9.00    20.0   \n",
       "\n",
       "                            75%     max  \n",
       "id                      1908.25  2544.0  \n",
       "program_duration_days    224.00   548.0  \n",
       "placed                     1.00     1.0  \n",
       "number_of_interviews       3.00    20.0  \n",
       "number_of_applications    45.00  1000.0  "
      ]
     },
     "execution_count": 5,
     "metadata": {},
     "output_type": "execute_result"
    }
   ],
   "source": [
    "work.describe().T #basic details of data"
   ]
  },
  {
   "cell_type": "code",
   "execution_count": 6,
   "metadata": {},
   "outputs": [
    {
     "name": "stdout",
     "output_type": "stream",
     "text": [
      "<class 'pandas.core.frame.DataFrame'>\n",
      "RangeIndex: 2544 entries, 0 to 2543\n",
      "Data columns (total 16 columns):\n",
      " #   Column                       Non-Null Count  Dtype  \n",
      "---  ------                       --------------  -----  \n",
      " 0   id                           2544 non-null   int64  \n",
      " 1   status                       2544 non-null   object \n",
      " 2   primary_track                2544 non-null   object \n",
      " 3   cohort_tag                   2536 non-null   object \n",
      " 4   program_duration_days        1928 non-null   float64\n",
      " 5   placed                       2544 non-null   int64  \n",
      " 6   employment_status            2315 non-null   object \n",
      " 7   highest_level_of_education   2486 non-null   object \n",
      " 8   length_of_job_search         2470 non-null   object \n",
      " 9   biggest_challenge_in_search  2520 non-null   object \n",
      " 10  professional_experience      2322 non-null   object \n",
      " 11  work_authorization_status    2260 non-null   object \n",
      " 12  number_of_interviews         2326 non-null   float64\n",
      " 13  number_of_applications       2544 non-null   int64  \n",
      " 14  gender                       2052 non-null   object \n",
      " 15  race                         2526 non-null   object \n",
      "dtypes: float64(2), int64(3), object(11)\n",
      "memory usage: 318.1+ KB\n"
     ]
    }
   ],
   "source": [
    "work.info()"
   ]
  },
  {
   "cell_type": "code",
   "execution_count": 7,
   "metadata": {},
   "outputs": [
    {
     "data": {
      "text/html": [
       "<div>\n",
       "<style scoped>\n",
       "    .dataframe tbody tr th:only-of-type {\n",
       "        vertical-align: middle;\n",
       "    }\n",
       "\n",
       "    .dataframe tbody tr th {\n",
       "        vertical-align: top;\n",
       "    }\n",
       "\n",
       "    .dataframe thead th {\n",
       "        text-align: right;\n",
       "    }\n",
       "</style>\n",
       "<table border=\"1\" class=\"dataframe\">\n",
       "  <thead>\n",
       "    <tr style=\"text-align: right;\">\n",
       "      <th></th>\n",
       "      <th>count</th>\n",
       "      <th>unique</th>\n",
       "      <th>top</th>\n",
       "      <th>freq</th>\n",
       "    </tr>\n",
       "  </thead>\n",
       "  <tbody>\n",
       "    <tr>\n",
       "      <th>status</th>\n",
       "      <td>2544</td>\n",
       "      <td>9</td>\n",
       "      <td>Placed</td>\n",
       "      <td>956</td>\n",
       "    </tr>\n",
       "    <tr>\n",
       "      <th>primary_track</th>\n",
       "      <td>2544</td>\n",
       "      <td>6</td>\n",
       "      <td>SWE</td>\n",
       "      <td>1678</td>\n",
       "    </tr>\n",
       "    <tr>\n",
       "      <th>cohort_tag</th>\n",
       "      <td>2536</td>\n",
       "      <td>47</td>\n",
       "      <td>JAN19A</td>\n",
       "      <td>132</td>\n",
       "    </tr>\n",
       "    <tr>\n",
       "      <th>employment_status</th>\n",
       "      <td>2315</td>\n",
       "      <td>5</td>\n",
       "      <td>Student</td>\n",
       "      <td>775</td>\n",
       "    </tr>\n",
       "    <tr>\n",
       "      <th>highest_level_of_education</th>\n",
       "      <td>2486</td>\n",
       "      <td>7</td>\n",
       "      <td>Bachelor's Degree</td>\n",
       "      <td>1361</td>\n",
       "    </tr>\n",
       "    <tr>\n",
       "      <th>length_of_job_search</th>\n",
       "      <td>2470</td>\n",
       "      <td>5</td>\n",
       "      <td>Less than one month</td>\n",
       "      <td>815</td>\n",
       "    </tr>\n",
       "    <tr>\n",
       "      <th>biggest_challenge_in_search</th>\n",
       "      <td>2520</td>\n",
       "      <td>10</td>\n",
       "      <td>Hearing back on my applications</td>\n",
       "      <td>1002</td>\n",
       "    </tr>\n",
       "    <tr>\n",
       "      <th>professional_experience</th>\n",
       "      <td>2322</td>\n",
       "      <td>4</td>\n",
       "      <td>1-2 years</td>\n",
       "      <td>882</td>\n",
       "    </tr>\n",
       "    <tr>\n",
       "      <th>work_authorization_status</th>\n",
       "      <td>2260</td>\n",
       "      <td>9</td>\n",
       "      <td>Citizen</td>\n",
       "      <td>1104</td>\n",
       "    </tr>\n",
       "    <tr>\n",
       "      <th>gender</th>\n",
       "      <td>2052</td>\n",
       "      <td>4</td>\n",
       "      <td>Male</td>\n",
       "      <td>1492</td>\n",
       "    </tr>\n",
       "    <tr>\n",
       "      <th>race</th>\n",
       "      <td>2526</td>\n",
       "      <td>9</td>\n",
       "      <td>East Asian or Asian American</td>\n",
       "      <td>900</td>\n",
       "    </tr>\n",
       "  </tbody>\n",
       "</table>\n",
       "</div>"
      ],
      "text/plain": [
       "                            count unique                              top  \\\n",
       "status                       2544      9                           Placed   \n",
       "primary_track                2544      6                              SWE   \n",
       "cohort_tag                   2536     47                           JAN19A   \n",
       "employment_status            2315      5                          Student   \n",
       "highest_level_of_education   2486      7                Bachelor's Degree   \n",
       "length_of_job_search         2470      5              Less than one month   \n",
       "biggest_challenge_in_search  2520     10  Hearing back on my applications   \n",
       "professional_experience      2322      4                        1-2 years   \n",
       "work_authorization_status    2260      9                          Citizen   \n",
       "gender                       2052      4                             Male   \n",
       "race                         2526      9     East Asian or Asian American   \n",
       "\n",
       "                             freq  \n",
       "status                        956  \n",
       "primary_track                1678  \n",
       "cohort_tag                    132  \n",
       "employment_status             775  \n",
       "highest_level_of_education   1361  \n",
       "length_of_job_search          815  \n",
       "biggest_challenge_in_search  1002  \n",
       "professional_experience       882  \n",
       "work_authorization_status    1104  \n",
       "gender                       1492  \n",
       "race                          900  "
      ]
     },
     "execution_count": 7,
     "metadata": {},
     "output_type": "execute_result"
    }
   ],
   "source": [
    "work.describe(include=['object']).T"
   ]
  },
  {
   "cell_type": "code",
   "execution_count": 8,
   "metadata": {},
   "outputs": [],
   "source": [
    "work.columns;"
   ]
  },
  {
   "cell_type": "code",
   "execution_count": 9,
   "metadata": {},
   "outputs": [],
   "source": [
    "work = work.rename(columns={'employment_status ':\"employment_status\"}) #renaming"
   ]
  },
  {
   "cell_type": "code",
   "execution_count": 10,
   "metadata": {},
   "outputs": [],
   "source": [
    "work.columns;"
   ]
  },
  {
   "cell_type": "markdown",
   "metadata": {},
   "source": [
    "#### Categorising data later used in Step 4 for technique apply"
   ]
  },
  {
   "cell_type": "code",
   "execution_count": 11,
   "metadata": {},
   "outputs": [],
   "source": [
    "lis = ['status','primary_track','cohort_tag','highest_level_of_education', 'biggest_challenge_in_search'\n",
    "      , 'professional_experience', 'work_authorization_status','race', 'gender']\n",
    "for i in lis:\n",
    "    work[i] = work[i].astype(\"category\")\n",
    "    work[i+\"_enc\"] = work[i].cat.codes  # converting the category data to codes\n",
    "    "
   ]
  },
  {
   "cell_type": "code",
   "execution_count": 12,
   "metadata": {},
   "outputs": [],
   "source": [
    "work.loc[work[\"number_of_interviews\"] < 10.0, \"number_of_interviews\"] = 0\n",
    "work.loc[work[\"number_of_interviews\"] >= 10.0, \"number_of_interviews\"] = 1\n",
    "work.loc[(work[\"number_of_interviews\"].isnull()) , \"number_of_interviews\"] = 2"
   ]
  },
  {
   "cell_type": "code",
   "execution_count": 13,
   "metadata": {},
   "outputs": [],
   "source": [
    "work.loc[work[\"number_of_applications\"] <= 10, \"number_of_applications\"] = 0\n",
    "work.loc[(work[\"number_of_applications\"] <= 20) & (work[\"number_of_applications\"] >10), \"number_of_applications\"] = 1\n",
    "work.loc[(work[\"number_of_applications\"] <= 30) & (work[\"number_of_applications\"] >20) , \"number_of_applications\"] = 2\n",
    "work.loc[work[\"number_of_applications\"] > 30, \"number_of_applications\"] = 3"
   ]
  },
  {
   "cell_type": "code",
   "execution_count": 14,
   "metadata": {},
   "outputs": [],
   "source": [
    "work.loc[work[\"program_duration_days\"] <= 30, \"program_duration_days\"] = 0\n",
    "work.loc[(work[\"program_duration_days\"] <= 90) & (work[\"program_duration_days\"] >30), \"program_duration_days\"] = 1\n",
    "work.loc[(work[\"program_duration_days\"].isnull()) , \"program_duration_days\"] = 2\n",
    "work.loc[work[\"program_duration_days\"] > 90, \"program_duration_days\"] = 3"
   ]
  },
  {
   "cell_type": "code",
   "execution_count": 15,
   "metadata": {},
   "outputs": [],
   "source": [
    "lis_drop_duplicates = [\"status\",\"primary_track\",\"highest_level_of_education\",\n",
    "                      \"biggest_challenge_in_search\",\"race\"]\n",
    "for i in lis_drop_duplicates:\n",
    "    work.drop_duplicates(subset = [i])"
   ]
  },
  {
   "cell_type": "code",
   "execution_count": 16,
   "metadata": {},
   "outputs": [],
   "source": [
    "work.drop_duplicates(subset = [\"professional_experience\"])[[\"professional_experience\",\"professional_experience_enc\"]];"
   ]
  },
  {
   "cell_type": "code",
   "execution_count": 17,
   "metadata": {},
   "outputs": [],
   "source": [
    "work.drop_duplicates(subset = [\"work_authorization_status\"])[\"work_authorization_status\"];"
   ]
  },
  {
   "cell_type": "code",
   "execution_count": 18,
   "metadata": {},
   "outputs": [],
   "source": [
    "work.drop_duplicates(subset = [\"gender\"])[\"gender\"];"
   ]
  },
  {
   "cell_type": "markdown",
   "metadata": {},
   "source": [
    "#### Categories\n",
    "\n",
    "##### status \n",
    "active 0 <br>\n",
    "closed lost 2 <br>\n",
    "placed 5<br>\n",
    "withdrawn (failed) 7<br>\n",
    "withdrawn (trial) 8<br>\n",
    "withdrawn 6<br>\n",
    "defered 3<br>\n",
    "break 1<br>\n",
    "mia 4<br>\n",
    "\n",
    "##### track\n",
    "swe 4<br>\n",
    "pso 3<br>\n",
    "design 1<br>\n",
    "data 0<br>\n",
    "web 5<br>\n",
    "marketing 2<br>\n",
    "\n",
    "##### education\n",
    "Bachelor's Degree 0<br>\n",
    "Some College, No Degree 5<br>\n",
    "Master's Degree 4<br>\n",
    "NaN -1<br>\n",
    "Doctorate or Professional Degree 1<br>\n",
    "High School Graduate 3<br>\n",
    "GED or equivalent 2<br>\n",
    "Some High School 6<br>\n",
    "\n",
    "##### biggest challenge\n",
    "Hearing back on my applications 5<br>\n",
    "Getting past final round interviews 2<br>\n",
    "Figuring out which jobs to apply for 1<br>\n",
    "Technical interviewing 8<br>\n",
    "Getting past phone screens 4<br>\n",
    "Lack of relevant experience 6<br>\n",
    "Technical skills 9<br>\n",
    "Getting past mid-stage interviews 3<br>\n",
    "Behavioral interviewing 0<br>\n",
    "Resume gap 7<br>\n",
    "NaN -1<br>\n",
    "\n",
    "##### professional\n",
    "3-4 years 1<br>\n",
    "1-2 years 0<br>\n",
    "Less than one year 3<br>\n",
    "5+ years 2<br>\n",
    "NaN -1<br>\n",
    "\n",
    "###### work\n",
    "Canada Citizen 0<br>\n",
    "Citizen 1<br>\n",
    "F1 Visa/OPT 3<br>\n",
    "Green Card 4<br>\n",
    "F1 Visa/CPT 2<br>\n",
    "Other 7<br>\n",
    "NaN -1<br>\n",
    "STEM OPT 8<br>\n",
    "Not Authorized 6<br>\n",
    "H1B 5<br>\n",
    "\n",
    "##### race\n",
    "white 6<br>\n",
    "east asian 2<br>\n",
    "devline to identify 1<br>\n",
    "black 0<br>\n",
    "latino 3<br>\n",
    "middle eastern 4<br>\n",
    "south asian 7<br>\n",
    "two or more 8<br>\n",
    "native american 5<br>\n",
    "nan -1<br>\n",
    "\n",
    "##### gender\n",
    "male 2<br>\n",
    "female 1<br>\n",
    "NaN -1<br>\n",
    "decline to identify 0<br>\n",
    "non-binary 3<br>\n",
    "\n",
    "##### interview\n",
    "less than 10.0 0<br>\n",
    "greater than equal 10.0 1<br>\n",
    "null 2<br>\n",
    "\n",
    "##### application\n",
    "Less than equal to 10 0<br>\n",
    "Greater than 10 less than equal 20 1<br>\n",
    "greater than 20 less than Equal 30 2<br>\n",
    "Greater than 30 3<br>\n",
    "\n",
    "##### program duration days\n",
    "less than equal 30 0<br>\n",
    "greater than 30 less than equal to 90 1<br>\n",
    "null 2<br>\n",
    "greater than 90 3<br>\n",
    "\n",
    "##### placed\n",
    "not placed 0<br>\n",
    "placed 1<br>"
   ]
  },
  {
   "cell_type": "code",
   "execution_count": 19,
   "metadata": {},
   "outputs": [],
   "source": [
    "## New dataframe with just cateogrised data as keyed in the above key-pair.\n",
    "work_enc = work[[\"id\",\"status_enc\", \"primary_track_enc\", \"cohort_tag_enc\", \"program_duration_days\", \n",
    "                                   \"highest_level_of_education_enc\", \"biggest_challenge_in_search_enc\", \"professional_experience_enc\",\n",
    "                                   \"work_authorization_status_enc\", \"race_enc\", \"gender_enc\", \"number_of_interviews\", \"number_of_applications\", \"placed\"]]"
   ]
  },
  {
   "cell_type": "code",
   "execution_count": 20,
   "metadata": {},
   "outputs": [],
   "source": [
    "## convert back from categories to objects"
   ]
  },
  {
   "cell_type": "code",
   "execution_count": 21,
   "metadata": {},
   "outputs": [],
   "source": [
    "lis = ['status','primary_track','cohort_tag','highest_level_of_education', 'biggest_challenge_in_search'\n",
    "      , 'professional_experience', 'work_authorization_status','race', 'gender']\n",
    "for i in lis:\n",
    "    work[i] = work[i].astype(\"object\")\n",
    "   "
   ]
  },
  {
   "cell_type": "code",
   "execution_count": 22,
   "metadata": {},
   "outputs": [],
   "source": [
    "work[\"status\"].dtype;"
   ]
  },
  {
   "cell_type": "code",
   "execution_count": 23,
   "metadata": {},
   "outputs": [],
   "source": [
    "work_enc[\"program_duration_days\"][0];"
   ]
  },
  {
   "cell_type": "code",
   "execution_count": 24,
   "metadata": {},
   "outputs": [
    {
     "data": {
      "text/html": [
       "<div>\n",
       "<style scoped>\n",
       "    .dataframe tbody tr th:only-of-type {\n",
       "        vertical-align: middle;\n",
       "    }\n",
       "\n",
       "    .dataframe tbody tr th {\n",
       "        vertical-align: top;\n",
       "    }\n",
       "\n",
       "    .dataframe thead th {\n",
       "        text-align: right;\n",
       "    }\n",
       "</style>\n",
       "<table border=\"1\" class=\"dataframe\">\n",
       "  <thead>\n",
       "    <tr style=\"text-align: right;\">\n",
       "      <th></th>\n",
       "      <th>id</th>\n",
       "      <th>status_enc</th>\n",
       "      <th>primary_track_enc</th>\n",
       "      <th>cohort_tag_enc</th>\n",
       "      <th>program_duration_days</th>\n",
       "      <th>highest_level_of_education_enc</th>\n",
       "      <th>biggest_challenge_in_search_enc</th>\n",
       "      <th>professional_experience_enc</th>\n",
       "      <th>work_authorization_status_enc</th>\n",
       "      <th>race_enc</th>\n",
       "      <th>gender_enc</th>\n",
       "      <th>number_of_interviews</th>\n",
       "      <th>number_of_applications</th>\n",
       "      <th>placed</th>\n",
       "    </tr>\n",
       "  </thead>\n",
       "  <tbody>\n",
       "    <tr>\n",
       "      <th>0</th>\n",
       "      <td>1</td>\n",
       "      <td>0</td>\n",
       "      <td>4</td>\n",
       "      <td>39</td>\n",
       "      <td>2.0</td>\n",
       "      <td>0</td>\n",
       "      <td>5</td>\n",
       "      <td>1</td>\n",
       "      <td>0</td>\n",
       "      <td>6</td>\n",
       "      <td>2</td>\n",
       "      <td>0.0</td>\n",
       "      <td>3</td>\n",
       "      <td>0</td>\n",
       "    </tr>\n",
       "    <tr>\n",
       "      <th>1</th>\n",
       "      <td>2</td>\n",
       "      <td>0</td>\n",
       "      <td>3</td>\n",
       "      <td>20</td>\n",
       "      <td>2.0</td>\n",
       "      <td>5</td>\n",
       "      <td>2</td>\n",
       "      <td>0</td>\n",
       "      <td>1</td>\n",
       "      <td>6</td>\n",
       "      <td>2</td>\n",
       "      <td>0.0</td>\n",
       "      <td>0</td>\n",
       "      <td>0</td>\n",
       "    </tr>\n",
       "    <tr>\n",
       "      <th>2</th>\n",
       "      <td>3</td>\n",
       "      <td>2</td>\n",
       "      <td>1</td>\n",
       "      <td>7</td>\n",
       "      <td>0.0</td>\n",
       "      <td>4</td>\n",
       "      <td>1</td>\n",
       "      <td>3</td>\n",
       "      <td>1</td>\n",
       "      <td>2</td>\n",
       "      <td>2</td>\n",
       "      <td>0.0</td>\n",
       "      <td>0</td>\n",
       "      <td>0</td>\n",
       "    </tr>\n",
       "  </tbody>\n",
       "</table>\n",
       "</div>"
      ],
      "text/plain": [
       "   id  status_enc  primary_track_enc  cohort_tag_enc  program_duration_days  \\\n",
       "0   1           0                  4              39                    2.0   \n",
       "1   2           0                  3              20                    2.0   \n",
       "2   3           2                  1               7                    0.0   \n",
       "\n",
       "   highest_level_of_education_enc  biggest_challenge_in_search_enc  \\\n",
       "0                               0                                5   \n",
       "1                               5                                2   \n",
       "2                               4                                1   \n",
       "\n",
       "   professional_experience_enc  work_authorization_status_enc  race_enc  \\\n",
       "0                            1                              0         6   \n",
       "1                            0                              1         6   \n",
       "2                            3                              1         2   \n",
       "\n",
       "   gender_enc  number_of_interviews  number_of_applications  placed  \n",
       "0           2                   0.0                       3       0  \n",
       "1           2                   0.0                       0       0  \n",
       "2           2                   0.0                       0       0  "
      ]
     },
     "execution_count": 24,
     "metadata": {},
     "output_type": "execute_result"
    }
   ],
   "source": [
    "work_enc.head(3)"
   ]
  },
  {
   "cell_type": "code",
   "execution_count": 25,
   "metadata": {},
   "outputs": [
    {
     "data": {
      "text/html": [
       "<div>\n",
       "<style scoped>\n",
       "    .dataframe tbody tr th:only-of-type {\n",
       "        vertical-align: middle;\n",
       "    }\n",
       "\n",
       "    .dataframe tbody tr th {\n",
       "        vertical-align: top;\n",
       "    }\n",
       "\n",
       "    .dataframe thead th {\n",
       "        text-align: right;\n",
       "    }\n",
       "</style>\n",
       "<table border=\"1\" class=\"dataframe\">\n",
       "  <thead>\n",
       "    <tr style=\"text-align: right;\">\n",
       "      <th></th>\n",
       "      <th>id</th>\n",
       "      <th>status</th>\n",
       "      <th>primary_track</th>\n",
       "      <th>cohort_tag</th>\n",
       "      <th>program_duration_days</th>\n",
       "      <th>placed</th>\n",
       "      <th>employment_status</th>\n",
       "      <th>highest_level_of_education</th>\n",
       "      <th>length_of_job_search</th>\n",
       "      <th>biggest_challenge_in_search</th>\n",
       "      <th>...</th>\n",
       "      <th>race</th>\n",
       "      <th>status_enc</th>\n",
       "      <th>primary_track_enc</th>\n",
       "      <th>cohort_tag_enc</th>\n",
       "      <th>highest_level_of_education_enc</th>\n",
       "      <th>biggest_challenge_in_search_enc</th>\n",
       "      <th>professional_experience_enc</th>\n",
       "      <th>work_authorization_status_enc</th>\n",
       "      <th>race_enc</th>\n",
       "      <th>gender_enc</th>\n",
       "    </tr>\n",
       "  </thead>\n",
       "  <tbody>\n",
       "    <tr>\n",
       "      <th>0</th>\n",
       "      <td>1</td>\n",
       "      <td>Active</td>\n",
       "      <td>SWE</td>\n",
       "      <td>OCT19A</td>\n",
       "      <td>2.0</td>\n",
       "      <td>0</td>\n",
       "      <td>Unemployed</td>\n",
       "      <td>Bachelor's Degree</td>\n",
       "      <td>3-5 months</td>\n",
       "      <td>Hearing back on my applications</td>\n",
       "      <td>...</td>\n",
       "      <td>Non-Hispanic White or Euro-American</td>\n",
       "      <td>0</td>\n",
       "      <td>4</td>\n",
       "      <td>39</td>\n",
       "      <td>0</td>\n",
       "      <td>5</td>\n",
       "      <td>1</td>\n",
       "      <td>0</td>\n",
       "      <td>6</td>\n",
       "      <td>2</td>\n",
       "    </tr>\n",
       "    <tr>\n",
       "      <th>1</th>\n",
       "      <td>2</td>\n",
       "      <td>Active</td>\n",
       "      <td>PSO</td>\n",
       "      <td>JAN20A</td>\n",
       "      <td>2.0</td>\n",
       "      <td>0</td>\n",
       "      <td>Unemployed</td>\n",
       "      <td>Some College, No Degree</td>\n",
       "      <td>3-5 months</td>\n",
       "      <td>Getting past final round interviews</td>\n",
       "      <td>...</td>\n",
       "      <td>Non-Hispanic White or Euro-American</td>\n",
       "      <td>0</td>\n",
       "      <td>3</td>\n",
       "      <td>20</td>\n",
       "      <td>5</td>\n",
       "      <td>2</td>\n",
       "      <td>0</td>\n",
       "      <td>1</td>\n",
       "      <td>6</td>\n",
       "      <td>2</td>\n",
       "    </tr>\n",
       "    <tr>\n",
       "      <th>2</th>\n",
       "      <td>3</td>\n",
       "      <td>Closed Lost</td>\n",
       "      <td>Design</td>\n",
       "      <td>AUG19B</td>\n",
       "      <td>0.0</td>\n",
       "      <td>0</td>\n",
       "      <td>Employed Part-Time</td>\n",
       "      <td>Master's Degree</td>\n",
       "      <td>Less than one month</td>\n",
       "      <td>Figuring out which jobs to apply for</td>\n",
       "      <td>...</td>\n",
       "      <td>East Asian or Asian American</td>\n",
       "      <td>2</td>\n",
       "      <td>1</td>\n",
       "      <td>7</td>\n",
       "      <td>4</td>\n",
       "      <td>1</td>\n",
       "      <td>3</td>\n",
       "      <td>1</td>\n",
       "      <td>2</td>\n",
       "      <td>2</td>\n",
       "    </tr>\n",
       "  </tbody>\n",
       "</table>\n",
       "<p>3 rows × 25 columns</p>\n",
       "</div>"
      ],
      "text/plain": [
       "   id       status primary_track cohort_tag  program_duration_days  placed  \\\n",
       "0   1       Active           SWE     OCT19A                    2.0       0   \n",
       "1   2       Active           PSO     JAN20A                    2.0       0   \n",
       "2   3  Closed Lost        Design     AUG19B                    0.0       0   \n",
       "\n",
       "    employment_status highest_level_of_education length_of_job_search  \\\n",
       "0          Unemployed          Bachelor's Degree           3-5 months   \n",
       "1          Unemployed    Some College, No Degree           3-5 months   \n",
       "2  Employed Part-Time            Master's Degree  Less than one month   \n",
       "\n",
       "            biggest_challenge_in_search  ...  \\\n",
       "0       Hearing back on my applications  ...   \n",
       "1   Getting past final round interviews  ...   \n",
       "2  Figuring out which jobs to apply for  ...   \n",
       "\n",
       "                                  race status_enc  primary_track_enc  \\\n",
       "0  Non-Hispanic White or Euro-American          0                  4   \n",
       "1  Non-Hispanic White or Euro-American          0                  3   \n",
       "2         East Asian or Asian American          2                  1   \n",
       "\n",
       "   cohort_tag_enc highest_level_of_education_enc  \\\n",
       "0              39                              0   \n",
       "1              20                              5   \n",
       "2               7                              4   \n",
       "\n",
       "  biggest_challenge_in_search_enc  professional_experience_enc  \\\n",
       "0                               5                            1   \n",
       "1                               2                            0   \n",
       "2                               1                            3   \n",
       "\n",
       "   work_authorization_status_enc  race_enc  gender_enc  \n",
       "0                              0         6           2  \n",
       "1                              1         6           2  \n",
       "2                              1         2           2  \n",
       "\n",
       "[3 rows x 25 columns]"
      ]
     },
     "execution_count": 25,
     "metadata": {},
     "output_type": "execute_result"
    }
   ],
   "source": [
    "work.head(3)"
   ]
  },
  {
   "cell_type": "code",
   "execution_count": 26,
   "metadata": {},
   "outputs": [],
   "source": [
    "## Making the new dataframe more uniform and keeping it according for the technique."
   ]
  },
  {
   "cell_type": "code",
   "execution_count": 27,
   "metadata": {},
   "outputs": [],
   "source": [
    "work_enc = work_enc.drop([\"cohort_tag_enc\"], axis = 1)"
   ]
  },
  {
   "cell_type": "code",
   "execution_count": 28,
   "metadata": {},
   "outputs": [],
   "source": [
    "work_enc['program_duration_days'] = work['program_duration_days'].astype(\"int\")"
   ]
  },
  {
   "cell_type": "code",
   "execution_count": 29,
   "metadata": {},
   "outputs": [],
   "source": [
    "work_enc['number_of_interviews'] = work['number_of_interviews'].astype(\"int\")"
   ]
  },
  {
   "cell_type": "code",
   "execution_count": 30,
   "metadata": {},
   "outputs": [
    {
     "data": {
      "text/html": [
       "<div>\n",
       "<style scoped>\n",
       "    .dataframe tbody tr th:only-of-type {\n",
       "        vertical-align: middle;\n",
       "    }\n",
       "\n",
       "    .dataframe tbody tr th {\n",
       "        vertical-align: top;\n",
       "    }\n",
       "\n",
       "    .dataframe thead th {\n",
       "        text-align: right;\n",
       "    }\n",
       "</style>\n",
       "<table border=\"1\" class=\"dataframe\">\n",
       "  <thead>\n",
       "    <tr style=\"text-align: right;\">\n",
       "      <th></th>\n",
       "      <th>id</th>\n",
       "      <th>status_enc</th>\n",
       "      <th>primary_track_enc</th>\n",
       "      <th>program_duration_days</th>\n",
       "      <th>highest_level_of_education_enc</th>\n",
       "      <th>biggest_challenge_in_search_enc</th>\n",
       "      <th>professional_experience_enc</th>\n",
       "      <th>work_authorization_status_enc</th>\n",
       "      <th>race_enc</th>\n",
       "      <th>gender_enc</th>\n",
       "      <th>number_of_interviews</th>\n",
       "      <th>number_of_applications</th>\n",
       "      <th>placed</th>\n",
       "    </tr>\n",
       "  </thead>\n",
       "  <tbody>\n",
       "    <tr>\n",
       "      <th>0</th>\n",
       "      <td>1</td>\n",
       "      <td>0</td>\n",
       "      <td>4</td>\n",
       "      <td>2</td>\n",
       "      <td>0</td>\n",
       "      <td>5</td>\n",
       "      <td>1</td>\n",
       "      <td>0</td>\n",
       "      <td>6</td>\n",
       "      <td>2</td>\n",
       "      <td>0</td>\n",
       "      <td>3</td>\n",
       "      <td>0</td>\n",
       "    </tr>\n",
       "    <tr>\n",
       "      <th>1</th>\n",
       "      <td>2</td>\n",
       "      <td>0</td>\n",
       "      <td>3</td>\n",
       "      <td>2</td>\n",
       "      <td>5</td>\n",
       "      <td>2</td>\n",
       "      <td>0</td>\n",
       "      <td>1</td>\n",
       "      <td>6</td>\n",
       "      <td>2</td>\n",
       "      <td>0</td>\n",
       "      <td>0</td>\n",
       "      <td>0</td>\n",
       "    </tr>\n",
       "    <tr>\n",
       "      <th>2</th>\n",
       "      <td>3</td>\n",
       "      <td>2</td>\n",
       "      <td>1</td>\n",
       "      <td>0</td>\n",
       "      <td>4</td>\n",
       "      <td>1</td>\n",
       "      <td>3</td>\n",
       "      <td>1</td>\n",
       "      <td>2</td>\n",
       "      <td>2</td>\n",
       "      <td>0</td>\n",
       "      <td>0</td>\n",
       "      <td>0</td>\n",
       "    </tr>\n",
       "  </tbody>\n",
       "</table>\n",
       "</div>"
      ],
      "text/plain": [
       "   id  status_enc  primary_track_enc  program_duration_days  \\\n",
       "0   1           0                  4                      2   \n",
       "1   2           0                  3                      2   \n",
       "2   3           2                  1                      0   \n",
       "\n",
       "   highest_level_of_education_enc  biggest_challenge_in_search_enc  \\\n",
       "0                               0                                5   \n",
       "1                               5                                2   \n",
       "2                               4                                1   \n",
       "\n",
       "   professional_experience_enc  work_authorization_status_enc  race_enc  \\\n",
       "0                            1                              0         6   \n",
       "1                            0                              1         6   \n",
       "2                            3                              1         2   \n",
       "\n",
       "   gender_enc  number_of_interviews  number_of_applications  placed  \n",
       "0           2                     0                       3       0  \n",
       "1           2                     0                       0       0  \n",
       "2           2                     0                       0       0  "
      ]
     },
     "execution_count": 30,
     "metadata": {},
     "output_type": "execute_result"
    }
   ],
   "source": [
    "work_enc.round(2).head(3)"
   ]
  },
  {
   "cell_type": "code",
   "execution_count": 31,
   "metadata": {},
   "outputs": [
    {
     "data": {
      "text/html": [
       "<div>\n",
       "<style scoped>\n",
       "    .dataframe tbody tr th:only-of-type {\n",
       "        vertical-align: middle;\n",
       "    }\n",
       "\n",
       "    .dataframe tbody tr th {\n",
       "        vertical-align: top;\n",
       "    }\n",
       "\n",
       "    .dataframe thead th {\n",
       "        text-align: right;\n",
       "    }\n",
       "</style>\n",
       "<table border=\"1\" class=\"dataframe\">\n",
       "  <thead>\n",
       "    <tr style=\"text-align: right;\">\n",
       "      <th></th>\n",
       "      <th>count</th>\n",
       "      <th>mean</th>\n",
       "      <th>std</th>\n",
       "      <th>min</th>\n",
       "      <th>25%</th>\n",
       "      <th>50%</th>\n",
       "      <th>75%</th>\n",
       "      <th>max</th>\n",
       "    </tr>\n",
       "  </thead>\n",
       "  <tbody>\n",
       "    <tr>\n",
       "      <th>id</th>\n",
       "      <td>2544.0</td>\n",
       "      <td>1272.500000</td>\n",
       "      <td>734.533866</td>\n",
       "      <td>1.0</td>\n",
       "      <td>636.75</td>\n",
       "      <td>1272.5</td>\n",
       "      <td>1908.25</td>\n",
       "      <td>2544.0</td>\n",
       "    </tr>\n",
       "    <tr>\n",
       "      <th>status_enc</th>\n",
       "      <td>2544.0</td>\n",
       "      <td>4.188679</td>\n",
       "      <td>2.598695</td>\n",
       "      <td>0.0</td>\n",
       "      <td>2.00</td>\n",
       "      <td>5.0</td>\n",
       "      <td>6.00</td>\n",
       "      <td>8.0</td>\n",
       "    </tr>\n",
       "    <tr>\n",
       "      <th>primary_track_enc</th>\n",
       "      <td>2544.0</td>\n",
       "      <td>3.144654</td>\n",
       "      <td>1.407073</td>\n",
       "      <td>0.0</td>\n",
       "      <td>3.00</td>\n",
       "      <td>4.0</td>\n",
       "      <td>4.00</td>\n",
       "      <td>5.0</td>\n",
       "    </tr>\n",
       "    <tr>\n",
       "      <th>program_duration_days</th>\n",
       "      <td>2544.0</td>\n",
       "      <td>1.852594</td>\n",
       "      <td>1.191417</td>\n",
       "      <td>0.0</td>\n",
       "      <td>1.00</td>\n",
       "      <td>2.0</td>\n",
       "      <td>3.00</td>\n",
       "      <td>3.0</td>\n",
       "    </tr>\n",
       "    <tr>\n",
       "      <th>highest_level_of_education_enc</th>\n",
       "      <td>2544.0</td>\n",
       "      <td>1.634041</td>\n",
       "      <td>2.029113</td>\n",
       "      <td>-1.0</td>\n",
       "      <td>0.00</td>\n",
       "      <td>0.0</td>\n",
       "      <td>4.00</td>\n",
       "      <td>6.0</td>\n",
       "    </tr>\n",
       "    <tr>\n",
       "      <th>biggest_challenge_in_search_enc</th>\n",
       "      <td>2544.0</td>\n",
       "      <td>4.466981</td>\n",
       "      <td>2.157869</td>\n",
       "      <td>-1.0</td>\n",
       "      <td>3.00</td>\n",
       "      <td>5.0</td>\n",
       "      <td>5.00</td>\n",
       "      <td>9.0</td>\n",
       "    </tr>\n",
       "    <tr>\n",
       "      <th>professional_experience_enc</th>\n",
       "      <td>2544.0</td>\n",
       "      <td>1.068396</td>\n",
       "      <td>1.329377</td>\n",
       "      <td>-1.0</td>\n",
       "      <td>0.00</td>\n",
       "      <td>1.0</td>\n",
       "      <td>2.00</td>\n",
       "      <td>3.0</td>\n",
       "    </tr>\n",
       "    <tr>\n",
       "      <th>work_authorization_status_enc</th>\n",
       "      <td>2544.0</td>\n",
       "      <td>1.911950</td>\n",
       "      <td>1.849666</td>\n",
       "      <td>-1.0</td>\n",
       "      <td>1.00</td>\n",
       "      <td>1.0</td>\n",
       "      <td>3.00</td>\n",
       "      <td>8.0</td>\n",
       "    </tr>\n",
       "    <tr>\n",
       "      <th>race_enc</th>\n",
       "      <td>2544.0</td>\n",
       "      <td>4.152123</td>\n",
       "      <td>2.464704</td>\n",
       "      <td>-1.0</td>\n",
       "      <td>2.00</td>\n",
       "      <td>4.0</td>\n",
       "      <td>6.00</td>\n",
       "      <td>8.0</td>\n",
       "    </tr>\n",
       "    <tr>\n",
       "      <th>gender_enc</th>\n",
       "      <td>2544.0</td>\n",
       "      <td>1.198113</td>\n",
       "      <td>1.156314</td>\n",
       "      <td>-1.0</td>\n",
       "      <td>1.00</td>\n",
       "      <td>2.0</td>\n",
       "      <td>2.00</td>\n",
       "      <td>3.0</td>\n",
       "    </tr>\n",
       "    <tr>\n",
       "      <th>number_of_interviews</th>\n",
       "      <td>2544.0</td>\n",
       "      <td>0.195755</td>\n",
       "      <td>0.573540</td>\n",
       "      <td>0.0</td>\n",
       "      <td>0.00</td>\n",
       "      <td>0.0</td>\n",
       "      <td>0.00</td>\n",
       "      <td>2.0</td>\n",
       "    </tr>\n",
       "    <tr>\n",
       "      <th>number_of_applications</th>\n",
       "      <td>2544.0</td>\n",
       "      <td>1.493318</td>\n",
       "      <td>1.276837</td>\n",
       "      <td>0.0</td>\n",
       "      <td>0.00</td>\n",
       "      <td>1.0</td>\n",
       "      <td>3.00</td>\n",
       "      <td>3.0</td>\n",
       "    </tr>\n",
       "    <tr>\n",
       "      <th>placed</th>\n",
       "      <td>2544.0</td>\n",
       "      <td>0.375786</td>\n",
       "      <td>0.484420</td>\n",
       "      <td>0.0</td>\n",
       "      <td>0.00</td>\n",
       "      <td>0.0</td>\n",
       "      <td>1.00</td>\n",
       "      <td>1.0</td>\n",
       "    </tr>\n",
       "  </tbody>\n",
       "</table>\n",
       "</div>"
      ],
      "text/plain": [
       "                                  count         mean         std  min     25%  \\\n",
       "id                               2544.0  1272.500000  734.533866  1.0  636.75   \n",
       "status_enc                       2544.0     4.188679    2.598695  0.0    2.00   \n",
       "primary_track_enc                2544.0     3.144654    1.407073  0.0    3.00   \n",
       "program_duration_days            2544.0     1.852594    1.191417  0.0    1.00   \n",
       "highest_level_of_education_enc   2544.0     1.634041    2.029113 -1.0    0.00   \n",
       "biggest_challenge_in_search_enc  2544.0     4.466981    2.157869 -1.0    3.00   \n",
       "professional_experience_enc      2544.0     1.068396    1.329377 -1.0    0.00   \n",
       "work_authorization_status_enc    2544.0     1.911950    1.849666 -1.0    1.00   \n",
       "race_enc                         2544.0     4.152123    2.464704 -1.0    2.00   \n",
       "gender_enc                       2544.0     1.198113    1.156314 -1.0    1.00   \n",
       "number_of_interviews             2544.0     0.195755    0.573540  0.0    0.00   \n",
       "number_of_applications           2544.0     1.493318    1.276837  0.0    0.00   \n",
       "placed                           2544.0     0.375786    0.484420  0.0    0.00   \n",
       "\n",
       "                                    50%      75%     max  \n",
       "id                               1272.5  1908.25  2544.0  \n",
       "status_enc                          5.0     6.00     8.0  \n",
       "primary_track_enc                   4.0     4.00     5.0  \n",
       "program_duration_days               2.0     3.00     3.0  \n",
       "highest_level_of_education_enc      0.0     4.00     6.0  \n",
       "biggest_challenge_in_search_enc     5.0     5.00     9.0  \n",
       "professional_experience_enc         1.0     2.00     3.0  \n",
       "work_authorization_status_enc       1.0     3.00     8.0  \n",
       "race_enc                            4.0     6.00     8.0  \n",
       "gender_enc                          2.0     2.00     3.0  \n",
       "number_of_interviews                0.0     0.00     2.0  \n",
       "number_of_applications              1.0     3.00     3.0  \n",
       "placed                              0.0     1.00     1.0  "
      ]
     },
     "execution_count": 31,
     "metadata": {},
     "output_type": "execute_result"
    }
   ],
   "source": [
    "work_enc.describe().T"
   ]
  },
  {
   "cell_type": "markdown",
   "metadata": {},
   "source": [
    "## Step 3: EDA"
   ]
  },
  {
   "cell_type": "code",
   "execution_count": 32,
   "metadata": {},
   "outputs": [],
   "source": [
    "import seaborn as sns"
   ]
  },
  {
   "cell_type": "code",
   "execution_count": 33,
   "metadata": {},
   "outputs": [],
   "source": [
    "from pylab import *"
   ]
  },
  {
   "cell_type": "code",
   "execution_count": 34,
   "metadata": {},
   "outputs": [],
   "source": [
    "## original uncoded table"
   ]
  },
  {
   "cell_type": "code",
   "execution_count": 35,
   "metadata": {},
   "outputs": [
    {
     "data": {
      "text/html": [
       "<div>\n",
       "<style scoped>\n",
       "    .dataframe tbody tr th:only-of-type {\n",
       "        vertical-align: middle;\n",
       "    }\n",
       "\n",
       "    .dataframe tbody tr th {\n",
       "        vertical-align: top;\n",
       "    }\n",
       "\n",
       "    .dataframe thead th {\n",
       "        text-align: right;\n",
       "    }\n",
       "</style>\n",
       "<table border=\"1\" class=\"dataframe\">\n",
       "  <thead>\n",
       "    <tr style=\"text-align: right;\">\n",
       "      <th></th>\n",
       "      <th>program_duration_days</th>\n",
       "      <th>professional_experience_enc</th>\n",
       "      <th>number_of_interviews</th>\n",
       "      <th>number_of_applications</th>\n",
       "    </tr>\n",
       "    <tr>\n",
       "      <th>primary_track</th>\n",
       "      <th></th>\n",
       "      <th></th>\n",
       "      <th></th>\n",
       "      <th></th>\n",
       "    </tr>\n",
       "  </thead>\n",
       "  <tbody>\n",
       "    <tr>\n",
       "      <th>Data</th>\n",
       "      <td>1.903226</td>\n",
       "      <td>0.955645</td>\n",
       "      <td>0.173387</td>\n",
       "      <td>1.524194</td>\n",
       "    </tr>\n",
       "    <tr>\n",
       "      <th>Design</th>\n",
       "      <td>1.864583</td>\n",
       "      <td>1.114583</td>\n",
       "      <td>0.163194</td>\n",
       "      <td>1.555556</td>\n",
       "    </tr>\n",
       "    <tr>\n",
       "      <th>Marketing</th>\n",
       "      <td>2.000000</td>\n",
       "      <td>0.000000</td>\n",
       "      <td>1.500000</td>\n",
       "      <td>2.500000</td>\n",
       "    </tr>\n",
       "    <tr>\n",
       "      <th>PSO</th>\n",
       "      <td>1.614907</td>\n",
       "      <td>1.118012</td>\n",
       "      <td>0.170807</td>\n",
       "      <td>1.580745</td>\n",
       "    </tr>\n",
       "    <tr>\n",
       "      <th>SWE</th>\n",
       "      <td>1.888558</td>\n",
       "      <td>1.069130</td>\n",
       "      <td>0.208582</td>\n",
       "      <td>1.461263</td>\n",
       "    </tr>\n",
       "    <tr>\n",
       "      <th>Web</th>\n",
       "      <td>1.833333</td>\n",
       "      <td>1.000000</td>\n",
       "      <td>0.000000</td>\n",
       "      <td>1.166667</td>\n",
       "    </tr>\n",
       "  </tbody>\n",
       "</table>\n",
       "</div>"
      ],
      "text/plain": [
       "               program_duration_days  professional_experience_enc  \\\n",
       "primary_track                                                       \n",
       "Data                        1.903226                     0.955645   \n",
       "Design                      1.864583                     1.114583   \n",
       "Marketing                   2.000000                     0.000000   \n",
       "PSO                         1.614907                     1.118012   \n",
       "SWE                         1.888558                     1.069130   \n",
       "Web                         1.833333                     1.000000   \n",
       "\n",
       "               number_of_interviews  number_of_applications  \n",
       "primary_track                                                \n",
       "Data                       0.173387                1.524194  \n",
       "Design                     0.163194                1.555556  \n",
       "Marketing                  1.500000                2.500000  \n",
       "PSO                        0.170807                1.580745  \n",
       "SWE                        0.208582                1.461263  \n",
       "Web                        0.000000                1.166667  "
      ]
     },
     "execution_count": 35,
     "metadata": {},
     "output_type": "execute_result"
    }
   ],
   "source": [
    "work.groupby([\"primary_track\"]).mean()[[\"program_duration_days\", \"professional_experience_enc\", \"number_of_interviews\", \"number_of_applications\"]]"
   ]
  },
  {
   "cell_type": "code",
   "execution_count": 36,
   "metadata": {},
   "outputs": [
    {
     "data": {
      "text/plain": [
       "Text(0.5, 0.98, 'Track divsion - mean')"
      ]
     },
     "execution_count": 36,
     "metadata": {},
     "output_type": "execute_result"
    },
    {
     "data": {
      "image/png": "[encoded data removed]",
      "text/plain": [
       "<Figure size 604.8x576 with 6 Axes>"
      ]
     },
     "metadata": {
      "needs_background": "light"
     },
     "output_type": "display_data"
    }
   ],
   "source": [
    "x = work.groupby([\"primary_track\"]).mean()[[\"program_duration_days\",\"number_of_interviews\", \"number_of_applications\"]].reset_index()\n",
    "\n",
    "g= sns.catplot(col=\"primary_track\",\n",
    "            data=x, kind=\"bar\",\n",
    "            col_wrap = 3,\n",
    "            height=4, aspect=.7).set_xticklabels([\"Program duration\", \"# interviews\", \"# applications\"]).set_axis_labels(\"facts for track\", \"#\").set_xticklabels(rotation=30)\n",
    "\n",
    "g.fig.subplots_adjust(top=0.9)\n",
    "g.fig.suptitle(\"Track divsion - mean\")"
   ]
  },
  {
   "cell_type": "markdown",
   "metadata": {},
   "source": [
    "This graph shows the track divisions and various variables for each and the average number."
   ]
  },
  {
   "cell_type": "code",
   "execution_count": 37,
   "metadata": {},
   "outputs": [],
   "source": [
    "## coded table"
   ]
  },
  {
   "cell_type": "code",
   "execution_count": 38,
   "metadata": {},
   "outputs": [],
   "source": [
    "import matplotlib.pyplot as plt "
   ]
  },
  {
   "cell_type": "code",
   "execution_count": 39,
   "metadata": {},
   "outputs": [],
   "source": [
    "graph_status = work_enc.groupby([\"status_enc\"]).count().reset_index()"
   ]
  },
  {
   "cell_type": "code",
   "execution_count": 40,
   "metadata": {},
   "outputs": [],
   "source": [
    "graph_status1 = work.groupby([\"status\"]).count().reset_index()"
   ]
  },
  {
   "cell_type": "code",
   "execution_count": 41,
   "metadata": {},
   "outputs": [],
   "source": [
    "graph_placed = work_enc.groupby([\"placed\"]).count().reset_index()"
   ]
  },
  {
   "cell_type": "code",
   "execution_count": 42,
   "metadata": {},
   "outputs": [],
   "source": [
    "graph_placedauth = work_enc.groupby([\"placed\", \"work_authorization_status_enc\"]).count().reset_index()"
   ]
  },
  {
   "cell_type": "code",
   "execution_count": 43,
   "metadata": {},
   "outputs": [],
   "source": [
    "graph_placedinter = work_enc.groupby([\"placed\", \"number_of_interviews\"]).count().reset_index()"
   ]
  },
  {
   "cell_type": "code",
   "execution_count": 44,
   "metadata": {},
   "outputs": [
    {
     "data": {
      "text/plain": [
       "Text(0, 0.5, 'Number')"
      ]
     },
     "execution_count": 44,
     "metadata": {},
     "output_type": "execute_result"
    },
    {
     "data": {
      "image/png": "[encoded data removed]",
      "text/plain": [
       "<Figure size 432x288 with 1 Axes>"
      ]
     },
     "metadata": {
      "needs_background": "light"
     },
     "output_type": "display_data"
    }
   ],
   "source": [
    "ax1= graph_status1.plot(x = \"status\", y = \"id\", kind =\"line\", title = \"Number in various status\", rot =90, legend = False)\n",
    "ax1.set_xlabel(\"Status\")\n",
    "ax1.set_ylabel(\"Number\")"
   ]
  },
  {
   "cell_type": "markdown",
   "metadata": {},
   "source": [
    "The above graph shows the counts for each category under status. We see that 5 (placed) is one of the highest numbers within the other categories and 1 (break) is one of the lowest."
   ]
  },
  {
   "cell_type": "code",
   "execution_count": 45,
   "metadata": {},
   "outputs": [
    {
     "data": {
      "text/plain": [
       "[Text(0, 0, 'Not Placed'), Text(0, 0, 'Placed')]"
      ]
     },
     "execution_count": 45,
     "metadata": {},
     "output_type": "execute_result"
    },
    {
     "data": {
      "image/png": "[encoded data removed]",
      "text/plain": [
       "<Figure size 432x288 with 1 Axes>"
      ]
     },
     "metadata": {
      "needs_background": "light"
     },
     "output_type": "display_data"
    }
   ],
   "source": [
    "ax = graph_placed.plot(x = \"placed\", y = \"id\", kind=\"bar\", title= \"Number of candidates placed and not placed\", legend = False)\n",
    "ax.set_xlabel(\"Placed/Not Placed\")\n",
    "ax.set_ylabel(\"number\")\n",
    "ax.set_xticklabels([\"Not Placed\", \"Placed\"])"
   ]
  },
  {
   "cell_type": "markdown",
   "metadata": {},
   "source": [
    "The above graph shows a simple plot of number of candidates placed and not placed. Not placed being higher that may be due to people withdrawing within the first 2 weeks."
   ]
  },
  {
   "cell_type": "code",
   "execution_count": 46,
   "metadata": {},
   "outputs": [],
   "source": [
    "line = pd.DataFrame({'placed':1, 'work_authorization_status_enc':6, 'id':0}, index=[16.5])"
   ]
  },
  {
   "cell_type": "code",
   "execution_count": 47,
   "metadata": {},
   "outputs": [],
   "source": [
    "graph_placedauth = graph_placedauth.append(line, ignore_index=False)\n"
   ]
  },
  {
   "cell_type": "code",
   "execution_count": 48,
   "metadata": {},
   "outputs": [],
   "source": [
    "graph_placedauth = graph_placedauth.sort_index().reset_index(drop=True)\n"
   ]
  },
  {
   "cell_type": "code",
   "execution_count": 49,
   "metadata": {},
   "outputs": [],
   "source": [
    "graph_placedauth = graph_placedauth.reindex(['placed', 'work_authorization_status_enc', 'id'], axis=1)\n"
   ]
  },
  {
   "cell_type": "code",
   "execution_count": 50,
   "metadata": {},
   "outputs": [],
   "source": [
    "graph_placedauth;"
   ]
  },
  {
   "cell_type": "code",
   "execution_count": 51,
   "metadata": {},
   "outputs": [],
   "source": [
    "graph_placedinter;"
   ]
  },
  {
   "cell_type": "code",
   "execution_count": 52,
   "metadata": {},
   "outputs": [
    {
     "data": {
      "image/png": "[encoded data removed]",
      "text/plain": [
       "<Figure size 432x288 with 1 Axes>"
      ]
     },
     "metadata": {
      "needs_background": "light"
     },
     "output_type": "display_data"
    }
   ],
   "source": [
    "labels = graph_placedauth[\"work_authorization_status_enc\"][0:10]\n",
    "not_placed = graph_placedauth[\"id\"][0:10]\n",
    "placed = graph_placedauth[\"id\"][10:20]\n",
    "x = np.arange(len(labels))  # the label locations\n",
    "width = 0.35  # the width of the bars\n",
    "\n",
    "fig, ax = plt.subplots()\n",
    "rects1 = ax.bar(x - width/2, not_placed, width, label='Not Placed')\n",
    "rects2 = ax.bar(x + width/2, placed, width, label='Placed')\n",
    "\n",
    "ax.set_ylabel('Count')\n",
    "ax.set_title('work_authorization_status_enc')\n",
    "ax.set_xticks(x)\n",
    "ax.set_xticklabels(labels)\n",
    "ax.legend()\n",
    "\n",
    "\n",
    "def autolabel(rects):\n",
    "    \"\"\"Attach a text label above each bar in *rects*, displaying its height.\"\"\"\n",
    "    for rect in rects:\n",
    "        height = rect.get_height()\n",
    "        ax.annotate('{}'.format(height),\n",
    "                    xy=(rect.get_x() + rect.get_width() / 2, height),\n",
    "                    xytext=(0, 3),  # 3 points vertical offset\n",
    "                    textcoords=\"offset points\",\n",
    "                    ha='center', va='bottom')\n",
    "\n",
    "\n",
    "autolabel(rects1)\n",
    "autolabel(rects2)\n",
    "\n",
    "fig.tight_layout()\n",
    "\n",
    "plt.show()"
   ]
  },
  {
   "cell_type": "markdown",
   "metadata": {},
   "source": [
    "The above graph shows the work authorisation counts under each category of work authorisation and show the divid between placed and not placed. 1 (Citizens) being the most placed and most not placed numbers. With the lowest amount being placed is 0 for unauthorised."
   ]
  },
  {
   "cell_type": "code",
   "execution_count": 53,
   "metadata": {},
   "outputs": [
    {
     "data": {
      "image/png": "[encoded data removed]",
      "text/plain": [
       "<Figure size 432x288 with 1 Axes>"
      ]
     },
     "metadata": {
      "needs_background": "light"
     },
     "output_type": "display_data"
    }
   ],
   "source": [
    "labels = graph_placedinter[\"number_of_interviews\"][0:3]\n",
    "not_placed = graph_placedinter[\"id\"][0:3]\n",
    "placed = graph_placedinter[\"id\"][3:6]\n",
    "x = np.arange(len(labels))  # the label locations\n",
    "width = 0.35  # the width of the bars\n",
    "\n",
    "fig, ax = plt.subplots()\n",
    "rects1 = ax.bar(x - width/2, not_placed, width, label='Not Placed')\n",
    "rects2 = ax.bar(x + width/2, placed, width, label='Placed')\n",
    "\n",
    "ax.set_ylabel('Count')\n",
    "ax.set_title('number_of_interviews')\n",
    "ax.set_xticks(x)\n",
    "ax.set_xticklabels(labels)\n",
    "ax.legend()\n",
    "\n",
    "\n",
    "def autolabel(rects):\n",
    "    \"\"\"Attach a text label above each bar in *rects*, displaying its height.\"\"\"\n",
    "    for rect in rects:\n",
    "        height = rect.get_height()\n",
    "        ax.annotate('{}'.format(height),\n",
    "                    xy=(rect.get_x() + rect.get_width() / 2, height),\n",
    "                    xytext=(0, 3),  # 3 points vertical offset\n",
    "                    textcoords=\"offset points\",\n",
    "                    ha='center', va='bottom')\n",
    "\n",
    "\n",
    "autolabel(rects1)\n",
    "autolabel(rects2)\n",
    "\n",
    "fig.tight_layout()\n",
    "\n",
    "plt.show()"
   ]
  },
  {
   "cell_type": "markdown",
   "metadata": {},
   "source": [
    "The above graph shows that number under each category of number of interviews with a split of placed and not placed. With if a candidate has more than equal to 10 interviews the amounts placed and not places are really close while with less than 10 interviews the amount not placed are staggerinly high."
   ]
  },
  {
   "cell_type": "code",
   "execution_count": 54,
   "metadata": {},
   "outputs": [
    {
     "name": "stdout",
     "output_type": "stream",
     "text": [
      "                            id  primary_track_enc  program_duration_days  \\\n",
      "placed status_enc                                                          \n",
      "0      0           1308.731203           2.956767               2.000000   \n",
      "       1           1228.187500           3.375000               2.000000   \n",
      "       2           1305.785714           3.027473               0.000000   \n",
      "       3           1375.147059           3.588235               0.000000   \n",
      "       4           1238.326923           3.211538               2.000000   \n",
      "       6           1263.170854           3.155779               2.512563   \n",
      "       7           1216.012195           3.097561               2.878049   \n",
      "       8           1325.909420           3.094203               0.010870   \n",
      "1      5           1239.002092           3.258368               2.345188   \n",
      "\n",
      "                   highest_level_of_education_enc  \\\n",
      "placed status_enc                                   \n",
      "0      0                                 1.633459   \n",
      "       1                                 1.343750   \n",
      "       2                                 1.626374   \n",
      "       3                                 0.911765   \n",
      "       4                                 2.134615   \n",
      "       6                                 1.668342   \n",
      "       7                                 1.329268   \n",
      "       8                                 1.902174   \n",
      "1      5                                 1.578452   \n",
      "\n",
      "                   biggest_challenge_in_search_enc  \\\n",
      "placed status_enc                                    \n",
      "0      0                                  4.424812   \n",
      "       1                                  4.656250   \n",
      "       2                                  4.329670   \n",
      "       3                                  4.764706   \n",
      "       4                                  4.596154   \n",
      "       6                                  4.829146   \n",
      "       7                                  3.975610   \n",
      "       8                                  4.463768   \n",
      "1      5                                  4.384937   \n",
      "\n",
      "                   professional_experience_enc  work_authorization_status_enc  \\\n",
      "placed status_enc                                                               \n",
      "0      0                              0.941729                       1.924812   \n",
      "       1                              0.843750                       2.218750   \n",
      "       2                              1.043956                       1.873626   \n",
      "       3                              1.058824                       2.500000   \n",
      "       4                              1.211538                       2.019231   \n",
      "       6                              1.042714                       2.017588   \n",
      "       7                              1.121951                       1.902439   \n",
      "       8                              1.043478                       1.927536   \n",
      "1      5                              1.156904                       1.827406   \n",
      "\n",
      "                   race_enc  gender_enc  number_of_interviews  \\\n",
      "placed status_enc                                               \n",
      "0      0           4.112782    1.203008              0.157895   \n",
      "       1           4.562500    1.093750              0.218750   \n",
      "       2           4.098901    1.153846              0.225275   \n",
      "       3           3.500000    1.352941              0.088235   \n",
      "       4           4.673077    1.096154              0.250000   \n",
      "       6           4.027638    0.984925              0.211055   \n",
      "       7           4.109756    1.048780              0.292683   \n",
      "       8           3.793478    1.141304              0.213768   \n",
      "1      5           4.324268    1.325314              0.191423   \n",
      "\n",
      "                   number_of_applications  \n",
      "placed status_enc                          \n",
      "0      0                         1.488722  \n",
      "       1                         1.156250  \n",
      "       2                         1.543956  \n",
      "       3                         1.147059  \n",
      "       4                         1.692308  \n",
      "       6                         1.545226  \n",
      "       7                         1.304878  \n",
      "       8                         1.543478  \n",
      "1      5                         1.479079  \n",
      "                                   id  status_enc  program_duration_days  \\\n",
      "placed primary_track_enc                                                   \n",
      "0      0                  1191.337500    3.356250               1.643750   \n",
      "       1                  1205.285714    3.530612               1.617347   \n",
      "       2                   821.000000    6.000000               1.000000   \n",
      "       3                  1188.119835    3.685950               1.409091   \n",
      "       4                  1352.760163    3.795732               1.566057   \n",
      "       5                  1288.400000    2.800000               1.600000   \n",
      "1      0                  1416.590909    5.000000               2.375000   \n",
      "       1                  1317.532609    5.000000               2.391304   \n",
      "       2                  1988.000000    5.000000               3.000000   \n",
      "       3                  1646.025000    5.000000               2.237500   \n",
      "       4                  1158.015850    5.000000               2.345821   \n",
      "       5                  1280.000000    5.000000               3.000000   \n",
      "\n",
      "                          highest_level_of_education_enc  \\\n",
      "placed primary_track_enc                                   \n",
      "0      0                                        1.600000   \n",
      "       1                                        1.704082   \n",
      "       2                                        0.000000   \n",
      "       3                                        1.867769   \n",
      "       4                                        1.632114   \n",
      "       5                                        0.000000   \n",
      "1      0                                        1.272727   \n",
      "       1                                        2.010870   \n",
      "       2                                        4.000000   \n",
      "       3                                        1.675000   \n",
      "       4                                        1.547550   \n",
      "       5                                        0.000000   \n",
      "\n",
      "                          biggest_challenge_in_search_enc  \\\n",
      "placed primary_track_enc                                    \n",
      "0      0                                         4.568750   \n",
      "       1                                         4.372449   \n",
      "       2                                         3.000000   \n",
      "       3                                         4.371901   \n",
      "       4                                         4.571138   \n",
      "       5                                         5.000000   \n",
      "1      0                                         4.715909   \n",
      "       1                                         4.271739   \n",
      "       2                                         5.000000   \n",
      "       3                                         4.387500   \n",
      "       4                                         4.357349   \n",
      "       5                                         4.000000   \n",
      "\n",
      "                          professional_experience_enc  \\\n",
      "placed primary_track_enc                                \n",
      "0      0                                     0.912500   \n",
      "       1                                     1.081633   \n",
      "       2                                     0.000000   \n",
      "       3                                     1.115702   \n",
      "       4                                     0.996951   \n",
      "       5                                     0.600000   \n",
      "1      0                                     1.034091   \n",
      "       1                                     1.184783   \n",
      "       2                                     0.000000   \n",
      "       3                                     1.125000   \n",
      "       4                                     1.171470   \n",
      "       5                                     3.000000   \n",
      "\n",
      "                          work_authorization_status_enc  race_enc  gender_enc  \\\n",
      "placed primary_track_enc                                                        \n",
      "0      0                                       2.125000  4.256250    1.137500   \n",
      "       1                                       1.908163  4.122449    1.107143   \n",
      "       2                                       1.000000  7.000000   -1.000000   \n",
      "       3                                       2.000000  3.772727    1.289256   \n",
      "       4                                       1.938008  4.069106    1.085366   \n",
      "       5                                       2.200000  3.200000    0.600000   \n",
      "1      0                                       1.931818  4.159091    1.170455   \n",
      "       1                                       1.684783  3.967391    1.054348   \n",
      "       2                                       1.000000  2.000000    0.000000   \n",
      "       3                                       1.512500  3.912500    1.137500   \n",
      "       4                                       1.868876  4.440922    1.407781   \n",
      "       5                                       3.000000  6.000000   -1.000000   \n",
      "\n",
      "                          number_of_interviews  number_of_applications  \n",
      "placed primary_track_enc                                                \n",
      "0      0                              0.162500                1.600000  \n",
      "       1                              0.188776                1.576531  \n",
      "       2                              1.000000                2.000000  \n",
      "       3                              0.165289                1.574380  \n",
      "       4                              0.214431                1.453252  \n",
      "       5                              0.000000                1.400000  \n",
      "1      0                              0.193182                1.386364  \n",
      "       1                              0.108696                1.510870  \n",
      "       2                              2.000000                3.000000  \n",
      "       3                              0.187500                1.600000  \n",
      "       4                              0.200288                1.472622  \n",
      "       5                              0.000000                0.000000  \n",
      "                                                id  status_enc  \\\n",
      "placed highest_level_of_education_enc                            \n",
      "0      -1                              1295.452381    3.380952   \n",
      "        0                              1296.712067    3.639188   \n",
      "        1                              1279.842105    3.434211   \n",
      "        2                              1133.400000    5.400000   \n",
      "        3                              1602.600000    3.200000   \n",
      "        4                              1276.013410    3.814176   \n",
      "        5                              1286.105882    3.717647   \n",
      "        6                              1907.636364    4.545455   \n",
      "1      -1                               947.437500    5.000000   \n",
      "        0                              1240.402672    5.000000   \n",
      "        1                              1340.084746    5.000000   \n",
      "        2                               867.000000    5.000000   \n",
      "        3                              1261.200000    5.000000   \n",
      "        4                              1244.743056    5.000000   \n",
      "        5                              1150.240000    5.000000   \n",
      "        6                              1836.500000    5.000000   \n",
      "\n",
      "                                       primary_track_enc  \\\n",
      "placed highest_level_of_education_enc                      \n",
      "0      -1                                       3.238095   \n",
      "        0                                       3.084827   \n",
      "        1                                       3.000000   \n",
      "        2                                       2.900000   \n",
      "        3                                       3.000000   \n",
      "        4                                       3.059387   \n",
      "        5                                       3.023529   \n",
      "        6                                       3.727273   \n",
      "1      -1                                       3.750000   \n",
      "        0                                       3.255725   \n",
      "        1                                       3.288136   \n",
      "        2                                       3.200000   \n",
      "        3                                       3.100000   \n",
      "        4                                       3.204861   \n",
      "        5                                       3.400000   \n",
      "        6                                       3.750000   \n",
      "\n",
      "                                       program_duration_days  \\\n",
      "placed highest_level_of_education_enc                          \n",
      "0      -1                                           1.571429   \n",
      "        0                                           1.568698   \n",
      "        1                                           1.631579   \n",
      "        2                                           1.800000   \n",
      "        3                                           1.200000   \n",
      "        4                                           1.503831   \n",
      "        5                                           1.647059   \n",
      "        6                                           1.727273   \n",
      "1      -1                                           2.687500   \n",
      "        0                                           2.339695   \n",
      "        1                                           2.355932   \n",
      "        2                                           1.600000   \n",
      "        3                                           2.400000   \n",
      "        4                                           2.375000   \n",
      "        5                                           2.160000   \n",
      "        6                                           2.500000   \n",
      "\n",
      "                                       biggest_challenge_in_search_enc  \\\n",
      "placed highest_level_of_education_enc                                    \n",
      "0      -1                                                     4.714286   \n",
      "        0                                                     4.532855   \n",
      "        1                                                     4.131579   \n",
      "        2                                                     5.000000   \n",
      "        3                                                     5.400000   \n",
      "        4                                                     4.480843   \n",
      "        5                                                     4.729412   \n",
      "        6                                                     4.363636   \n",
      "1      -1                                                     4.187500   \n",
      "        0                                                     4.335878   \n",
      "        1                                                     4.033898   \n",
      "        2                                                     4.800000   \n",
      "        3                                                     4.800000   \n",
      "        4                                                     4.496528   \n",
      "        5                                                     4.560000   \n",
      "        6                                                     5.000000   \n",
      "\n",
      "                                       professional_experience_enc  \\\n",
      "placed highest_level_of_education_enc                                \n",
      "0      -1                                                 1.238095   \n",
      "        0                                                 1.003584   \n",
      "        1                                                 0.881579   \n",
      "        2                                                 1.500000   \n",
      "        3                                                 1.000000   \n",
      "        4                                                 1.000000   \n",
      "        5                                                 1.094118   \n",
      "        6                                                 1.636364   \n",
      "1      -1                                                 1.250000   \n",
      "        0                                                 1.131679   \n",
      "        1                                                 0.830508   \n",
      "        2                                                 2.600000   \n",
      "        3                                                 1.100000   \n",
      "        4                                                 1.225694   \n",
      "        5                                                 1.200000   \n",
      "        6                                                 1.750000   \n",
      "\n",
      "                                       work_authorization_status_enc  \\\n",
      "placed highest_level_of_education_enc                                  \n",
      "0      -1                                                   1.880952   \n",
      "        0                                                   1.896057   \n",
      "        1                                                   2.105263   \n",
      "        2                                                   1.700000   \n",
      "        3                                                   3.600000   \n",
      "        4                                                   2.028736   \n",
      "        5                                                   2.058824   \n",
      "        6                                                   2.000000   \n",
      "1      -1                                                   2.875000   \n",
      "        0                                                   1.877863   \n",
      "        1                                                   1.915254   \n",
      "        2                                                   3.000000   \n",
      "        3                                                   1.700000   \n",
      "        4                                                   1.642361   \n",
      "        5                                                   1.920000   \n",
      "        6                                                   0.750000   \n",
      "\n",
      "                                       race_enc  gender_enc  \\\n",
      "placed highest_level_of_education_enc                         \n",
      "0      -1                              3.690476    0.880952   \n",
      "        0                              4.078853    1.157706   \n",
      "        1                              3.815789    0.973684   \n",
      "        2                              4.000000    0.900000   \n",
      "        3                              2.400000    0.600000   \n",
      "        4                              4.082375    1.097701   \n",
      "        5                              3.952941    1.341176   \n",
      "        6                              4.636364    0.181818   \n",
      "1      -1                              3.937500    1.937500   \n",
      "        0                              4.255725    1.303435   \n",
      "        1                              4.389831    1.288136   \n",
      "        2                              6.000000    1.600000   \n",
      "        3                              3.300000    1.800000   \n",
      "        4                              4.562500    1.347222   \n",
      "        5                              3.820000    1.180000   \n",
      "        6                              3.500000    1.000000   \n",
      "\n",
      "                                       number_of_interviews  \\\n",
      "placed highest_level_of_education_enc                         \n",
      "0      -1                                          0.261905   \n",
      "        0                                          0.180406   \n",
      "        1                                          0.236842   \n",
      "        2                                          0.200000   \n",
      "        3                                          0.800000   \n",
      "        4                                          0.193487   \n",
      "        5                                          0.305882   \n",
      "        6                                          0.181818   \n",
      "1      -1                                          0.125000   \n",
      "        0                                          0.179389   \n",
      "        1                                          0.152542   \n",
      "        2                                          0.800000   \n",
      "        3                                          0.300000   \n",
      "        4                                          0.204861   \n",
      "        5                                          0.200000   \n",
      "        6                                          0.500000   \n",
      "\n",
      "                                       number_of_applications  \n",
      "placed highest_level_of_education_enc                          \n",
      "0      -1                                            1.833333  \n",
      "        0                                            1.535245  \n",
      "        1                                            1.710526  \n",
      "        2                                            1.800000  \n",
      "        3                                            0.600000  \n",
      "        4                                            1.419540  \n",
      "        5                                            1.458824  \n",
      "        6                                            0.636364  \n",
      "1      -1                                            1.312500  \n",
      "        0                                            1.440840  \n",
      "        1                                            1.389831  \n",
      "        2                                            0.800000  \n",
      "        3                                            1.800000  \n",
      "        4                                            1.527778  \n",
      "        5                                            1.700000  \n",
      "        6                                            2.250000  \n",
      "                                                 id  status_enc  \\\n",
      "placed biggest_challenge_in_search_enc                            \n",
      "0      -1                               1338.444444    2.888889   \n",
      "        0                               1199.250000    3.055556   \n",
      "        1                               1223.121951    3.601626   \n",
      "        2                               1285.358824    3.705882   \n",
      "        3                               1325.039062    3.648438   \n",
      "        4                               1278.972727    4.081818   \n",
      "        5                               1298.577640    3.608696   \n",
      "        6                               1213.022388    3.992537   \n",
      "        7                               1350.933333    3.666667   \n",
      "        8                               1402.954545    3.835227   \n",
      "        9                               1143.250000    3.821429   \n",
      "1      -1                               1281.600000    5.000000   \n",
      "        0                               1219.958333    5.000000   \n",
      "        1                               1356.047619    5.000000   \n",
      "        2                               1076.846774    5.000000   \n",
      "        3                               1209.146341    5.000000   \n",
      "        4                               1401.428571    5.000000   \n",
      "        5                               1264.206704    5.000000   \n",
      "        6                               1095.875000    5.000000   \n",
      "        7                               1526.750000    5.000000   \n",
      "        8                               1259.633929    5.000000   \n",
      "        9                               1418.750000    5.000000   \n",
      "\n",
      "                                        primary_track_enc  \\\n",
      "placed biggest_challenge_in_search_enc                      \n",
      "0      -1                                        3.333333   \n",
      "        0                                        3.111111   \n",
      "        1                                        3.178862   \n",
      "        2                                        2.923529   \n",
      "        3                                        2.906250   \n",
      "        4                                        3.072727   \n",
      "        5                                        3.093168   \n",
      "        6                                        3.149254   \n",
      "        7                                        3.166667   \n",
      "        8                                        3.125000   \n",
      "        9                                        3.071429   \n",
      "1      -1                                        3.600000   \n",
      "        0                                        3.333333   \n",
      "        1                                        3.317460   \n",
      "        2                                        3.354839   \n",
      "        3                                        3.219512   \n",
      "        4                                        3.100000   \n",
      "        5                                        3.254190   \n",
      "        6                                        3.215909   \n",
      "        7                                        3.833333   \n",
      "        8                                        3.116071   \n",
      "        9                                        4.000000   \n",
      "\n",
      "                                        program_duration_days  \\\n",
      "placed biggest_challenge_in_search_enc                          \n",
      "0      -1                                            1.222222   \n",
      "        0                                            1.472222   \n",
      "        1                                            1.495935   \n",
      "        2                                            1.523529   \n",
      "        3                                            1.382812   \n",
      "        4                                            1.581818   \n",
      "        5                                            1.563665   \n",
      "        6                                            1.671642   \n",
      "        7                                            1.533333   \n",
      "        8                                            1.625000   \n",
      "        9                                            1.785714   \n",
      "1      -1                                            2.333333   \n",
      "        0                                            2.500000   \n",
      "        1                                            2.301587   \n",
      "        2                                            2.459677   \n",
      "        3                                            2.426829   \n",
      "        4                                            2.300000   \n",
      "        5                                            2.324022   \n",
      "        6                                            2.125000   \n",
      "        7                                            2.166667   \n",
      "        8                                            2.410714   \n",
      "        9                                            2.750000   \n",
      "\n",
      "                                        highest_level_of_education_enc  \\\n",
      "placed biggest_challenge_in_search_enc                                   \n",
      "0      -1                                                     1.111111   \n",
      "        0                                                     1.861111   \n",
      "        1                                                     1.723577   \n",
      "        2                                                     1.700000   \n",
      "        3                                                     1.507812   \n",
      "        4                                                     1.209091   \n",
      "        5                                                     1.751553   \n",
      "        6                                                     1.858209   \n",
      "        7                                                     2.000000   \n",
      "        8                                                     1.460227   \n",
      "        9                                                     1.785714   \n",
      "1      -1                                                     1.866667   \n",
      "        0                                                     1.166667   \n",
      "        1                                                     1.460317   \n",
      "        2                                                     1.427419   \n",
      "        3                                                     1.597561   \n",
      "        4                                                     1.514286   \n",
      "        5                                                     1.600559   \n",
      "        6                                                     1.625000   \n",
      "        7                                                     1.666667   \n",
      "        8                                                     1.732143   \n",
      "        9                                                     2.125000   \n",
      "\n",
      "                                        professional_experience_enc  \\\n",
      "placed biggest_challenge_in_search_enc                                \n",
      "0      -1                                                  1.111111   \n",
      "        0                                                  0.944444   \n",
      "        1                                                  1.105691   \n",
      "        2                                                  1.047059   \n",
      "        3                                                  1.093750   \n",
      "        4                                                  0.672727   \n",
      "        5                                                  1.020186   \n",
      "        6                                                  0.970149   \n",
      "        7                                                  1.000000   \n",
      "        8                                                  1.096591   \n",
      "        9                                                  1.071429   \n",
      "1      -1                                                  1.066667   \n",
      "        0                                                  1.041667   \n",
      "        1                                                  1.190476   \n",
      "        2                                                  1.120968   \n",
      "        3                                                  1.085366   \n",
      "        4                                                  1.371429   \n",
      "        5                                                  1.128492   \n",
      "        6                                                  1.022727   \n",
      "        7                                                  1.416667   \n",
      "        8                                                  1.348214   \n",
      "        9                                                  0.500000   \n",
      "\n",
      "                                        work_authorization_status_enc  \\\n",
      "placed biggest_challenge_in_search_enc                                  \n",
      "0      -1                                                    1.222222   \n",
      "        0                                                    2.333333   \n",
      "        1                                                    1.682927   \n",
      "        2                                                    1.905882   \n",
      "        3                                                    2.125000   \n",
      "        4                                                    1.872727   \n",
      "        5                                                    1.975155   \n",
      "        6                                                    2.052239   \n",
      "        7                                                    2.000000   \n",
      "        8                                                    2.005682   \n",
      "        9                                                    1.892857   \n",
      "1      -1                                                    1.600000   \n",
      "        0                                                    2.375000   \n",
      "        1                                                    1.523810   \n",
      "        2                                                    1.822581   \n",
      "        3                                                    1.585366   \n",
      "        4                                                    1.671429   \n",
      "        5                                                    1.804469   \n",
      "        6                                                    2.068182   \n",
      "        7                                                    2.000000   \n",
      "        8                                                    2.071429   \n",
      "        9                                                    1.625000   \n",
      "\n",
      "                                        race_enc  gender_enc  \\\n",
      "placed biggest_challenge_in_search_enc                         \n",
      "0      -1                               3.444444    0.666667   \n",
      "        0                               4.333333    1.333333   \n",
      "        1                               4.317073    1.040650   \n",
      "        2                               3.629412    1.117647   \n",
      "        3                               3.984375    1.000000   \n",
      "        4                               3.945455    1.090909   \n",
      "        5                               4.150621    1.125776   \n",
      "        6                               4.097015    1.253731   \n",
      "        7                               2.933333    1.100000   \n",
      "        8                               4.068182    1.215909   \n",
      "        9                               4.428571    0.750000   \n",
      "1      -1                               3.866667    1.266667   \n",
      "        0                               4.541667    1.416667   \n",
      "        1                               3.904762    1.349206   \n",
      "        2                               4.282258    1.508065   \n",
      "        3                               4.731707    1.109756   \n",
      "        4                               4.085714    1.200000   \n",
      "        5                               4.170391    1.337989   \n",
      "        6                               4.420455    1.409091   \n",
      "        7                               4.500000    1.333333   \n",
      "        8                               4.946429    1.241071   \n",
      "        9                               3.250000    1.125000   \n",
      "\n",
      "                                        number_of_interviews  \\\n",
      "placed biggest_challenge_in_search_enc                         \n",
      "0      -1                                           0.111111   \n",
      "        0                                           0.222222   \n",
      "        1                                           0.178862   \n",
      "        2                                           0.182353   \n",
      "        3                                           0.210938   \n",
      "        4                                           0.109091   \n",
      "        5                                           0.209627   \n",
      "        6                                           0.216418   \n",
      "        7                                           0.166667   \n",
      "        8                                           0.232955   \n",
      "        9                                           0.142857   \n",
      "1      -1                                           0.400000   \n",
      "        0                                           0.083333   \n",
      "        1                                           0.206349   \n",
      "        2                                           0.185484   \n",
      "        3                                           0.219512   \n",
      "        4                                           0.128571   \n",
      "        5                                           0.195531   \n",
      "        6                                           0.113636   \n",
      "        7                                           0.166667   \n",
      "        8                                           0.267857   \n",
      "        9                                           0.000000   \n",
      "\n",
      "                                        number_of_applications  \n",
      "placed biggest_challenge_in_search_enc                          \n",
      "0      -1                                             2.222222  \n",
      "        0                                             1.194444  \n",
      "        1                                             1.487805  \n",
      "        2                                             1.570588  \n",
      "        3                                             1.531250  \n",
      "        4                                             1.627273  \n",
      "        5                                             1.500000  \n",
      "        6                                             1.567164  \n",
      "        7                                             1.133333  \n",
      "        8                                             1.431818  \n",
      "        9                                             1.250000  \n",
      "1      -1                                             1.733333  \n",
      "        0                                             1.166667  \n",
      "        1                                             1.365079  \n",
      "        2                                             1.516129  \n",
      "        3                                             1.451220  \n",
      "        4                                             1.471429  \n",
      "        5                                             1.522346  \n",
      "        6                                             1.386364  \n",
      "        7                                             1.500000  \n",
      "        8                                             1.491071  \n",
      "        9                                             1.500000  \n",
      "                                             id  status_enc  \\\n",
      "placed professional_experience_enc                            \n",
      "0      -1                           1314.335329    3.562874   \n",
      "        0                           1290.771171    3.461261   \n",
      "        1                           1289.178248    4.036254   \n",
      "        2                           1352.006369    3.872611   \n",
      "        3                           1264.283069    3.746032   \n",
      "1      -1                           1697.018182    5.000000   \n",
      "        0                           1183.137615    5.000000   \n",
      "        1                           1253.158590    5.000000   \n",
      "        2                           1209.570093    5.000000   \n",
      "        3                           1209.887500    5.000000   \n",
      "\n",
      "                                    primary_track_enc  program_duration_days  \\\n",
      "placed professional_experience_enc                                             \n",
      "0      -1                                    2.874251               1.520958   \n",
      "        0                                    3.113514               1.603604   \n",
      "        1                                    3.166163               1.474320   \n",
      "        2                                    3.146497               1.605096   \n",
      "        3                                    3.002646               1.552910   \n",
      "1      -1                                    3.163636               2.490909   \n",
      "        0                                    3.269113               2.385321   \n",
      "        1                                    3.167401               2.374449   \n",
      "        2                                    3.345794               2.214953   \n",
      "        3                                    3.312500               2.287500   \n",
      "\n",
      "                                    highest_level_of_education_enc  \\\n",
      "placed professional_experience_enc                                   \n",
      "0      -1                                                 1.485030   \n",
      "        0                                                 1.699099   \n",
      "        1                                                 1.755287   \n",
      "        2                                                 1.528662   \n",
      "        3                                                 1.682540   \n",
      "1      -1                                                 1.472727   \n",
      "        0                                                 1.477064   \n",
      "        1                                                 1.612335   \n",
      "        2                                                 1.682243   \n",
      "        3                                                 1.662500   \n",
      "\n",
      "                                    biggest_challenge_in_search_enc  \\\n",
      "placed professional_experience_enc                                    \n",
      "0      -1                                                  4.514970   \n",
      "        0                                                  4.520721   \n",
      "        1                                                  4.516616   \n",
      "        2                                                  4.433121   \n",
      "        3                                                  4.544974   \n",
      "1      -1                                                  4.072727   \n",
      "        0                                                  4.415902   \n",
      "        1                                                  4.339207   \n",
      "        2                                                  4.364486   \n",
      "        3                                                  4.466667   \n",
      "\n",
      "                                    work_authorization_status_enc  race_enc  \\\n",
      "placed professional_experience_enc                                            \n",
      "0      -1                                                1.616766  3.820359   \n",
      "        0                                                2.077477  4.218018   \n",
      "        1                                                2.021148  3.981873   \n",
      "        2                                                1.974522  4.146497   \n",
      "        3                                                1.891534  3.917989   \n",
      "1      -1                                                2.036364  4.018182   \n",
      "        0                                                1.737003  4.366972   \n",
      "        1                                                1.696035  4.471366   \n",
      "        2                                                2.018692  4.728972   \n",
      "        3                                                1.941667  4.016667   \n",
      "\n",
      "                                    gender_enc  number_of_interviews  \\\n",
      "placed professional_experience_enc                                     \n",
      "0      -1                             1.041916              0.077844   \n",
      "        0                             1.091892              0.225225   \n",
      "        1                             1.229607              0.199396   \n",
      "        2                             0.898089              0.159236   \n",
      "        3                             1.198413              0.227513   \n",
      "1      -1                             0.945455              0.036364   \n",
      "        0                             1.354740              0.180428   \n",
      "        1                             1.312775              0.242291   \n",
      "        2                             1.439252              0.317757   \n",
      "        3                             1.333333              0.137500   \n",
      "\n",
      "                                    number_of_applications  \n",
      "placed professional_experience_enc                          \n",
      "0      -1                                         1.497006  \n",
      "        0                                         1.394595  \n",
      "        1                                         1.580060  \n",
      "        2                                         1.522293  \n",
      "        3                                         1.584656  \n",
      "1      -1                                         1.036364  \n",
      "        0                                         1.507645  \n",
      "        1                                         1.466960  \n",
      "        2                                         1.420561  \n",
      "        3                                         1.579167  \n",
      "                          id  status_enc  primary_track_enc  \\\n",
      "placed race_enc                                               \n",
      "0      -1        1669.833333    3.666667           3.000000   \n",
      "        0        1315.442105    3.621053           3.368421   \n",
      "        1        1174.735849    3.245283           3.094340   \n",
      "        2        1267.207513    3.919499           3.087657   \n",
      "        3        1317.619048    4.133333           2.714286   \n",
      "        4        1437.885714    3.800000           3.085714   \n",
      "        6        1324.115819    3.268362           3.138418   \n",
      "        7        1283.197411    3.799353           3.093851   \n",
      "        8        1260.575758    3.439394           2.712121   \n",
      "1      -1        2154.166667    5.000000           3.000000   \n",
      "        0        1313.193548    5.000000           3.548387   \n",
      "        1        1679.750000    5.000000           3.625000   \n",
      "        2        1282.281525    5.000000           3.123167   \n",
      "        3        1268.470588    5.000000           3.019608   \n",
      "        4        1181.290323    5.000000           3.322581   \n",
      "        5        1029.333333    5.000000           2.666667   \n",
      "        6        1192.557078    5.000000           3.305936   \n",
      "        7        1153.223684    5.000000           3.342105   \n",
      "        8        1273.766667    5.000000           3.766667   \n",
      "\n",
      "                 program_duration_days  highest_level_of_education_enc  \\\n",
      "placed race_enc                                                          \n",
      "0      -1                     2.083333                        1.750000   \n",
      "        0                     1.378947                        1.515789   \n",
      "        1                     1.528302                        1.867925   \n",
      "        2                     1.522361                        1.633274   \n",
      "        3                     1.361905                        1.914286   \n",
      "        4                     1.628571                        1.685714   \n",
      "        6                     1.635593                        1.480226   \n",
      "        7                     1.631068                        2.012945   \n",
      "        8                     1.515152                        0.984848   \n",
      "1      -1                     2.166667                        2.000000   \n",
      "        0                     2.419355                        1.161290   \n",
      "        1                     2.437500                        1.500000   \n",
      "        2                     2.401760                        1.480938   \n",
      "        3                     2.470588                        2.039216   \n",
      "        4                     2.516129                        2.064516   \n",
      "        5                     2.333333                        2.666667   \n",
      "        6                     2.246575                        1.465753   \n",
      "        7                     2.315789                        1.692982   \n",
      "        8                     2.166667                        1.633333   \n",
      "\n",
      "                 biggest_challenge_in_search_enc  professional_experience_enc  \\\n",
      "placed race_enc                                                                 \n",
      "0      -1                               4.083333                     0.416667   \n",
      "        0                               4.284211                     1.294737   \n",
      "        1                               4.528302                     1.150943   \n",
      "        2                               4.540250                     0.983900   \n",
      "        3                               4.533333                     1.066667   \n",
      "        4                               4.942857                     0.714286   \n",
      "        6                               4.516949                     1.064972   \n",
      "        7                               4.472492                     0.974110   \n",
      "        8                               4.666667                     0.878788   \n",
      "1      -1                               2.333333                     1.000000   \n",
      "        0                               4.677419                     1.290323   \n",
      "        1                               4.625000                     1.625000   \n",
      "        2                               4.217009                     1.155425   \n",
      "        3                               4.372549                     1.215686   \n",
      "        4                               4.612903                     1.096774   \n",
      "        5                               4.000000                     1.333333   \n",
      "        6                               4.342466                     1.200913   \n",
      "        7                               4.728070                     1.078947   \n",
      "        8                               3.800000                     1.033333   \n",
      "\n",
      "                 work_authorization_status_enc  gender_enc  \\\n",
      "placed race_enc                                              \n",
      "0      -1                             2.000000    1.416667   \n",
      "        0                             1.821053    1.189474   \n",
      "        1                             1.811321    0.962264   \n",
      "        2                             1.957066    1.116279   \n",
      "        3                             2.133333    1.028571   \n",
      "        4                             2.200000    0.885714   \n",
      "        6                             1.884181    1.124294   \n",
      "        7                             2.042071    1.155340   \n",
      "        8                             1.984848    1.242424   \n",
      "1      -1                             2.000000    1.000000   \n",
      "        0                             2.354839    1.451613   \n",
      "        1                             2.125000    1.437500   \n",
      "        2                             1.700880    1.187683   \n",
      "        3                             1.921569    1.333333   \n",
      "        4                             2.225806    1.225806   \n",
      "        5                             1.000000    1.000000   \n",
      "        6                             1.977169    1.388128   \n",
      "        7                             1.653509    1.456140   \n",
      "        8                             2.266667    1.433333   \n",
      "\n",
      "                 number_of_interviews  number_of_applications  \n",
      "placed race_enc                                                \n",
      "0      -1                    0.333333                1.833333  \n",
      "        0                    0.231579                1.305263  \n",
      "        1                    0.188679                1.547170  \n",
      "        2                    0.191413                1.581395  \n",
      "        3                    0.295238                1.438095  \n",
      "        4                    0.171429                1.657143  \n",
      "        6                    0.180791                1.485876  \n",
      "        7                    0.210356                1.368932  \n",
      "        8                    0.090909                1.742424  \n",
      "1      -1                    0.333333                1.166667  \n",
      "        0                    0.064516                1.483871  \n",
      "        1                    0.437500                2.000000  \n",
      "        2                    0.187683                1.419355  \n",
      "        3                    0.156863                1.549020  \n",
      "        4                    0.322581                1.612903  \n",
      "        5                    1.333333                2.000000  \n",
      "        6                    0.191781                1.383562  \n",
      "        7                    0.149123                1.543860  \n",
      "        8                    0.333333                1.833333  \n",
      "                            id  status_enc  primary_track_enc  \\\n",
      "placed gender_enc                                               \n",
      "0      -1          1620.692982    3.982456           3.175439   \n",
      "        0          1209.076923    3.076923           3.384615   \n",
      "        1          1163.491379    3.750000           2.867816   \n",
      "        2          1218.096591    3.585227           3.119318   \n",
      "        3          1187.800000    2.800000           2.400000   \n",
      "1      -1          1893.220000    5.000000           3.120000   \n",
      "        0          2027.333333    5.000000           3.333333   \n",
      "        1          1100.168421    5.000000           2.826316   \n",
      "        2          1116.246732    5.000000           3.424837   \n",
      "        3          2246.000000    5.000000           4.000000   \n",
      "\n",
      "                   program_duration_days  highest_level_of_education_enc  \\\n",
      "placed gender_enc                                                          \n",
      "0      -1                       1.672515                        1.646199   \n",
      "        0                       1.615385                        1.923077   \n",
      "        1                       1.373563                        1.790230   \n",
      "        2                       1.580682                        1.628409   \n",
      "        3                       1.800000                        0.800000   \n",
      "1      -1                       2.640000                        1.546667   \n",
      "        0                       2.000000                        2.666667   \n",
      "        1                       2.263158                        1.710526   \n",
      "        2                       2.303922                        1.534314   \n",
      "        3                       0.000000                        5.000000   \n",
      "\n",
      "                   biggest_challenge_in_search_enc  \\\n",
      "placed gender_enc                                    \n",
      "0      -1                                 4.467836   \n",
      "        0                                 4.846154   \n",
      "        1                                 4.419540   \n",
      "        2                                 4.554545   \n",
      "        3                                 7.000000   \n",
      "1      -1                                 4.540000   \n",
      "        0                                 6.000000   \n",
      "        1                                 4.300000   \n",
      "        2                                 4.364379   \n",
      "        3                                 5.000000   \n",
      "\n",
      "                   professional_experience_enc  work_authorization_status_enc  \\\n",
      "placed gender_enc                                                               \n",
      "0      -1                             0.988304                       1.760234   \n",
      "        0                             0.769231                       1.769231   \n",
      "        1                             0.928161                       2.011494   \n",
      "        2                             1.061364                       2.026136   \n",
      "        3                             1.400000                       1.800000   \n",
      "1      -1                             1.086667                       1.826667   \n",
      "        0                             1.333333                       2.333333   \n",
      "        1                             1.073684                       1.821053   \n",
      "        2                             1.196078                       1.828431   \n",
      "        3                             3.000000                       1.000000   \n",
      "\n",
      "                   race_enc  number_of_interviews  number_of_applications  \n",
      "placed gender_enc                                                          \n",
      "0      -1          4.067251              0.210526                1.482456  \n",
      "        0          1.538462              0.000000                1.461538  \n",
      "        1          3.962644              0.192529                1.436782  \n",
      "        2          4.127273              0.200000                1.536364  \n",
      "        3          1.400000              0.000000                1.400000  \n",
      "1      -1          3.906667              0.166667                1.506667  \n",
      "        0          5.000000              0.666667                1.333333  \n",
      "        1          4.157895              0.200000                1.426316  \n",
      "        2          4.482026              0.192810                1.486928  \n",
      "        3          0.000000              0.000000                3.000000  \n",
      "                                       id  status_enc  primary_track_enc  \\\n",
      "placed program_duration_days                                               \n",
      "0      0                      1312.799235    5.460803           3.141491   \n",
      "       1                      1241.222222    6.148148           3.074074   \n",
      "       2                      1298.603896    0.389610           3.000000   \n",
      "       3                      1263.782278    6.197468           3.108861   \n",
      "1      0                      1414.357143    5.000000           2.875000   \n",
      "       1                      1015.978166    5.000000           3.432314   \n",
      "       3                      1300.481371    5.000000           3.230999   \n",
      "\n",
      "                              highest_level_of_education_enc  \\\n",
      "placed program_duration_days                                   \n",
      "0      0                                            1.692161   \n",
      "       1                                            1.851852   \n",
      "       2                                            1.660714   \n",
      "       3                                            1.620253   \n",
      "1      0                                            1.482143   \n",
      "       1                                            1.655022   \n",
      "       3                                            1.560358   \n",
      "\n",
      "                              biggest_challenge_in_search_enc  \\\n",
      "placed program_duration_days                                    \n",
      "0      0                                             4.426386   \n",
      "       1                                             4.370370   \n",
      "       2                                             4.451299   \n",
      "       3                                             4.756962   \n",
      "1      0                                             4.589286   \n",
      "       1                                             4.414847   \n",
      "       3                                             4.357675   \n",
      "\n",
      "                              professional_experience_enc  \\\n",
      "placed program_duration_days                                \n",
      "0      0                                         1.040153   \n",
      "       1                                         1.055556   \n",
      "       2                                         0.959416   \n",
      "       3                                         1.063291   \n",
      "1      0                                         1.482143   \n",
      "       1                                         1.192140   \n",
      "       3                                         1.117735   \n",
      "\n",
      "                              work_authorization_status_enc  race_enc  \\\n",
      "placed program_duration_days                                            \n",
      "0      0                                           1.959847  3.871893   \n",
      "       1                                           1.740741  3.870370   \n",
      "       2                                           1.948052  4.183442   \n",
      "       3                                           2.020253  4.096203   \n",
      "1      0                                           1.750000  4.232143   \n",
      "       1                                           1.934498  4.659389   \n",
      "       3                                           1.797317  4.217586   \n",
      "\n",
      "                              gender_enc  number_of_interviews  \\\n",
      "placed program_duration_days                                     \n",
      "0      0                        1.124283              0.221797   \n",
      "       1                        1.222222              0.259259   \n",
      "       2                        1.188312              0.168831   \n",
      "       3                        1.000000              0.205063   \n",
      "1      0                        1.446429              0.285714   \n",
      "       1                        1.537118              0.270742   \n",
      "       3                        1.242921              0.156483   \n",
      "\n",
      "                              number_of_applications  \n",
      "placed program_duration_days                          \n",
      "0      0                                    1.500956  \n",
      "       1                                    1.814815  \n",
      "       2                                    1.488636  \n",
      "       3                                    1.481013  \n",
      "1      0                                    1.357143  \n",
      "       1                                    1.615721  \n",
      "       3                                    1.442623  \n",
      "                                        id  status_enc  primary_track_enc  \\\n",
      "placed number_of_applications                                               \n",
      "0      0                       1266.403013    3.585687           3.137476   \n",
      "       1                       1349.699659    3.767918           3.092150   \n",
      "       2                       1350.750000    3.965000           3.170000   \n",
      "       3                       1267.166667    3.679078           2.976950   \n",
      "1      0                       1253.097561    5.000000           3.271341   \n",
      "       1                       1234.672414    5.000000           3.304598   \n",
      "       2                       1318.713115    5.000000           2.942623   \n",
      "       3                       1198.054217    5.000000           3.337349   \n",
      "\n",
      "                               program_duration_days  \\\n",
      "placed number_of_applications                          \n",
      "0      0                                    1.544256   \n",
      "       1                                    1.597270   \n",
      "       2                                    1.650000   \n",
      "       3                                    1.512411   \n",
      "1      0                                    2.405488   \n",
      "       1                                    2.264368   \n",
      "       2                                    2.434426   \n",
      "       3                                    2.295181   \n",
      "\n",
      "                               highest_level_of_education_enc  \\\n",
      "placed number_of_applications                                   \n",
      "0      0                                             1.815443   \n",
      "       1                                             1.774744   \n",
      "       2                                             1.440000   \n",
      "       3                                             1.553191   \n",
      "1      0                                             1.435976   \n",
      "       1                                             1.666667   \n",
      "       2                                             1.409836   \n",
      "       3                                             1.734940   \n",
      "\n",
      "                               biggest_challenge_in_search_enc  \\\n",
      "placed number_of_applications                                    \n",
      "0      0                                              4.655367   \n",
      "       1                                              4.368601   \n",
      "       2                                              4.400000   \n",
      "       3                                              4.503546   \n",
      "1      0                                              4.317073   \n",
      "       1                                              4.528736   \n",
      "       2                                              4.262295   \n",
      "       3                                              4.421687   \n",
      "\n",
      "                               professional_experience_enc  \\\n",
      "placed number_of_applications                                \n",
      "0      0                                          0.945386   \n",
      "       1                                          0.982935   \n",
      "       2                                          1.030000   \n",
      "       3                                          1.092199   \n",
      "1      0                                          1.088415   \n",
      "       1                                          1.149425   \n",
      "       2                                          1.065574   \n",
      "       3                                          1.262048   \n",
      "\n",
      "                               work_authorization_status_enc  race_enc  \\\n",
      "placed number_of_applications                                            \n",
      "0      0                                            2.011299  4.096045   \n",
      "       1                                            2.078498  4.139932   \n",
      "       2                                            1.720000  3.930000   \n",
      "       3                                            1.943262  3.998227   \n",
      "1      0                                            1.734756  4.155488   \n",
      "       1                                            1.902299  4.557471   \n",
      "       2                                            1.745902  4.467213   \n",
      "       3                                            1.909639  4.316265   \n",
      "\n",
      "                               gender_enc  number_of_interviews  \n",
      "placed number_of_applications                                    \n",
      "0      0                         1.107345              0.160075  \n",
      "       1                         1.078498              0.201365  \n",
      "       2                         1.145000              0.235000  \n",
      "       3                         1.148936              0.219858  \n",
      "1      0                         1.323171              0.198171  \n",
      "       1                         1.350575              0.172414  \n",
      "       2                         1.270492              0.139344  \n",
      "       3                         1.334337              0.213855  \n",
      "                                               id  status_enc  \\\n",
      "placed work_authorization_status_enc                            \n",
      "0      -1                             1593.641509    3.723270   \n",
      "        0                             1111.066667    4.466667   \n",
      "        1                             1258.101597    3.651669   \n",
      "        2                             1257.895349    3.302326   \n",
      "        3                             1246.291262    3.791262   \n",
      "        4                             1301.412281    3.675439   \n",
      "        5                             1162.371429    4.485714   \n",
      "        6                              970.750000    6.000000   \n",
      "        7                             1378.029412    3.367647   \n",
      "        8                             1263.833333    4.333333   \n",
      "1      -1                             1378.496000    5.000000   \n",
      "        0                             1860.777778    5.000000   \n",
      "        1                             1246.175904    5.000000   \n",
      "        2                             1374.913043    5.000000   \n",
      "        3                             1176.159483    5.000000   \n",
      "        4                             1024.571429    5.000000   \n",
      "        5                             1130.384615    5.000000   \n",
      "        7                             1227.909091    5.000000   \n",
      "        8                              853.000000    5.000000   \n",
      "\n",
      "                                      primary_track_enc  \\\n",
      "placed work_authorization_status_enc                      \n",
      "0      -1                                      3.018868   \n",
      "        0                                      3.266667   \n",
      "        1                                      3.184325   \n",
      "        2                                      2.872093   \n",
      "        3                                      2.990291   \n",
      "        4                                      2.894737   \n",
      "        5                                      2.800000   \n",
      "        6                                      3.000000   \n",
      "        7                                      3.220588   \n",
      "        8                                      4.000000   \n",
      "1      -1                                      3.184000   \n",
      "        0                                      2.555556   \n",
      "        1                                      3.306024   \n",
      "        2                                      3.369565   \n",
      "        3                                      3.155172   \n",
      "        4                                      3.428571   \n",
      "        5                                      3.461538   \n",
      "        7                                      3.227273   \n",
      "        8                                      4.000000   \n",
      "\n",
      "                                      program_duration_days  \\\n",
      "placed work_authorization_status_enc                          \n",
      "0      -1                                          1.716981   \n",
      "        0                                          1.400000   \n",
      "        1                                          1.467344   \n",
      "        2                                          1.674419   \n",
      "        3                                          1.577670   \n",
      "        4                                          1.736842   \n",
      "        5                                          1.485714   \n",
      "        6                                          0.750000   \n",
      "        7                                          1.617647   \n",
      "        8                                          1.500000   \n",
      "1      -1                                          2.224000   \n",
      "        0                                          2.777778   \n",
      "        1                                          2.392771   \n",
      "        2                                          2.282609   \n",
      "        3                                          2.336207   \n",
      "        4                                          2.528571   \n",
      "        5                                          2.153846   \n",
      "        7                                          2.045455   \n",
      "        8                                          2.000000   \n",
      "\n",
      "                                      highest_level_of_education_enc  \\\n",
      "placed work_authorization_status_enc                                   \n",
      "0      -1                                                   1.622642   \n",
      "        0                                                   1.800000   \n",
      "        1                                                   1.638607   \n",
      "        2                                                   1.616279   \n",
      "        3                                                   1.682039   \n",
      "        4                                                   1.508772   \n",
      "        5                                                   1.685714   \n",
      "        6                                                   3.000000   \n",
      "        7                                                   2.102941   \n",
      "        8                                                   2.666667   \n",
      "1      -1                                                   1.584000   \n",
      "        0                                                   1.000000   \n",
      "        1                                                   1.681928   \n",
      "        2                                                   2.065217   \n",
      "        3                                                   1.491379   \n",
      "        4                                                   1.471429   \n",
      "        5                                                   1.000000   \n",
      "        7                                                   0.977273   \n",
      "        8                                                   2.000000   \n",
      "\n",
      "                                      biggest_challenge_in_search_enc  \\\n",
      "placed work_authorization_status_enc                                    \n",
      "0      -1                                                    4.421384   \n",
      "        0                                                    4.866667   \n",
      "        1                                                    4.483309   \n",
      "        2                                                    4.744186   \n",
      "        3                                                    4.458738   \n",
      "        4                                                    4.614035   \n",
      "        5                                                    5.114286   \n",
      "        6                                                    4.250000   \n",
      "        7                                                    4.691176   \n",
      "        8                                                    3.500000   \n",
      "1      -1                                                    4.144000   \n",
      "        0                                                    3.888889   \n",
      "        1                                                    4.361446   \n",
      "        2                                                    4.630435   \n",
      "        3                                                    4.413793   \n",
      "        4                                                    4.700000   \n",
      "        5                                                    4.307692   \n",
      "        7                                                    4.477273   \n",
      "        8                                                    5.000000   \n",
      "\n",
      "                                      professional_experience_enc  race_enc  \\\n",
      "placed work_authorization_status_enc                                          \n",
      "0      -1                                                0.905660  4.257862   \n",
      "        0                                                1.000000  3.666667   \n",
      "        1                                                1.076923  3.939042   \n",
      "        2                                                0.744186  4.546512   \n",
      "        3                                                1.029126  4.019417   \n",
      "        4                                                0.964912  3.947368   \n",
      "        5                                                0.942857  4.142857   \n",
      "        6                                                1.000000  4.500000   \n",
      "        7                                                1.044118  4.367647   \n",
      "        8                                                0.833333  4.333333   \n",
      "1      -1                                                1.184000  4.488000   \n",
      "        0                                                0.888889  4.111111   \n",
      "        1                                                1.134940  4.262651   \n",
      "        2                                                0.847826  4.347826   \n",
      "        3                                                1.163793  4.215517   \n",
      "        4                                                1.257143  4.671429   \n",
      "        5                                                1.384615  5.615385   \n",
      "        7                                                1.409091  4.068182   \n",
      "        8                                                1.000000  5.000000   \n",
      "\n",
      "                                      gender_enc  number_of_interviews  \\\n",
      "placed work_authorization_status_enc                                     \n",
      "0      -1                               0.849057              0.132075   \n",
      "        0                               1.266667              0.000000   \n",
      "        1                               1.143687              0.214804   \n",
      "        2                               1.011628              0.267442   \n",
      "        3                               1.152913              0.174757   \n",
      "        4                               1.192982              0.315789   \n",
      "        5                               1.400000              0.257143   \n",
      "        6                               1.250000              0.000000   \n",
      "        7                               1.117647              0.058824   \n",
      "        8                               1.833333              0.333333   \n",
      "1      -1                               1.336000              0.184000   \n",
      "        0                               1.111111              0.111111   \n",
      "        1                               1.351807              0.224096   \n",
      "        2                               1.282609              0.130435   \n",
      "        3                               1.284483              0.176724   \n",
      "        4                               1.271429              0.085714   \n",
      "        5                               1.307692              0.384615   \n",
      "        7                               1.409091              0.181818   \n",
      "        8                               2.000000              0.000000   \n",
      "\n",
      "                                      number_of_applications  \n",
      "placed work_authorization_status_enc                          \n",
      "0      -1                                           1.415094  \n",
      "        0                                           1.600000  \n",
      "        1                                           1.528302  \n",
      "        2                                           1.395349  \n",
      "        3                                           1.592233  \n",
      "        4                                           1.517544  \n",
      "        5                                           1.200000  \n",
      "        6                                           0.750000  \n",
      "        7                                           1.220588  \n",
      "        8                                           1.000000  \n",
      "1      -1                                           1.232000  \n",
      "        0                                           1.333333  \n",
      "        1                                           1.506024  \n",
      "        2                                           1.934783  \n",
      "        3                                           1.474138  \n",
      "        4                                           1.542857  \n",
      "        5                                           1.538462  \n",
      "        7                                           1.363636  \n",
      "        8                                           2.000000  \n",
      "                                      id  status_enc  primary_track_enc  \\\n",
      "placed number_of_interviews                                               \n",
      "0      0                     1298.156516    3.650142           3.060907   \n",
      "       1                     1133.810811    4.054054           3.324324   \n",
      "       2                     1279.179856    4.115108           3.165468   \n",
      "1      0                     1245.832160    5.000000           3.244131   \n",
      "       1                      915.800000    5.000000           3.480000   \n",
      "       2                     1267.620253    5.000000           3.341772   \n",
      "\n",
      "                             program_duration_days  \\\n",
      "placed number_of_interviews                          \n",
      "0      0                                  1.572946   \n",
      "       1                                  0.945946   \n",
      "       2                                  1.546763   \n",
      "1      0                                  2.381455   \n",
      "       1                                  1.960000   \n",
      "       2                                  2.075949   \n",
      "\n",
      "                             highest_level_of_education_enc  \\\n",
      "placed number_of_interviews                                   \n",
      "0      0                                           1.657932   \n",
      "       1                                           1.216216   \n",
      "       2                                           1.884892   \n",
      "1      0                                           1.572770   \n",
      "       1                                           0.640000   \n",
      "       2                                           1.936709   \n",
      "\n",
      "                             biggest_challenge_in_search_enc  \\\n",
      "placed number_of_interviews                                    \n",
      "0      0                                            4.501416   \n",
      "       1                                            4.648649   \n",
      "       2                                            4.633094   \n",
      "1      0                                            4.387324   \n",
      "       1                                            4.040000   \n",
      "       2                                            4.468354   \n",
      "\n",
      "                             professional_experience_enc  \\\n",
      "placed number_of_interviews                                \n",
      "0      0                                        0.999292   \n",
      "       1                                        1.108108   \n",
      "       2                                        1.151079   \n",
      "1      0                                        1.151408   \n",
      "       1                                        1.200000   \n",
      "       2                                        1.202532   \n",
      "\n",
      "                             work_authorization_status_enc  race_enc  \\\n",
      "placed number_of_interviews                                            \n",
      "0      0                                          1.960340  4.068697   \n",
      "       1                                          2.054054  3.891892   \n",
      "       2                                          1.964029  3.884892   \n",
      "1      0                                          1.843897  4.319249   \n",
      "       1                                          1.680000  4.840000   \n",
      "       2                                          1.696203  4.215190   \n",
      "\n",
      "                             gender_enc  number_of_applications  \n",
      "placed number_of_interviews                                      \n",
      "0      0                       1.126062                1.478045  \n",
      "       1                       0.945946                1.918919  \n",
      "       2                       1.122302                1.633094  \n",
      "1      0                       1.315728                1.474178  \n",
      "       1                       1.720000                1.560000  \n",
      "       2                       1.303797                1.506329  \n"
     ]
    }
   ],
   "source": [
    "lis_groupby = [\"status_enc\",\"primary_track_enc\", \"highest_level_of_education_enc\",\n",
    "              \"biggest_challenge_in_search_enc\", \"professional_experience_enc\", \"race_enc\",\n",
    "              \"gender_enc\", \"program_duration_days\", \"number_of_applications\", \"work_authorization_status_enc\",\n",
    "              \"number_of_interviews\"]\n",
    "for i in lis_groupby:\n",
    "    work_enc.groupby([\"placed\", i]).mean()\n",
    "    print(work_enc.groupby([\"placed\", i]).mean())"
   ]
  },
  {
   "cell_type": "markdown",
   "metadata": {},
   "source": [
    "#### Basic details from the eda\n",
    "\n",
    "##### Placed\n",
    "###### The highest averge and lowest average (ignoring null values for each category) variable.\n",
    "<pre>\n",
    "status -                 placed <br>\n",
    "track -                  marketing               least - swe<br>\n",
    "education -              Some High School        least - ged<br>\n",
    "biggest -                Resume gap              least - final round<br>\n",
    "professional -           3-4                     least - 1-2<br>\n",
    "race -                   decline to indentify    least - native american<br>\n",
    "gender -                 non-binary              least - female<br> \n",
    "program -                l than eq 30            least - >30 l than eq 90<br>\n",
    "number_of_applications - l than eq 30 g 20       least - >30<br>\n",
    "work -                   Canada citizen          least - stem opt<br>\n",
    "inter -                  l than eq  10.0         least - g than eq 10<br>\n",
    "\n",
    "----------------------------------------------------\n",
    "##### not placed\n",
    "###### The highest average variable (ignoring null values) for categories.\n",
    "\n",
    "status -                 defered <br>\n",
    "track -                  swe<br>\n",
    "education -              Some High School<br>\n",
    "biggest -                Technical interviewing<br>\n",
    "professional -           5+ years<br>\n",
    "race -                   middle eastern<br>\n",
    "gender -                 male<br>\n",
    "program -                l than eq 30<br>\n",
    "number_of_applications - l than eq 30 g 20<br>\n",
    "work -                   Other<br>\n",
    "inter -                  l 10.0<br>\n",
    "\n",
    "</pre>"
   ]
  },
  {
   "cell_type": "code",
   "execution_count": 55,
   "metadata": {},
   "outputs": [],
   "source": [
    "work['status'].unique();"
   ]
  },
  {
   "cell_type": "code",
   "execution_count": 56,
   "metadata": {},
   "outputs": [],
   "source": [
    "work.loc[work[\"status\"].isin([\"Withdrawn\", 'Withdrawn (Failed)','Withdrawn (Trial)' ])]\n",
    "work.shape\n",
    "756/2544\n",
    "work.loc[work[\"status\"].isin(['Withdrawn (Trial)' ])]\n",
    "276/2544\n",
    "276/756\n",
    "work.loc[work[\"status\"].isin(['Placed'])]\n",
    "956/ (2544 - 756)\n",
    "work.loc[work[\"status\"].isin(['Placed', 'Active'])]\n",
    "1488/(2544-756);"
   ]
  },
  {
   "cell_type": "code",
   "execution_count": 57,
   "metadata": {},
   "outputs": [],
   "source": [
    "work.groupby(['program_duration_days']).mean();"
   ]
  },
  {
   "cell_type": "code",
   "execution_count": 58,
   "metadata": {},
   "outputs": [],
   "source": [
    "### feature changing to see the change in techniques"
   ]
  },
  {
   "cell_type": "code",
   "execution_count": 59,
   "metadata": {},
   "outputs": [],
   "source": [
    "work['status'].unique();"
   ]
  },
  {
   "cell_type": "code",
   "execution_count": 60,
   "metadata": {},
   "outputs": [],
   "source": [
    "work_enc= work_enc.drop([\"id\"], axis = 1)"
   ]
  },
  {
   "cell_type": "code",
   "execution_count": 61,
   "metadata": {},
   "outputs": [
    {
     "data": {
      "text/html": [
       "<div>\n",
       "<style scoped>\n",
       "    .dataframe tbody tr th:only-of-type {\n",
       "        vertical-align: middle;\n",
       "    }\n",
       "\n",
       "    .dataframe tbody tr th {\n",
       "        vertical-align: top;\n",
       "    }\n",
       "\n",
       "    .dataframe thead th {\n",
       "        text-align: right;\n",
       "    }\n",
       "</style>\n",
       "<table border=\"1\" class=\"dataframe\">\n",
       "  <thead>\n",
       "    <tr style=\"text-align: right;\">\n",
       "      <th></th>\n",
       "      <th>status_enc</th>\n",
       "      <th>primary_track_enc</th>\n",
       "      <th>program_duration_days</th>\n",
       "      <th>highest_level_of_education_enc</th>\n",
       "      <th>biggest_challenge_in_search_enc</th>\n",
       "      <th>professional_experience_enc</th>\n",
       "      <th>work_authorization_status_enc</th>\n",
       "      <th>race_enc</th>\n",
       "      <th>gender_enc</th>\n",
       "      <th>number_of_interviews</th>\n",
       "      <th>number_of_applications</th>\n",
       "      <th>placed</th>\n",
       "    </tr>\n",
       "  </thead>\n",
       "  <tbody>\n",
       "    <tr>\n",
       "      <th>0</th>\n",
       "      <td>0</td>\n",
       "      <td>4</td>\n",
       "      <td>2</td>\n",
       "      <td>0</td>\n",
       "      <td>5</td>\n",
       "      <td>1</td>\n",
       "      <td>0</td>\n",
       "      <td>6</td>\n",
       "      <td>2</td>\n",
       "      <td>0</td>\n",
       "      <td>3</td>\n",
       "      <td>0</td>\n",
       "    </tr>\n",
       "    <tr>\n",
       "      <th>1</th>\n",
       "      <td>0</td>\n",
       "      <td>3</td>\n",
       "      <td>2</td>\n",
       "      <td>5</td>\n",
       "      <td>2</td>\n",
       "      <td>0</td>\n",
       "      <td>1</td>\n",
       "      <td>6</td>\n",
       "      <td>2</td>\n",
       "      <td>0</td>\n",
       "      <td>0</td>\n",
       "      <td>0</td>\n",
       "    </tr>\n",
       "    <tr>\n",
       "      <th>2</th>\n",
       "      <td>2</td>\n",
       "      <td>1</td>\n",
       "      <td>0</td>\n",
       "      <td>4</td>\n",
       "      <td>1</td>\n",
       "      <td>3</td>\n",
       "      <td>1</td>\n",
       "      <td>2</td>\n",
       "      <td>2</td>\n",
       "      <td>0</td>\n",
       "      <td>0</td>\n",
       "      <td>0</td>\n",
       "    </tr>\n",
       "  </tbody>\n",
       "</table>\n",
       "</div>"
      ],
      "text/plain": [
       "   status_enc  primary_track_enc  program_duration_days  \\\n",
       "0           0                  4                      2   \n",
       "1           0                  3                      2   \n",
       "2           2                  1                      0   \n",
       "\n",
       "   highest_level_of_education_enc  biggest_challenge_in_search_enc  \\\n",
       "0                               0                                5   \n",
       "1                               5                                2   \n",
       "2                               4                                1   \n",
       "\n",
       "   professional_experience_enc  work_authorization_status_enc  race_enc  \\\n",
       "0                            1                              0         6   \n",
       "1                            0                              1         6   \n",
       "2                            3                              1         2   \n",
       "\n",
       "   gender_enc  number_of_interviews  number_of_applications  placed  \n",
       "0           2                     0                       3       0  \n",
       "1           2                     0                       0       0  \n",
       "2           2                     0                       0       0  "
      ]
     },
     "execution_count": 61,
     "metadata": {},
     "output_type": "execute_result"
    }
   ],
   "source": [
    "work_enc.head(3)"
   ]
  },
  {
   "cell_type": "markdown",
   "metadata": {},
   "source": [
    "## Step 4: Apply  ML Technique"
   ]
  },
  {
   "cell_type": "markdown",
   "metadata": {},
   "source": [
    "### data"
   ]
  },
  {
   "cell_type": "code",
   "execution_count": 62,
   "metadata": {},
   "outputs": [],
   "source": [
    "work_enc_long = work_enc[[\"status_enc\", \"primary_track_enc\", \n",
    "                                   \"highest_level_of_education_enc\", \"biggest_challenge_in_search_enc\", \"professional_experience_enc\",\n",
    "                                   \"work_authorization_status_enc\", \"race_enc\", \"gender_enc\", \"number_of_interviews\", \"number_of_applications\", \"placed\", \"program_duration_days\"]]"
   ]
  },
  {
   "cell_type": "code",
   "execution_count": 63,
   "metadata": {},
   "outputs": [],
   "source": [
    "work_enc_long;"
   ]
  },
  {
   "cell_type": "code",
   "execution_count": 64,
   "metadata": {},
   "outputs": [],
   "source": [
    "#work_enc = work_enc.drop([\"status_enc\"], axis =1)\n",
    "work_encarray = np.asarray(work_enc)"
   ]
  },
  {
   "cell_type": "code",
   "execution_count": 65,
   "metadata": {},
   "outputs": [],
   "source": [
    "work_encarray;"
   ]
  },
  {
   "cell_type": "code",
   "execution_count": 66,
   "metadata": {},
   "outputs": [],
   "source": [
    "x = work_encarray[:,0:11]\n",
    "y = work_encarray[:,11:12]"
   ]
  },
  {
   "cell_type": "code",
   "execution_count": 67,
   "metadata": {},
   "outputs": [
    {
     "data": {
      "text/plain": [
       "27984"
      ]
     },
     "execution_count": 67,
     "metadata": {},
     "output_type": "execute_result"
    }
   ],
   "source": [
    "x.size"
   ]
  },
  {
   "cell_type": "code",
   "execution_count": 68,
   "metadata": {},
   "outputs": [
    {
     "data": {
      "text/plain": [
       "2544"
      ]
     },
     "execution_count": 68,
     "metadata": {},
     "output_type": "execute_result"
    }
   ],
   "source": [
    "y.size"
   ]
  },
  {
   "cell_type": "code",
   "execution_count": 69,
   "metadata": {},
   "outputs": [],
   "source": [
    "x;"
   ]
  },
  {
   "cell_type": "code",
   "execution_count": 70,
   "metadata": {},
   "outputs": [],
   "source": [
    "y;"
   ]
  },
  {
   "cell_type": "code",
   "execution_count": 71,
   "metadata": {},
   "outputs": [
    {
     "data": {
      "text/plain": [
       "(2544, 11)"
      ]
     },
     "execution_count": 71,
     "metadata": {},
     "output_type": "execute_result"
    }
   ],
   "source": [
    "np.shape(x)"
   ]
  },
  {
   "cell_type": "code",
   "execution_count": 72,
   "metadata": {},
   "outputs": [
    {
     "data": {
      "text/plain": [
       "(2544, 1)"
      ]
     },
     "execution_count": 72,
     "metadata": {},
     "output_type": "execute_result"
    }
   ],
   "source": [
    "np.shape(y)"
   ]
  },
  {
   "cell_type": "code",
   "execution_count": 73,
   "metadata": {},
   "outputs": [
    {
     "data": {
      "text/plain": [
       "(2544, 1)"
      ]
     },
     "execution_count": 73,
     "metadata": {},
     "output_type": "execute_result"
    }
   ],
   "source": [
    "work_enc_longarray = np.asarray(work_enc_long)\n",
    "work_enc_longarray\n",
    "x1 = work_enc_longarray[:,0:11]\n",
    "y1 = work_enc_longarray[:,11:12]\n",
    "np.shape(x1)\n",
    "np.shape(y1)"
   ]
  },
  {
   "cell_type": "markdown",
   "metadata": {},
   "source": [
    "### Logistic Regression"
   ]
  },
  {
   "cell_type": "markdown",
   "metadata": {},
   "source": [
    "### placement"
   ]
  },
  {
   "cell_type": "code",
   "execution_count": 74,
   "metadata": {},
   "outputs": [],
   "source": [
    "from sklearn.model_selection import train_test_split\n",
    "import sklearn\n",
    "from sklearn.linear_model import LogisticRegression"
   ]
  },
  {
   "cell_type": "code",
   "execution_count": 75,
   "metadata": {},
   "outputs": [
    {
     "name": "stdout",
     "output_type": "stream",
     "text": [
      "(2035, 11)\n",
      "(509, 11)\n",
      "(2035, 1)\n",
      "(509, 1)\n"
     ]
    }
   ],
   "source": [
    "test_sizes = 0.20\n",
    "seed = 0\n",
    "X_train, X_test, Y_train, Y_test = train_test_split(x, y, test_size = test_sizes, random_state =seed)\n",
    "print(X_train.shape)\n",
    "print(X_test.shape)\n",
    "print(Y_train.shape)\n",
    "print(Y_test.shape)"
   ]
  },
  {
   "cell_type": "code",
   "execution_count": 76,
   "metadata": {},
   "outputs": [],
   "source": [
    "model = LogisticRegression()"
   ]
  },
  {
   "cell_type": "code",
   "execution_count": 77,
   "metadata": {},
   "outputs": [
    {
     "data": {
      "text/plain": [
       "LogisticRegression(C=1.0, class_weight=None, dual=False, fit_intercept=True,\n",
       "                   intercept_scaling=1, l1_ratio=None, max_iter=100,\n",
       "                   multi_class='auto', n_jobs=None, penalty='l2',\n",
       "                   random_state=None, solver='lbfgs', tol=0.0001, verbose=0,\n",
       "                   warm_start=False)"
      ]
     },
     "execution_count": 77,
     "metadata": {},
     "output_type": "execute_result"
    }
   ],
   "source": [
    "a = model.fit(X_train, Y_train)\n",
    "a"
   ]
  },
  {
   "cell_type": "code",
   "execution_count": 78,
   "metadata": {},
   "outputs": [],
   "source": [
    "predictions = model.predict(X_test)"
   ]
  },
  {
   "cell_type": "code",
   "execution_count": 79,
   "metadata": {},
   "outputs": [],
   "source": [
    "predictions;"
   ]
  },
  {
   "cell_type": "code",
   "execution_count": 80,
   "metadata": {},
   "outputs": [],
   "source": [
    "X_train;"
   ]
  },
  {
   "cell_type": "code",
   "execution_count": 81,
   "metadata": {},
   "outputs": [
    {
     "name": "stdout",
     "output_type": "stream",
     "text": [
      "0.7387033398821218\n"
     ]
    }
   ],
   "source": [
    "X_test;\n",
    "print(a.score(X_test, Y_test))"
   ]
  },
  {
   "cell_type": "code",
   "execution_count": 82,
   "metadata": {},
   "outputs": [
    {
     "name": "stdout",
     "output_type": "stream",
     "text": [
      "[[262  67]\n",
      " [ 66 114]]\n"
     ]
    }
   ],
   "source": [
    "from sklearn.metrics import confusion_matrix\n",
    "confusion_matrixx = confusion_matrix(Y_test, predictions)\n",
    "print(confusion_matrixx)"
   ]
  },
  {
   "cell_type": "code",
   "execution_count": 83,
   "metadata": {},
   "outputs": [],
   "source": [
    "# 262+114 correct, 67+66 incorrect"
   ]
  },
  {
   "cell_type": "code",
   "execution_count": 84,
   "metadata": {},
   "outputs": [
    {
     "name": "stdout",
     "output_type": "stream",
     "text": [
      "              precision    recall  f1-score   support\n",
      "\n",
      "           0       0.80      0.80      0.80       329\n",
      "           1       0.63      0.63      0.63       180\n",
      "\n",
      "    accuracy                           0.74       509\n",
      "   macro avg       0.71      0.71      0.71       509\n",
      "weighted avg       0.74      0.74      0.74       509\n",
      "\n"
     ]
    }
   ],
   "source": [
    "from sklearn.metrics import classification_report\n",
    "print(classification_report(Y_test, predictions))"
   ]
  },
  {
   "cell_type": "code",
   "execution_count": 85,
   "metadata": {},
   "outputs": [
    {
     "name": "stdout",
     "output_type": "stream",
     "text": [
      "program_duration_days 0.6298417909433656\n",
      "status_enc 0.23253357155598953\n",
      "gender_enc 0.19760162453920277\n",
      "professional_experience_enc 0.08766473837908476\n",
      "primary_track_enc 0.08457066620884718\n",
      "race_enc 0.026636579273193416\n",
      "number_of_interviews 0.0051510819563251676\n",
      "highest_level_of_education_enc -0.01334901108191046\n",
      "number_of_applications -0.015108128702744859\n",
      "work_authorization_status_enc -0.02378783499696138\n",
      "biggest_challenge_in_search_enc -0.03241174266032425\n"
     ]
    }
   ],
   "source": [
    "fe = (work_enc[0:11].columns)\n",
    "importance_feature = sorted(zip(fe, model.coef_[0]), key=lambda x:x[1], reverse=True)\n",
    "for f, v in importance_feature:\n",
    "    print(f, v)"
   ]
  },
  {
   "cell_type": "markdown",
   "metadata": {},
   "source": [
    "### Program_Duration_date"
   ]
  },
  {
   "cell_type": "code",
   "execution_count": 86,
   "metadata": {},
   "outputs": [
    {
     "name": "stdout",
     "output_type": "stream",
     "text": [
      "(2035, 11)\n",
      "(509, 11)\n",
      "(2035, 1)\n",
      "(509, 1)\n",
      "0.6286836935166994\n",
      "[[ 45   0  35  42]\n",
      " [  8   0   0  32]\n",
      " [ 11   0 124   0]\n",
      " [ 61   0   0 151]]\n",
      "              precision    recall  f1-score   support\n",
      "\n",
      "           0       0.36      0.37      0.36       122\n",
      "           1       0.00      0.00      0.00        40\n",
      "           2       0.78      0.92      0.84       135\n",
      "           3       0.67      0.71      0.69       212\n",
      "\n",
      "    accuracy                           0.63       509\n",
      "   macro avg       0.45      0.50      0.47       509\n",
      "weighted avg       0.57      0.63      0.60       509\n",
      "\n"
     ]
    }
   ],
   "source": [
    "test_sizes = 0.20\n",
    "seed = 0\n",
    "X_train1, X_test1, Y_train1, Y_test1 = train_test_split(x1, y1, test_size = test_sizes, random_state =seed)\n",
    "print(X_train1.shape)\n",
    "print(X_test1.shape)\n",
    "print(Y_train1.shape)\n",
    "print(Y_test1.shape)\n",
    "\n",
    "model1 = LogisticRegression()\n",
    "a1 = model1.fit(X_train1, Y_train1)\n",
    "a1\n",
    "predictions1 = model1.predict(X_test1)\n",
    "predictions1\n",
    "print(a1.score(X_test1, Y_test1))\n",
    "confusion_matrixx1 = confusion_matrix(Y_test1, predictions1)\n",
    "print(confusion_matrixx1)\n",
    "print(classification_report(Y_test1, predictions1))"
   ]
  },
  {
   "cell_type": "markdown",
   "metadata": {},
   "source": [
    "### Random Forest Classifier"
   ]
  },
  {
   "cell_type": "markdown",
   "metadata": {},
   "source": [
    "### Placed or Not Placed"
   ]
  },
  {
   "cell_type": "code",
   "execution_count": 87,
   "metadata": {},
   "outputs": [],
   "source": [
    "from sklearn.ensemble import RandomForestClassifier"
   ]
  },
  {
   "cell_type": "code",
   "execution_count": 88,
   "metadata": {},
   "outputs": [],
   "source": [
    "modelfc = RandomForestClassifier(max_depth=2, random_state=0)"
   ]
  },
  {
   "cell_type": "code",
   "execution_count": 89,
   "metadata": {},
   "outputs": [],
   "source": [
    "fitfc = modelfc.fit(X_train, Y_train)"
   ]
  },
  {
   "cell_type": "code",
   "execution_count": 90,
   "metadata": {},
   "outputs": [],
   "source": [
    "predictionfc = fitfc.predict(X_test)"
   ]
  },
  {
   "cell_type": "code",
   "execution_count": 91,
   "metadata": {},
   "outputs": [
    {
     "data": {
      "text/plain": [
       "0.9174852652259332"
      ]
     },
     "execution_count": 91,
     "metadata": {},
     "output_type": "execute_result"
    }
   ],
   "source": [
    "fitfc.score(X_test, Y_test)"
   ]
  },
  {
   "cell_type": "code",
   "execution_count": 92,
   "metadata": {},
   "outputs": [
    {
     "data": {
      "text/plain": [
       "array([[329,   0],\n",
       "       [ 42, 138]])"
      ]
     },
     "execution_count": 92,
     "metadata": {},
     "output_type": "execute_result"
    }
   ],
   "source": [
    "confusion_matrix(Y_test, predictionfc)"
   ]
  },
  {
   "cell_type": "code",
   "execution_count": 93,
   "metadata": {},
   "outputs": [
    {
     "name": "stdout",
     "output_type": "stream",
     "text": [
      "              precision    recall  f1-score   support\n",
      "\n",
      "           0       0.89      1.00      0.94       329\n",
      "           1       1.00      0.77      0.87       180\n",
      "\n",
      "    accuracy                           0.92       509\n",
      "   macro avg       0.94      0.88      0.90       509\n",
      "weighted avg       0.93      0.92      0.91       509\n",
      "\n"
     ]
    }
   ],
   "source": [
    "print(classification_report(Y_test, predictionfc))"
   ]
  },
  {
   "cell_type": "code",
   "execution_count": 94,
   "metadata": {},
   "outputs": [
    {
     "name": "stdout",
     "output_type": "stream",
     "text": [
      "status_enc 0.48489966185466543\n",
      "program_duration_days 0.2923250844293756\n",
      "primary_track_enc 0.08801477289733031\n",
      "professional_experience_enc 0.0510889633034032\n",
      "gender_enc 0.019124173073045682\n",
      "race_enc 0.017139426537677856\n",
      "highest_level_of_education_enc 0.014248349573913452\n",
      "work_authorization_status_enc 0.014237799857433906\n",
      "biggest_challenge_in_search_enc 0.013918578780834787\n",
      "number_of_applications 0.004687238417830173\n",
      "number_of_interviews 0.00031595127448962187\n"
     ]
    },
    {
     "data": {
      "text/plain": [
       "Text(0.5, 0, 'Random Forest Classifier Importance features')"
      ]
     },
     "execution_count": 94,
     "metadata": {},
     "output_type": "execute_result"
    },
    {
     "data": {
      "image/png": "[encoded data removed]",
      "text/plain": [
       "<Figure size 432x288 with 1 Axes>"
      ]
     },
     "metadata": {
      "needs_background": "light"
     },
     "output_type": "display_data"
    }
   ],
   "source": [
    "fe = (work_enc[0:11].columns)\n",
    "importance_feature = sorted(zip(fe, modelfc.feature_importances_), key=lambda x:x[1], reverse=True)\n",
    "for f, v in importance_feature:\n",
    "    print(f, v)\n",
    "\n",
    "sorted_idx = modelfc.feature_importances_.argsort()\n",
    "plt.barh(fe[sorted_idx],modelfc.feature_importances_[sorted_idx])\n",
    "plt.xlabel(\"Random Forest Classifier Importance features\")"
   ]
  },
  {
   "cell_type": "markdown",
   "metadata": {},
   "source": [
    "### Program_Duration_date"
   ]
  },
  {
   "cell_type": "code",
   "execution_count": 95,
   "metadata": {},
   "outputs": [
    {
     "name": "stdout",
     "output_type": "stream",
     "text": [
      "0.8290766208251473\n",
      "[[ 86   0   0  36]\n",
      " [  1   0   0  39]\n",
      " [  0   0 124  11]\n",
      " [  0   0   0 212]]\n",
      "              precision    recall  f1-score   support\n",
      "\n",
      "           0       0.99      0.70      0.82       122\n",
      "           1       0.00      0.00      0.00        40\n",
      "           2       1.00      0.92      0.96       135\n",
      "           3       0.71      1.00      0.83       212\n",
      "\n",
      "    accuracy                           0.83       509\n",
      "   macro avg       0.67      0.66      0.65       509\n",
      "weighted avg       0.80      0.83      0.80       509\n",
      "\n"
     ]
    }
   ],
   "source": [
    "modelfc1 = RandomForestClassifier(max_depth=4, random_state=0)\n",
    "fitfc1 = modelfc1.fit(X_train1, Y_train1)\n",
    "fitfc1\n",
    "predictionsfc1 = modelfc1.predict(X_test1)\n",
    "predictionsfc1\n",
    "print(fitfc1.score(X_test1, Y_test1))\n",
    "confusion_matrixxfc1 = confusion_matrix(Y_test1, predictionsfc1)\n",
    "print(confusion_matrixxfc1)\n",
    "print(classification_report(Y_test1, predictionsfc1))"
   ]
  },
  {
   "cell_type": "markdown",
   "metadata": {},
   "source": [
    "### New Data from out of the file to predict with the features if they'll be placed or not"
   ]
  },
  {
   "cell_type": "code",
   "execution_count": 96,
   "metadata": {},
   "outputs": [],
   "source": [
    "new_data = [(0, 3, 2, 0, 6, 1, 0, 6, 1, 0, 2), (1, 3, 1, 0, 6, 1, 0, 5, 1, 0, 1)]"
   ]
  },
  {
   "cell_type": "code",
   "execution_count": 97,
   "metadata": {},
   "outputs": [],
   "source": [
    "x[0];"
   ]
  },
  {
   "cell_type": "code",
   "execution_count": 98,
   "metadata": {},
   "outputs": [],
   "source": [
    "new_array = np.asarray(new_data)"
   ]
  },
  {
   "cell_type": "code",
   "execution_count": 99,
   "metadata": {},
   "outputs": [],
   "source": [
    "labels =[\"not placed\", \"placed\"]"
   ]
  },
  {
   "cell_type": "markdown",
   "metadata": {},
   "source": [
    "#### Logistic Regression with 74%"
   ]
  },
  {
   "cell_type": "code",
   "execution_count": 100,
   "metadata": {},
   "outputs": [],
   "source": [
    "new_predicts = model.predict(new_array)"
   ]
  },
  {
   "cell_type": "code",
   "execution_count": 101,
   "metadata": {},
   "outputs": [
    {
     "name": "stdout",
     "output_type": "stream",
     "text": [
      "(0, 3, 2, 0, 6, 1, 0, 6, 1, 0, 2) not placed\n",
      "(1, 3, 1, 0, 6, 1, 0, 5, 1, 0, 1) not placed\n"
     ]
    }
   ],
   "source": [
    "for i in range(2):\n",
    "    print(new_data[i], labels[int(new_predicts[i])])\n",
    "    "
   ]
  },
  {
   "cell_type": "code",
   "execution_count": 102,
   "metadata": {},
   "outputs": [
    {
     "data": {
      "text/plain": [
       "array([0, 0])"
      ]
     },
     "execution_count": 102,
     "metadata": {},
     "output_type": "execute_result"
    }
   ],
   "source": [
    "new_predicts"
   ]
  },
  {
   "cell_type": "markdown",
   "metadata": {},
   "source": [
    "#### Random Forest Classifier with 91%"
   ]
  },
  {
   "cell_type": "code",
   "execution_count": 103,
   "metadata": {},
   "outputs": [],
   "source": [
    "new_predictfc = modelfc.predict(new_array)"
   ]
  },
  {
   "cell_type": "code",
   "execution_count": 104,
   "metadata": {},
   "outputs": [
    {
     "name": "stdout",
     "output_type": "stream",
     "text": [
      "(0, 3, 2, 0, 6, 1, 0, 6, 1, 0, 2) not placed\n",
      "(1, 3, 1, 0, 6, 1, 0, 5, 1, 0, 1) not placed\n"
     ]
    }
   ],
   "source": [
    "for i in range(2):\n",
    "    print(new_data[i], labels[int(new_predictfc[i])])"
   ]
  },
  {
   "cell_type": "code",
   "execution_count": 105,
   "metadata": {},
   "outputs": [
    {
     "data": {
      "text/plain": [
       "array([0, 0])"
      ]
     },
     "execution_count": 105,
     "metadata": {},
     "output_type": "execute_result"
    }
   ],
   "source": [
    "new_predictfc"
   ]
  },
  {
   "cell_type": "markdown",
   "metadata": {},
   "source": [
    "### New Data from out of the file to predict with the features the program time"
   ]
  },
  {
   "cell_type": "code",
   "execution_count": 106,
   "metadata": {},
   "outputs": [],
   "source": [
    "new_data1 = [(0, 3, 0, 5, 1, 0, 5, 2, 0, 3, 1), (0, 3, 0, 5, 1, 0, 6, 1, 0, 3, 2)]"
   ]
  },
  {
   "cell_type": "code",
   "execution_count": 107,
   "metadata": {},
   "outputs": [],
   "source": [
    "x1[0];"
   ]
  },
  {
   "cell_type": "code",
   "execution_count": 108,
   "metadata": {},
   "outputs": [],
   "source": [
    "new_array1 = np.asarray(new_data1)"
   ]
  },
  {
   "cell_type": "code",
   "execution_count": 109,
   "metadata": {},
   "outputs": [],
   "source": [
    "labels1 =[\"less than equal 30\", \"31-90\", \"don't know (or active)\", \"greater than 90\"]"
   ]
  },
  {
   "cell_type": "markdown",
   "metadata": {},
   "source": [
    "#### Logisitic Regression"
   ]
  },
  {
   "cell_type": "code",
   "execution_count": 110,
   "metadata": {},
   "outputs": [
    {
     "name": "stdout",
     "output_type": "stream",
     "text": [
      "(0, 3, 0, 5, 1, 0, 5, 2, 0, 3, 1) don't know (or active)\n",
      "(0, 3, 0, 5, 1, 0, 6, 1, 0, 3, 2) 31-90\n"
     ]
    },
    {
     "data": {
      "text/plain": [
       "array([2, 1])"
      ]
     },
     "execution_count": 110,
     "metadata": {},
     "output_type": "execute_result"
    }
   ],
   "source": [
    "new_predicts1 = model1.predict(new_array1)\n",
    "for i in range(2):\n",
    "    print(new_data1[i], labels1[int(new_predicts1[i])])\n",
    "new_predicts1"
   ]
  },
  {
   "cell_type": "markdown",
   "metadata": {},
   "source": [
    "#### Random Forest Classifier"
   ]
  },
  {
   "cell_type": "code",
   "execution_count": 111,
   "metadata": {},
   "outputs": [
    {
     "name": "stdout",
     "output_type": "stream",
     "text": [
      "(0, 3, 0, 5, 1, 0, 5, 2, 0, 3, 1) don't know (or active)\n",
      "(0, 3, 0, 5, 1, 0, 6, 1, 0, 3, 2) don't know (or active)\n"
     ]
    },
    {
     "data": {
      "text/plain": [
       "array([2, 2])"
      ]
     },
     "execution_count": 111,
     "metadata": {},
     "output_type": "execute_result"
    }
   ],
   "source": [
    "new_predictfc1 = modelfc1.predict(new_array1)\n",
    "for i in range(2):\n",
    "    print(new_data1[i], labels1[int(new_predictfc1[i])])\n",
    "new_predictfc1"
   ]
  },
  {
   "cell_type": "markdown",
   "metadata": {},
   "source": [
    "To reduce false positives and keep a good ratio with false negatives we need to choose cutoff probabilities that give a good ratio between false positives and false negatives."
   ]
  },
  {
   "cell_type": "markdown",
   "metadata": {},
   "source": [
    "The major impact if the model predicts wrong is a loss of resources for the company or no earnings because if a candidate that is likely to be placed is predicted incorrecrly the company looses its revenue."
   ]
  },
  {
   "cell_type": "markdown",
   "metadata": {},
   "source": [
    "Random forest did better because it is a more sophisticated ml algorithm."
   ]
  },
  {
   "cell_type": "markdown",
   "metadata": {},
   "source": [
    "## Step 5: Insights share"
   ]
  },
  {
   "cell_type": "markdown",
   "metadata": {},
   "source": [
    "<pre>\n",
    "Just to start, we shall see the various insights from withdrawal so that we can make an estimate about when a person gets enrolled how likely are they going to withdraw that is an auto not placed.\n",
    "\n",
    "\n",
    "The total withdrawn rates are 29% including trial and failure and other.\n",
    "\n",
    "The percent withdrawn with the trail ending are 10%.\n",
    "\n",
    "Out of the total withdrawn (trail, failure and other), percentage withdrawn in trail are 36%\n",
    "\n",
    "out of the number of people not withdrawn the percentage places is - 53% (this excludes active)\n",
    "\n",
    "out of the number of people not withdrawn the percentage places and is active - 83%\n",
    "</pre>\n"
   ]
  },
  {
   "cell_type": "markdown",
   "metadata": {},
   "source": [
    "###### Some insights for categories and areas"
   ]
  },
  {
   "cell_type": "markdown",
   "metadata": {},
   "source": [
    "People with work authorisation not authorised are all enrolled and they don't get places so maybe focus on not enrolling people with no work authorisation."
   ]
  },
  {
   "cell_type": "markdown",
   "metadata": {},
   "source": [
    "<pe>Over all placed more people with less than 10 interviews although as the interviews increase the gap between placed and not placed decreases. </pe>"
   ]
  },
  {
   "cell_type": "markdown",
   "metadata": {},
   "source": [
    "Some features and groups that are great (higher averages) when being placed and are places are in marketing tracks, at least some high school education and enrolled in a high school (so no include ged), usually have issues relating to resume gaps and have at least 3-4 years of experience, between 20-30 applications, with overall around 10 interviews are more likely to be placed.\n",
    "\n",
    "Some features and groups that are great (higher averages) to show not placement are in deferred status, SWE track (probably because the total amounts are more as well), struggle with technical interviewing, a lot of experience, and very few applications less than 10."
   ]
  },
  {
   "cell_type": "markdown",
   "metadata": {},
   "source": [
    "For the logistic classification model: program duration is an important feature while biggest challenges in searching doesn't weight as much. So, while researching manually focus more on average times it takes for people to be placed.\n",
    "\n",
    "For random forest classification model: status is an important feature and number of interviews isn't, so while manually focusing we can give more weight to percentages and proportions in status."
   ]
  },
  {
   "cell_type": "markdown",
   "metadata": {},
   "source": [
    "<pe>\n",
    "> Knowing that marketing track does well, consider reaching out to more people with that track. <br>\n",
    "> Don't enroll people with no work authorisation <br>\n",
    "> Average interviews that are good is around 10 <br>\n",
    "> Resume gap issues usually have success in place <br>\n",
    "> Defer only people who need it a lot  <br>\n",
    "> People struggling with technical interviewing are less likely to be placed so focus more on their technical skills. <br>\n",
    "</pe>"
   ]
  },
  {
   "cell_type": "markdown",
   "metadata": {},
   "source": [
    "-----------------------------------------------------------\n",
    "Around 80% of the people that are enrolled in are going to be placed.\n",
    "SWE track people normally get placed the most (higher average) in under or equal to 30 days.\n",
    "Design track people normally get placed the most (higher average) 31-90 days.\n",
    "Web track people normally get placed the most (higher average) in more than 90 days.\n",
    "\n",
    "Overall with a higher average for less than equal to 30 days although it is overall equivalent for less than 30, 31-90 and more than 90 and null.\n"
   ]
  }
 ],
 "metadata": {
  "kernelspec": {
   "display_name": "Python 3",
   "language": "python",
   "name": "python3"
  },
  "language_info": {
   "codemirror_mode": {
    "name": "ipython",
    "version": 3
   },
   "file_extension": ".py",
   "mimetype": "text/x-python",
   "name": "python",
   "nbconvert_exporter": "python",
   "pygments_lexer": "ipython3",
   "version": "3.7.6"
  }
 },
 "nbformat": 4,
 "nbformat_minor": 4
}
